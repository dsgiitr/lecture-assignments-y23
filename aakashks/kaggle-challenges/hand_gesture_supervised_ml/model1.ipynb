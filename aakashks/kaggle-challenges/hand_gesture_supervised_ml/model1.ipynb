{
 "cells": [
  {
   "cell_type": "markdown",
   "id": "b394cd02",
   "metadata": {},
   "source": [
    "## Importing modules and data"
   ]
  },
  {
   "cell_type": "code",
   "execution_count": 1,
   "id": "initial_id",
   "metadata": {
    "ExecuteTime": {
     "end_time": "2023-08-12T17:31:52.106312600Z",
     "start_time": "2023-08-12T17:31:51.945489600Z"
    },
    "collapsed": true
   },
   "outputs": [],
   "source": [
    "import matplotlib.pyplot as plt\n",
    "import numpy as np\n",
    "import pandas as pd\n",
    "\n",
    "from sklearn.metrics import confusion_matrix, ConfusionMatrixDisplay, accuracy_score, classification_report, \\\n",
    "    precision_score, roc_auc_score\n",
    "from sklearn.model_selection import cross_val_score\n",
    "\n"
   ]
  },
  {
   "cell_type": "code",
   "execution_count": 2,
   "id": "3f3e3fdc6c9838f0",
   "metadata": {
    "ExecuteTime": {
     "end_time": "2023-08-12T17:31:52.169534400Z",
     "start_time": "2023-08-12T17:31:51.962648200Z"
    },
    "collapsed": false
   },
   "outputs": [],
   "source": [
    "INPUT_PATH = 'hand_gesture_data'\n",
    "features = ['vlhx', 'vlhy', 'vlhz', 'vrhx', 'vrhy', 'vrhz', 'vlwx', 'vlwy', 'vlwz', \n",
    "            'vrwx', 'vrwy', 'vrwz', 'alhx', 'alhy', 'alhz', 'arhx', 'arhy', 'arhz', \n",
    "            'alwx', 'alwy', 'alwz', 'arwx', 'arwy', 'arwz', \n",
    "            'vlh', 'vrh', 'vlw', 'vrw', 'alh', 'arh', 'alw', 'arw']"
   ]
  },
  {
   "cell_type": "code",
   "execution_count": 3,
   "id": "3fa33c98b5d50d",
   "metadata": {
    "ExecuteTime": {
     "end_time": "2023-08-12T17:31:52.169534400Z",
     "start_time": "2023-08-12T17:31:51.975650100Z"
    },
    "collapsed": false
   },
   "outputs": [],
   "source": [
    "def join_raw_va3(data_raw, data_va3, testData=False):\n",
    "    # redundant column in both\n",
    "    data_raw = data_raw.drop('phase', axis=1) if not testData else data_raw.drop(['phase', 'timestamp'], axis=1)\n",
    "    \n",
    "    # add column names for the processed data (as it didn't have)\n",
    "    data_va3.columns = features + ['Phase'] if not testData else features\n",
    "    \n",
    "    # outer join merge of the 2 datas\n",
    "    final_data = pd.concat([data_raw.iloc[4:].reset_index(drop=True), data_va3], axis=1)\n",
    "    \n",
    "    return final_data\n"
   ]
  },
  {
   "cell_type": "code",
   "execution_count": 4,
   "id": "3e441487b7b50ef",
   "metadata": {
    "ExecuteTime": {
     "end_time": "2023-08-12T17:31:52.169534400Z",
     "start_time": "2023-08-12T17:31:51.990474900Z"
    },
    "collapsed": false
   },
   "outputs": [],
   "source": [
    "a1_raw = pd.read_csv(INPUT_PATH + '/a1_raw.csv')\n",
    "a1_va3 = pd.read_csv(INPUT_PATH + '/a1_va3.csv')\n",
    "\n",
    "a1 = join_raw_va3(a1_raw, a1_va3)"
   ]
  },
  {
   "cell_type": "code",
   "execution_count": 5,
   "id": "64ed1eb14c5a6440",
   "metadata": {
    "ExecuteTime": {
     "end_time": "2023-08-12T17:31:52.169534400Z",
     "start_time": "2023-08-12T17:31:52.038035100Z"
    },
    "collapsed": false
   },
   "outputs": [
    {
     "data": {
      "text/plain": [
       "Index(['lhx', 'lhy', 'lhz', 'rhx', 'rhy', 'rhz', 'hx', 'hy', 'hz', 'sx', 'sy',\n",
       "       'sz', 'lwx', 'lwy', 'lwz', 'rwx', 'rwy', 'rwz', 'timestamp', 'vlhx',\n",
       "       'vlhy', 'vlhz', 'vrhx', 'vrhy', 'vrhz', 'vlwx', 'vlwy', 'vlwz', 'vrwx',\n",
       "       'vrwy', 'vrwz', 'alhx', 'alhy', 'alhz', 'arhx', 'arhy', 'arhz', 'alwx',\n",
       "       'alwy', 'alwz', 'arwx', 'arwy', 'arwz', 'vlh', 'vrh', 'vlw', 'vrw',\n",
       "       'alh', 'arh', 'alw', 'arw', 'Phase'],\n",
       "      dtype='object')"
      ]
     },
     "execution_count": 5,
     "metadata": {},
     "output_type": "execute_result"
    }
   ],
   "source": [
    "a1.columns"
   ]
  },
  {
   "cell_type": "markdown",
   "id": "320054e6",
   "metadata": {},
   "source": [
    "## Preprocessing"
   ]
  },
  {
   "cell_type": "markdown",
   "id": "1e9aa0fb",
   "metadata": {},
   "source": [
    "### Feature Engineering"
   ]
  },
  {
   "cell_type": "code",
   "execution_count": 6,
   "id": "4c3f5435cf0918da",
   "metadata": {
    "ExecuteTime": {
     "end_time": "2023-08-12T17:31:52.169534400Z",
     "start_time": "2023-08-12T17:31:52.053644500Z"
    },
    "collapsed": false
   },
   "outputs": [],
   "source": [
    "for col in ['', 'v', 'a']:\n",
    "    for pos in 'lr':\n",
    "        for coord in 'xyz':\n",
    "            a1[col + pos + coord] = (a1[col + pos + 'h' + coord] + a1[col + pos + 'w' + coord])/2"
   ]
  },
  {
   "cell_type": "code",
   "execution_count": 7,
   "id": "3da1c683f7fa0965",
   "metadata": {
    "ExecuteTime": {
     "end_time": "2023-08-12T17:31:52.169534400Z",
     "start_time": "2023-08-12T17:31:52.079615400Z"
    },
    "collapsed": false
   },
   "outputs": [],
   "source": [
    "X_ = a1.loc[:, [col + pos + coord for col in ['', 'v', 'a'] for pos in 'lr' for coord in 'xyz'] + ['vlh', 'vrh', 'alh', 'arh']]\n",
    "y_ = a1['Phase']"
   ]
  },
  {
   "cell_type": "code",
   "execution_count": null,
   "id": "093f48fb",
   "metadata": {},
   "outputs": [],
   "source": [
    "X_.columns"
   ]
  },
  {
   "cell_type": "markdown",
   "id": "eeb55e11",
   "metadata": {},
   "source": [
    "### Encoding and Scaling"
   ]
  },
  {
   "cell_type": "code",
   "execution_count": 8,
   "id": "dc7734276d29b568",
   "metadata": {
    "ExecuteTime": {
     "end_time": "2023-08-12T17:31:52.169534400Z",
     "start_time": "2023-08-12T17:31:52.095418800Z"
    },
    "collapsed": false
   },
   "outputs": [],
   "source": [
    "from sklearn.preprocessing import StandardScaler, LabelEncoder\n",
    "\n",
    "encoder = LabelEncoder()\n",
    "scaler = StandardScaler()\n",
    "\n",
    "y = encoder.fit_transform(y_)\n",
    "X = scaler.fit_transform(X_)"
   ]
  },
  {
   "cell_type": "markdown",
   "id": "83fea121",
   "metadata": {},
   "source": [
    "### Train Test Split"
   ]
  },
  {
   "cell_type": "code",
   "execution_count": 9,
   "id": "21f4c3832c7c22d2",
   "metadata": {
    "ExecuteTime": {
     "end_time": "2023-08-12T17:31:52.169534400Z",
     "start_time": "2023-08-12T17:31:52.132220300Z"
    },
    "collapsed": false
   },
   "outputs": [],
   "source": [
    "from sklearn.model_selection import train_test_split\n",
    "\n",
    "X_train, X_test, y_train, y_test = train_test_split(X, y, stratify=y, test_size=0.25, random_state=42)"
   ]
  },
  {
   "cell_type": "code",
   "execution_count": 10,
   "id": "e9aa0036b6c3d599",
   "metadata": {
    "ExecuteTime": {
     "end_time": "2023-08-12T17:31:52.171831600Z",
     "start_time": "2023-08-12T17:31:52.148650300Z"
    },
    "collapsed": false
   },
   "outputs": [
    {
     "data": {
      "text/plain": [
       "((1307, 22), (436, 22), (1307,), (436,))"
      ]
     },
     "execution_count": 10,
     "metadata": {},
     "output_type": "execute_result"
    }
   ],
   "source": [
    "X_train.shape, X_test.shape, y_train.shape, y_test.shape"
   ]
  },
  {
   "cell_type": "markdown",
   "id": "d767ea52",
   "metadata": {},
   "source": [
    "## Checking on validation set"
   ]
  },
  {
   "cell_type": "code",
   "execution_count": 11,
   "id": "e47ad17cc2ba134a",
   "metadata": {
    "ExecuteTime": {
     "end_time": "2023-08-12T17:31:53.003467800Z",
     "start_time": "2023-08-12T17:31:52.165010200Z"
    },
    "collapsed": false
   },
   "outputs": [],
   "source": [
    "from sklearn.ensemble import RandomForestClassifier\n",
    "\n",
    "model = RandomForestClassifier(random_state=42)\n",
    "\n",
    "model.fit(X_train, y_train)\n",
    "y_pred = encoder.inverse_transform(model.predict(X_test))\n",
    "y_test = encoder.inverse_transform(y_test)\n",
    "y_pred_proba = model.predict_proba(X_test)"
   ]
  },
  {
   "cell_type": "code",
   "execution_count": 12,
   "id": "7e9a5f926426d496",
   "metadata": {
    "ExecuteTime": {
     "end_time": "2023-08-12T17:31:53.030593100Z",
     "start_time": "2023-08-12T17:31:53.008509900Z"
    },
    "collapsed": false
   },
   "outputs": [],
   "source": [
    "def plot_metrics(y_true, y_pred, y_pred_proba):\n",
    "    # Show metrics like F1 score precision etc\n",
    "    print(f'Accuracy: {accuracy_score(y_true, y_pred)*100:.4f}%')\n",
    "\n",
    "    print(f'ROC-AUC score: {roc_auc_score(y_true, y_pred_proba, multi_class=\"ovr\"):.4f}')\n",
    "    print(classification_report(y_true, y_pred))\n",
    "    \n",
    "    # Plot confusion matrix\n",
    "    fig, axes = plt.subplots(1, 2, figsize=(12, 5))\n",
    "    \n",
    "    cm_list = [confusion_matrix(y_true, y_pred, normalize='true'), confusion_matrix(y_true, y_pred)]\n",
    "    \n",
    "    for cm, ax in zip(cm_list, axes):\n",
    "        ConfusionMatrixDisplay(confusion_matrix=cm).plot(ax=ax)\n",
    "        ax.grid(False)"
   ]
  },
  {
   "cell_type": "code",
   "execution_count": 13,
   "id": "b00cc7617506c956",
   "metadata": {
    "ExecuteTime": {
     "end_time": "2023-08-12T17:31:53.566171300Z",
     "start_time": "2023-08-12T17:31:53.022289500Z"
    },
    "collapsed": false
   },
   "outputs": [
    {
     "name": "stdout",
     "output_type": "stream",
     "text": [
      "Accuracy: 88.7615%\n",
      "ROC-AUC score: 0.9720\n",
      "              precision    recall  f1-score   support\n",
      "\n",
      "           D       0.90      0.98      0.94       173\n",
      "           H       0.67      0.40      0.50        10\n",
      "           P       0.95      0.44      0.60        41\n",
      "           R       0.94      0.69      0.80        48\n",
      "           S       0.87      0.99      0.92       164\n",
      "\n",
      "    accuracy                           0.89       436\n",
      "   macro avg       0.86      0.70      0.75       436\n",
      "weighted avg       0.89      0.89      0.88       436\n",
      "\n"
     ]
    },
    {
     "data": {
      "image/png": "[encoded data removed]",
      "text/plain": [
       "<Figure size 1200x500 with 4 Axes>"
      ]
     },
     "metadata": {},
     "output_type": "display_data"
    }
   ],
   "source": [
    "plot_metrics(y_test, y_pred, y_pred_proba)"
   ]
  },
  {
   "cell_type": "markdown",
   "id": "c7485e85",
   "metadata": {},
   "source": [
    "## Final Test"
   ]
  },
  {
   "cell_type": "markdown",
   "id": "4d1ef5a9",
   "metadata": {},
   "source": [
    "### Importing and transforming test data"
   ]
  },
  {
   "cell_type": "code",
   "execution_count": 14,
   "id": "55534c53262ec840",
   "metadata": {
    "ExecuteTime": {
     "end_time": "2023-08-12T17:31:53.633358400Z",
     "start_time": "2023-08-12T17:31:53.570442700Z"
    },
    "collapsed": false
   },
   "outputs": [],
   "source": [
    "submission_va3 = pd.read_csv(INPUT_PATH+ '/test.csv')\n",
    "submission_raw = pd.read_csv(INPUT_PATH + '/a2_raw.csv')\n",
    "final_test_data = join_raw_va3(submission_raw, submission_va3, testData=True)\n",
    "\n",
    "for col in ['', 'v', 'a']:\n",
    "    for pos in 'lr':\n",
    "        for coord in 'xyz':\n",
    "            final_test_data[col + pos + coord] = (final_test_data[col + pos + 'h' + coord] + final_test_data[col + pos + 'w' + coord]) / 2\n",
    "\n",
    "X_submission = scaler.transform(final_test_data.loc[:, [col + pos + coord for col in ['', 'v', 'a'] for pos in 'lr' for coord in 'xyz'] + ['vlh', 'vrh', 'alh', 'arh']])"
   ]
  },
  {
   "cell_type": "markdown",
   "id": "cb715d19",
   "metadata": {},
   "source": [
    "### Running Final Model"
   ]
  },
  {
   "cell_type": "code",
   "execution_count": 24,
   "id": "cb983ba28adffd63",
   "metadata": {
    "ExecuteTime": {
     "end_time": "2023-08-12T17:43:00.090331800Z",
     "start_time": "2023-08-12T17:42:56.016100100Z"
    },
    "collapsed": false
   },
   "outputs": [],
   "source": [
    "from xgboost import XGBClassifier\n",
    "\n",
    "params = {\n",
    "    'booster': 'gbtree', \n",
    "    'lambda': 0.2475451263113875, \n",
    "    'alpha': 8.772147097117102e-06, \n",
    "    'subsample': 0.8931113403774391, \n",
    "    'colsample_bytree': 0.720784592951692, \n",
    "    'max_depth': 9, \n",
    "    'min_child_weight': 2, \n",
    "    'eta': 0.37168889056708165, \n",
    "    'gamma': 0.31960236227919525, \n",
    "    'grow_policy': 'depthwise'\n",
    "}\n",
    "\n",
    "model = XGBClassifier(**params)\n",
    "\n",
    "\n",
    "model.fit(X, y)\n",
    "\n",
    "y_pred_submission = encoder.inverse_transform(model.predict(X_submission))\n",
    "y_pred_proba = model.predict_proba(X_submission)"
   ]
  },
  {
   "cell_type": "markdown",
   "id": "8d5f13fe",
   "metadata": {},
   "source": [
    "### Submitting Predictions"
   ]
  },
  {
   "cell_type": "code",
   "execution_count": 25,
   "id": "2185da49d9342279",
   "metadata": {
    "ExecuteTime": {
     "end_time": "2023-08-12T17:43:00.116283700Z",
     "start_time": "2023-08-12T17:43:00.090331800Z"
    },
    "collapsed": false
   },
   "outputs": [],
   "source": [
    "def submit_prediction(y_pred, name='try'):\n",
    "    submission = pd.DataFrame({'ID': range(1, y_pred.size+1), 'Phase': y_pred})\n",
    "    submission.to_csv(f'submissions/{name}.csv', index=False)"
   ]
  },
  {
   "cell_type": "code",
   "execution_count": 26,
   "id": "8573a656dcc429f8",
   "metadata": {
    "ExecuteTime": {
     "end_time": "2023-08-12T17:46:29.088433900Z",
     "start_time": "2023-08-12T17:46:29.065753900Z"
    },
    "collapsed": false
   },
   "outputs": [],
   "source": [
    "# submit_prediction(y_pred_submission, 'hpt_xgb_69_6')"
   ]
  }
 ],
 "metadata": {
  "kernelspec": {
   "display_name": "Python 3",
   "language": "python",
   "name": "python3"
  },
  "language_info": {
   "codemirror_mode": {
    "name": "ipython",
    "version": 3
   },
   "file_extension": ".py",
   "mimetype": "text/x-python",
   "name": "python",
   "nbconvert_exporter": "python",
   "pygments_lexer": "ipython3",
   "version": "3.10.8"
  }
 },
 "nbformat": 4,
 "nbformat_minor": 5
}
