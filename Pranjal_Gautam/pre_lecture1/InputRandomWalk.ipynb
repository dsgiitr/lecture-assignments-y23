{
 "cells": [
  {
   "cell_type": "code",
   "execution_count": 10,
   "id": "8f1e6a1d",
   "metadata": {},
   "outputs": [
    {
     "name": "stdout",
     "output_type": "stream",
     "text": [
      "6\n",
      "-3\n",
      "-5\n",
      "-6\n",
      "-7\n",
      "-1\n",
      "20\n"
     ]
    }
   ],
   "source": [
    "from tqdm import tqdm\n",
    "import matplotlib.pyplot as plt\n",
    "import time\n",
    "import random\n",
    "position=0\n",
    "dict3={}\n",
    "inputl=[]\n",
    "n=int(input())\n",
    "for i in range(n):\n",
    "    inputl.append(int(input()))"
   ]
  },
  {
   "cell_type": "code",
   "execution_count": 11,
   "id": "c314900d",
   "metadata": {},
   "outputs": [
    {
     "name": "stderr",
     "output_type": "stream",
     "text": [
      "100%|██████████████████████████████████████████████████████████████| 1000000/1000000 [00:46<00:00, 21587.27it/s]"
     ]
    },
    {
     "name": "stdout",
     "output_type": "stream",
     "text": [
      "-33.340999 93115.69409440065\n"
     ]
    },
    {
     "name": "stderr",
     "output_type": "stream",
     "text": [
      "\n"
     ]
    }
   ],
   "source": [
    "dict1={}\n",
    "for i in tqdm(range(1000000)):\n",
    "    position=0\n",
    "    for i in range(100):\n",
    "        position+=inputl[random.randint(0,n-1)]\n",
    "    if position in dict1:\n",
    "        dict1[position]+=1\n",
    "    else:\n",
    "        dict1[position]=1\n",
    "mean=0\n",
    "for i in dict1.keys():\n",
    "    mean+=i*dict1[i]\n",
    "points=0\n",
    "for i in dict1.values():\n",
    "    points+=i\n",
    "mean/=points\n",
    "std=0\n",
    "for i in dict1.keys():\n",
    "    std+=((i-mean)**2)*dict1[i]\n",
    "print(mean,pow(std,0.5))"
   ]
  },
  {
   "cell_type": "code",
   "execution_count": 13,
   "id": "83592893",
   "metadata": {},
   "outputs": [
    {
     "name": "stdout",
     "output_type": "stream",
     "text": [
      "{-407: 1, -398: 1, -396: 1, -389: 1, -385: 1, -384: 1, -382: 2, -381: 1, -379: 1, -378: 1, -377: 2, -374: 1, -372: 2, -370: 1, -369: 2, -367: 1, -366: 3, -365: 2, -364: 1, -363: 1, -362: 3, -361: 3, -360: 2, -359: 1, -357: 1, -356: 2, -355: 5, -354: 3, -353: 7, -352: 3, -351: 2, -350: 1, -349: 3, -348: 4, -347: 4, -346: 7, -345: 6, -344: 10, -343: 2, -342: 7, -341: 6, -340: 6, -339: 7, -338: 5, -337: 6, -336: 3, -335: 10, -334: 4, -333: 12, -332: 10, -331: 9, -330: 11, -329: 15, -328: 10, -327: 20, -326: 12, -325: 7, -324: 17, -323: 13, -322: 14, -321: 16, -320: 16, -319: 14, -318: 18, -317: 20, -316: 24, -315: 18, -314: 25, -313: 19, -312: 31, -311: 21, -310: 23, -309: 33, -308: 36, -307: 41, -306: 35, -305: 28, -304: 28, -303: 35, -302: 43, -301: 39, -300: 40, -299: 35, -298: 53, -297: 52, -296: 42, -295: 49, -294: 52, -293: 63, -292: 62, -291: 57, -290: 68, -289: 76, -288: 81, -287: 82, -286: 61, -285: 76, -284: 81, -283: 90, -282: 73, -281: 81, -280: 70, -279: 101, -278: 119, -277: 98, -276: 103, -275: 102, -274: 108, -273: 117, -272: 123, -271: 124, -270: 118, -269: 140, -268: 120, -267: 147, -266: 129, -265: 161, -264: 141, -263: 157, -262: 184, -261: 155, -260: 174, -259: 172, -258: 185, -257: 198, -256: 196, -255: 196, -254: 218, -253: 250, -252: 226, -251: 225, -250: 214, -249: 229, -248: 273, -247: 249, -246: 283, -245: 264, -244: 288, -243: 299, -242: 291, -241: 317, -240: 277, -239: 313, -238: 367, -237: 349, -236: 364, -235: 389, -234: 392, -233: 336, -232: 398, -231: 420, -230: 408, -229: 425, -228: 427, -227: 483, -226: 482, -225: 488, -224: 474, -223: 525, -222: 538, -221: 560, -220: 533, -219: 510, -218: 542, -217: 548, -216: 579, -215: 588, -214: 601, -213: 641, -212: 686, -211: 633, -210: 661, -209: 675, -208: 694, -207: 726, -206: 732, -205: 805, -204: 737, -203: 768, -202: 839, -201: 818, -200: 819, -199: 940, -198: 927, -197: 955, -196: 993, -195: 1001, -194: 965, -193: 965, -192: 1018, -191: 988, -190: 1055, -189: 1057, -188: 1080, -187: 1137, -186: 1129, -185: 1168, -184: 1208, -183: 1217, -182: 1220, -181: 1157, -180: 1327, -179: 1301, -178: 1302, -177: 1315, -176: 1363, -175: 1388, -174: 1308, -173: 1458, -172: 1468, -171: 1409, -170: 1533, -169: 1574, -168: 1592, -167: 1586, -166: 1620, -165: 1599, -164: 1699, -163: 1688, -162: 1743, -161: 1783, -160: 1856, -159: 1753, -158: 1775, -157: 1853, -156: 1912, -155: 1887, -154: 1920, -153: 1968, -152: 2041, -151: 2012, -150: 1981, -149: 2056, -148: 2226, -147: 2167, -146: 2175, -145: 2197, -144: 2183, -143: 2173, -142: 2294, -141: 2237, -140: 2417, -139: 2411, -138: 2346, -137: 2500, -136: 2478, -135: 2517, -134: 2491, -133: 2559, -132: 2711, -131: 2554, -130: 2604, -129: 2690, -128: 2737, -127: 2615, -126: 2776, -125: 2786, -124: 2834, -123: 2873, -122: 2902, -121: 2993, -120: 3016, -119: 2953, -118: 2994, -117: 3076, -116: 3046, -115: 3085, -114: 3120, -113: 3124, -112: 3095, -111: 3118, -110: 3262, -109: 3288, -108: 3338, -107: 3363, -106: 3232, -105: 3356, -104: 3359, -103: 3466, -102: 3477, -101: 3492, -100: 3510, -99: 3403, -98: 3494, -97: 3623, -96: 3576, -95: 3575, -94: 3788, -93: 3570, -92: 3710, -91: 3742, -90: 3726, -89: 3607, -88: 3792, -87: 3707, -86: 3778, -85: 3978, -84: 3820, -83: 3910, -82: 3830, -81: 3894, -80: 3917, -79: 4022, -78: 3858, -77: 3927, -76: 4009, -75: 4058, -74: 4096, -73: 3980, -72: 3971, -71: 4100, -70: 4085, -69: 4201, -68: 4108, -67: 4135, -66: 4107, -65: 4210, -64: 4140, -63: 4134, -62: 4155, -61: 4098, -60: 4155, -59: 4073, -58: 4268, -57: 4356, -56: 4241, -55: 4236, -54: 4190, -53: 4271, -52: 4364, -51: 4253, -50: 4243, -49: 4235, -48: 4314, -47: 4302, -46: 4381, -45: 4417, -44: 4147, -43: 4260, -42: 4283, -41: 4248, -40: 4281, -39: 4314, -38: 4140, -37: 4284, -36: 4259, -35: 4236, -34: 4184, -33: 4249, -32: 4296, -31: 4362, -30: 4103, -29: 4131, -28: 4164, -27: 4342, -26: 4262, -25: 4167, -24: 4196, -23: 4155, -22: 4169, -21: 4179, -20: 4172, -19: 4177, -18: 4159, -17: 4138, -16: 4234, -15: 4072, -14: 4173, -13: 4044, -12: 4016, -11: 4084, -10: 4003, -9: 4051, -8: 4035, -7: 4054, -6: 3947, -5: 3945, -4: 4035, -3: 3899, -2: 4010, -1: 3876, 0: 3867, 1: 3835, 2: 3859, 3: 3926, 4: 3687, 5: 3789, 6: 3716, 7: 3771, 8: 3770, 9: 3681, 10: 3649, 11: 3683, 12: 3713, 13: 3674, 14: 3553, 15: 3602, 16: 3650, 17: 3574, 18: 3405, 19: 3481, 20: 3554, 21: 3554, 22: 3401, 23: 3475, 24: 3429, 25: 3434, 26: 3402, 27: 3367, 28: 3339, 29: 3172, 30: 3289, 31: 3222, 32: 3220, 33: 3147, 34: 3112, 35: 3123, 36: 3054, 37: 3095, 38: 3131, 39: 2963, 40: 2986, 41: 2910, 42: 2917, 43: 2897, 44: 2874, 45: 2866, 46: 2850, 47: 2810, 48: 2850, 49: 2775, 50: 2637, 51: 2701, 52: 2674, 53: 2678, 54: 2683, 55: 2515, 56: 2580, 57: 2548, 58: 2476, 59: 2533, 60: 2513, 61: 2492, 62: 2433, 63: 2450, 64: 2281, 65: 2278, 66: 2284, 67: 2259, 68: 2230, 69: 2219, 70: 2154, 71: 2274, 72: 2154, 73: 2140, 74: 2057, 75: 2049, 76: 2111, 77: 2126, 78: 2015, 79: 1977, 80: 1912, 81: 1957, 82: 1967, 83: 1889, 84: 1828, 85: 1760, 86: 1863, 87: 1779, 88: 1746, 89: 1701, 90: 1672, 91: 1676, 92: 1695, 93: 1597, 94: 1662, 95: 1634, 96: 1589, 97: 1525, 98: 1459, 99: 1508, 100: 1523, 101: 1542, 102: 1471, 103: 1425, 104: 1454, 105: 1318, 106: 1328, 107: 1353, 108: 1312, 109: 1324, 110: 1371, 111: 1291, 112: 1210, 113: 1158, 114: 1173, 115: 1176, 116: 1150, 117: 1179, 118: 1168, 119: 1119, 120: 1082, 121: 1072, 122: 996, 123: 1037, 124: 1039, 125: 1024, 126: 978, 127: 962, 128: 1018, 129: 959, 130: 933, 131: 905, 132: 880, 133: 925, 134: 845, 135: 828, 136: 793, 137: 805, 138: 830, 139: 798, 140: 803, 141: 752, 142: 743, 143: 725, 144: 689, 145: 700, 146: 706, 147: 687, 148: 648, 149: 676, 150: 643, 151: 626, 152: 641, 153: 620, 154: 576, 155: 586, 156: 596, 157: 563, 158: 600, 159: 575, 160: 546, 161: 544, 162: 507, 163: 507, 164: 490, 165: 474, 166: 444, 167: 458, 168: 436, 169: 402, 170: 452, 171: 435, 172: 431, 173: 414, 174: 413, 175: 409, 176: 364, 177: 329, 178: 393, 179: 319, 180: 356, 181: 353, 182: 321, 183: 330, 184: 312, 185: 311, 186: 315, 187: 306, 188: 292, 189: 286, 190: 273, 191: 278, 192: 273, 193: 293, 194: 237, 195: 248, 196: 244, 197: 217, 198: 238, 199: 206, 200: 197, 201: 212, 202: 227, 203: 208, 204: 196, 205: 217, 206: 213, 207: 192, 208: 180, 209: 154, 210: 187, 211: 183, 212: 147, 213: 172, 214: 137, 215: 161, 216: 150, 217: 166, 218: 127, 219: 128, 220: 109, 221: 133, 222: 135, 223: 115, 224: 109, 225: 123, 226: 121, 227: 126, 228: 116, 229: 113, 230: 85, 231: 101, 232: 104, 233: 98, 234: 91, 235: 77, 236: 101, 237: 96, 238: 104, 239: 87, 240: 77, 241: 78, 242: 67, 243: 79, 244: 85, 245: 81, 246: 67, 247: 65, 248: 66, 249: 68, 250: 61, 251: 61, 252: 71, 253: 69, 254: 58, 255: 49, 256: 49, 257: 53, 258: 49, 259: 63, 260: 41, 261: 52, 262: 30, 263: 32, 264: 42, 265: 35, 266: 47, 267: 27, 268: 41, 269: 37, 270: 34, 271: 20, 272: 38, 273: 38, 274: 27, 275: 23, 276: 32, 277: 32, 278: 31, 279: 30, 280: 28, 281: 15, 282: 35, 283: 22, 284: 24, 285: 25, 286: 27, 287: 17, 288: 16, 289: 10, 290: 25, 291: 18, 292: 13, 293: 15, 294: 19, 295: 17, 296: 19, 297: 17, 298: 10, 299: 16, 300: 23, 301: 15, 302: 7, 303: 12, 304: 12, 305: 14, 306: 13, 307: 11, 308: 7, 309: 14, 310: 12, 311: 8, 312: 9, 313: 9, 314: 9, 315: 10, 316: 13, 317: 3, 318: 4, 319: 2, 320: 5, 321: 4, 322: 9, 323: 3, 324: 8, 325: 4, 326: 4, 327: 8, 328: 10, 329: 7, 330: 5, 331: 6, 332: 11, 333: 6, 334: 4, 335: 6, 336: 2, 337: 4, 338: 8, 339: 5, 340: 4, 341: 2, 342: 3, 343: 4, 344: 4, 345: 3, 346: 3, 347: 5, 348: 2, 350: 2, 352: 2, 353: 2, 355: 3, 356: 2, 357: 1, 359: 2, 360: 2, 361: 2, 362: 3, 363: 3, 365: 1, 367: 1, 368: 2, 371: 1, 373: 1, 374: 1, 376: 2, 377: 2, 378: 1, 380: 1, 382: 1, 383: 1, 384: 1, 387: 2, 388: 1, 389: 1, 391: 1, 395: 1, 396: 1, 397: 1, 399: 1, 400: 1, 401: 1, 402: 1, 403: 1, 406: 2, 408: 1, 409: 1, 415: 1, 421: 1, 480: 1}\n"
     ]
    },
    {
     "data": {
      "text/plain": [
       "[<matplotlib.lines.Line2D at 0x7fcab2b74790>]"
      ]
     },
     "execution_count": 13,
     "metadata": {},
     "output_type": "execute_result"
    },
    {
     "data": {
      "image/png": "[encoded data removed]",
      "text/plain": [
       "<Figure size 432x288 with 1 Axes>"
      ]
     },
     "metadata": {
      "needs_background": "light"
     },
     "output_type": "display_data"
    }
   ],
   "source": [
    "list1=list(dict1.keys())\n",
    "list1.sort()\n",
    "dict2={}\n",
    "for i in list1:\n",
    "    dict2[i]=dict1[i]\n",
    "print(dict2)\n",
    "plt.plot(list(dict2.keys()),list(dict2.values()))\n"
   ]
  },
  {
   "cell_type": "code",
   "execution_count": null,
   "id": "8ed62ed1",
   "metadata": {},
   "outputs": [],
   "source": []
  }
 ],
 "metadata": {
  "kernelspec": {
   "display_name": "Python 3 (ipykernel)",
   "language": "python",
   "name": "python3"
  },
  "language_info": {
   "codemirror_mode": {
    "name": "ipython",
    "version": 3
   },
   "file_extension": ".py",
   "mimetype": "text/x-python",
   "name": "python",
   "nbconvert_exporter": "python",
   "pygments_lexer": "ipython3",
   "version": "3.10.6"
  }
 },
 "nbformat": 4,
 "nbformat_minor": 5
}
