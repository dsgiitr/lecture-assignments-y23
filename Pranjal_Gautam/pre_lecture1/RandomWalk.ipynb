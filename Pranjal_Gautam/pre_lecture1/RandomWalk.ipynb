{
 "cells": [
  {
   "cell_type": "code",
   "execution_count": 52,
   "id": "2135484e",
   "metadata": {},
   "outputs": [
    {
     "name": "stderr",
     "output_type": "stream",
     "text": [
      "100%|███████████████████████████████████████████████████████████████| 1000000/1000000 [08:36<00:00, 1934.62it/s]\n"
     ]
    },
    {
     "data": {
      "text/plain": [
       "{-10: 24202,\n",
       " 14: 22679,\n",
       " 24: 18800,\n",
       " 78: 1290,\n",
       " -52: 6377,\n",
       " 32: 15231,\n",
       " 26: 17879,\n",
       " -2: 25316,\n",
       " 62: 3740,\n",
       " -16: 22303,\n",
       " 44: 9617,\n",
       " 8: 24332,\n",
       " 0: 25235,\n",
       " -20: 20694,\n",
       " -38: 12198,\n",
       " 20: 20944,\n",
       " 30: 16001,\n",
       " -6: 24581,\n",
       " -8: 24197,\n",
       " -14: 22929,\n",
       " -24: 18921,\n",
       " 54: 5875,\n",
       " -28: 17145,\n",
       " -34: 14147,\n",
       " 4: 25039,\n",
       " 60: 4274,\n",
       " -48: 8031,\n",
       " 16: 22246,\n",
       " 2: 25248,\n",
       " -36: 13210,\n",
       " -62: 3692,\n",
       " 52: 6581,\n",
       " -32: 15175,\n",
       " 28: 16927,\n",
       " 6: 24767,\n",
       " 34: 14339,\n",
       " -50: 7151,\n",
       " 38: 12197,\n",
       " -26: 17992,\n",
       " 40: 11178,\n",
       " -18: 21481,\n",
       " 12: 23418,\n",
       " -40: 11425,\n",
       " 10: 23775,\n",
       " 18: 21685,\n",
       " 36: 13092,\n",
       " -4: 24818,\n",
       " -42: 10370,\n",
       " -44: 9610,\n",
       " -80: 1099,\n",
       " -30: 16065,\n",
       " 22: 19937,\n",
       " 42: 10461,\n",
       " -56: 5304,\n",
       " 48: 7972,\n",
       " -88: 506,\n",
       " -54: 5863,\n",
       " -46: 9006,\n",
       " -12: 23302,\n",
       " 102: 143,\n",
       " 50: 7191,\n",
       " -64: 3268,\n",
       " -60: 4075,\n",
       " 46: 8673,\n",
       " 82: 836,\n",
       " -68: 2538,\n",
       " 70: 2255,\n",
       " -84: 706,\n",
       " 72: 1857,\n",
       " -22: 19615,\n",
       " 56: 5246,\n",
       " 58: 4720,\n",
       " 68: 2450,\n",
       " 80: 1114,\n",
       " 64: 3357,\n",
       " 76: 1374,\n",
       " 94: 332,\n",
       " 90: 452,\n",
       " -72: 1950,\n",
       " -58: 4688,\n",
       " 66: 2885,\n",
       " -76: 1422,\n",
       " -70: 2213,\n",
       " -108: 66,\n",
       " -118: 22,\n",
       " -86: 654,\n",
       " 112: 48,\n",
       " -66: 2843,\n",
       " -78: 1165,\n",
       " -104: 115,\n",
       " 88: 532,\n",
       " 74: 1645,\n",
       " -74: 1617,\n",
       " 84: 761,\n",
       " -82: 856,\n",
       " 122: 10,\n",
       " -92: 389,\n",
       " -98: 212,\n",
       " -96: 267,\n",
       " -102: 127,\n",
       " -94: 316,\n",
       " 86: 669,\n",
       " 100: 183,\n",
       " 96: 244,\n",
       " 92: 349,\n",
       " -90: 453,\n",
       " -100: 167,\n",
       " -120: 14,\n",
       " 98: 202,\n",
       " -112: 38,\n",
       " 120: 19,\n",
       " 104: 124,\n",
       " 106: 84,\n",
       " 110: 52,\n",
       " -116: 40,\n",
       " 126: 15,\n",
       " -106: 91,\n",
       " 116: 43,\n",
       " -114: 35,\n",
       " -124: 11,\n",
       " 118: 26,\n",
       " -110: 52,\n",
       " 134: 3,\n",
       " 108: 77,\n",
       " 114: 45,\n",
       " 128: 8,\n",
       " -122: 14,\n",
       " -130: 6,\n",
       " -126: 11,\n",
       " 146: 1,\n",
       " -152: 1,\n",
       " -128: 6,\n",
       " -146: 1,\n",
       " 130: 12,\n",
       " 156: 1,\n",
       " 142: 1,\n",
       " -134: 2,\n",
       " -132: 3,\n",
       " 136: 6,\n",
       " -138: 2,\n",
       " 124: 7,\n",
       " -136: 2,\n",
       " -144: 1,\n",
       " -140: 1,\n",
       " 150: 1,\n",
       " 138: 1,\n",
       " -158: 1,\n",
       " 140: 1}"
      ]
     },
     "execution_count": 52,
     "metadata": {},
     "output_type": "execute_result"
    }
   ],
   "source": [
    "from tqdm import tqdm\n",
    "import matplotlib.pyplot as plt\n",
    "import time\n",
    "import random\n",
    "position=0\n",
    "dict1={}\n",
    "\n",
    "for i in tqdm(range(1000000)):\n",
    "    position=0\n",
    "    for i in range(100):\n",
    "        if random.randint(0,1)&1:\n",
    "            position+=2\n",
    "        position-=1\n",
    "    if position in dict1:\n",
    "        dict1[position]+=1\n",
    "    else:\n",
    "        dict1[position]=1\n",
    "dict1"
   ]
  },
  {
   "cell_type": "code",
   "execution_count": 53,
   "id": "3c23ee1c",
   "metadata": {},
   "outputs": [
    {
     "name": "stdout",
     "output_type": "stream",
     "text": [
      "{-158: 1, -152: 1, -146: 1, -144: 1, -140: 1, -138: 2, -136: 2, -134: 2, -132: 3, -130: 6, -128: 6, -126: 11, -124: 11, -122: 14, -120: 14, -118: 22, -116: 40, -114: 35, -112: 38, -110: 52, -108: 66, -106: 91, -104: 115, -102: 127, -100: 167, -98: 212, -96: 267, -94: 316, -92: 389, -90: 453, -88: 506, -86: 654, -84: 706, -82: 856, -80: 1099, -78: 1165, -76: 1422, -74: 1617, -72: 1950, -70: 2213, -68: 2538, -66: 2843, -64: 3268, -62: 3692, -60: 4075, -58: 4688, -56: 5304, -54: 5863, -52: 6377, -50: 7151, -48: 8031, -46: 9006, -44: 9610, -42: 10370, -40: 11425, -38: 12198, -36: 13210, -34: 14147, -32: 15175, -30: 16065, -28: 17145, -26: 17992, -24: 18921, -22: 19615, -20: 20694, -18: 21481, -16: 22303, -14: 22929, -12: 23302, -10: 24202, -8: 24197, -6: 24581, -4: 24818, -2: 25316, 0: 25235, 2: 25248, 4: 25039, 6: 24767, 8: 24332, 10: 23775, 12: 23418, 14: 22679, 16: 22246, 18: 21685, 20: 20944, 22: 19937, 24: 18800, 26: 17879, 28: 16927, 30: 16001, 32: 15231, 34: 14339, 36: 13092, 38: 12197, 40: 11178, 42: 10461, 44: 9617, 46: 8673, 48: 7972, 50: 7191, 52: 6581, 54: 5875, 56: 5246, 58: 4720, 60: 4274, 62: 3740, 64: 3357, 66: 2885, 68: 2450, 70: 2255, 72: 1857, 74: 1645, 76: 1374, 78: 1290, 80: 1114, 82: 836, 84: 761, 86: 669, 88: 532, 90: 452, 92: 349, 94: 332, 96: 244, 98: 202, 100: 183, 102: 143, 104: 124, 106: 84, 108: 77, 110: 52, 112: 48, 114: 45, 116: 43, 118: 26, 120: 19, 122: 10, 124: 7, 126: 15, 128: 8, 130: 12, 134: 3, 136: 6, 138: 1, 140: 1, 142: 1, 146: 1, 150: 1, 156: 1}\n"
     ]
    },
    {
     "data": {
      "text/plain": [
       "[<matplotlib.lines.Line2D at 0x7f15e43150c0>]"
      ]
     },
     "execution_count": 53,
     "metadata": {},
     "output_type": "execute_result"
    },
    {
     "data": {
      "image/png": "[encoded data removed]",
      "text/plain": [
       "<Figure size 432x288 with 1 Axes>"
      ]
     },
     "metadata": {
      "needs_background": "light"
     },
     "output_type": "display_data"
    }
   ],
   "source": [
    "list1=list(dict1.keys())\n",
    "list1.sort()\n",
    "dict2={}\n",
    "for i in list1:\n",
    "    dict2[i]=dict1[i]\n",
    "print(dict2)\n",
    "plt.plot(list(dict2.keys()),list(dict2.values()))\n"
   ]
  },
  {
   "cell_type": "code",
   "execution_count": 54,
   "id": "9198f73e",
   "metadata": {},
   "outputs": [
    {
     "name": "stdout",
     "output_type": "stream",
     "text": [
      "0.022652 31671.727437683225\n"
     ]
    }
   ],
   "source": [
    "mean=0\n",
    "for i in dict1.keys():\n",
    "    mean+=i*dict1[i]\n",
    "points=0\n",
    "for i in dict1.values():\n",
    "    points+=i\n",
    "mean/=points\n",
    "std=0\n",
    "for i in dict1.keys():\n",
    "    std+=((i-mean)**2)*dict1[i]\n",
    "pow(std,0.5)\n",
    "print(mean,pow(std,0.5))"
   ]
  },
  {
   "cell_type": "code",
   "execution_count": null,
   "id": "b2bf7bea",
   "metadata": {},
   "outputs": [],
   "source": []
  }
 ],
 "metadata": {
  "kernelspec": {
   "display_name": "Python 3 (ipykernel)",
   "language": "python",
   "name": "python3"
  },
  "language_info": {
   "codemirror_mode": {
    "name": "ipython",
    "version": 3
   },
   "file_extension": ".py",
   "mimetype": "text/x-python",
   "name": "python",
   "nbconvert_exporter": "python",
   "pygments_lexer": "ipython3",
   "version": "3.10.6"
  }
 },
 "nbformat": 4,
 "nbformat_minor": 5
}
