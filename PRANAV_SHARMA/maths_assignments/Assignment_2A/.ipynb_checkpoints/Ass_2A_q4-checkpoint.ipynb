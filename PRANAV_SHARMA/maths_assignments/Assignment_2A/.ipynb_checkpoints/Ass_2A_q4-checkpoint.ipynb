{
 "cells": [
  {
   "cell_type": "markdown",
   "id": "3c3df50c",
   "metadata": {},
   "source": [
    "# Generating dataset for logistic regression :"
   ]
  },
  {
   "cell_type": "code",
   "execution_count": 1,
   "id": "33eb8d24",
   "metadata": {},
   "outputs": [
    {
     "data": {
      "image/png": "[encoded data removed]",
      "text/plain": [
       "<Figure size 640x480 with 1 Axes>"
      ]
     },
     "metadata": {},
     "output_type": "display_data"
    }
   ],
   "source": [
    "import numpy as np\n",
    "import pandas as pd\n",
    "import matplotlib.pyplot as plt\n",
    "from sklearn.preprocessing import MinMaxScaler\n",
    "\n",
    "np.random.seed(42)  \n",
    "num_samples = 100  \n",
    "intercept = -0.90  \n",
    "slope = 2  \n",
    "noise_std = 0.025  \n",
    "y=np.zeros(100)\n",
    "x = np.linspace(0, 1, num=100)\n",
    "logits = intercept + slope * x\n",
    "probs = 1 / (1 + np.exp(-logits))\n",
    "for i in range (0,100):\n",
    "    if (probs[i]<0.5):\n",
    "        y[i]=0\n",
    "    else :\n",
    "        y[i]=1\n",
    "y_real = y + np.random.normal(0, noise_std, num_samples)\n",
    "data = pd.DataFrame({'x': x, 'y': y_real})\n",
    "plt.scatter(data['x'], data['y'])\n",
    "plt.plot(x,y,color=\"red\")\n",
    "plt.xlabel('Feature (x)')\n",
    "plt.ylabel('Target (y)')\n",
    "plt.title('Logistic Regression Dataset')\n",
    "plt.show()"
   ]
  },
  {
   "cell_type": "code",
   "execution_count": 2,
   "id": "73019740",
   "metadata": {},
   "outputs": [
    {
     "data": {
      "text/html": [
       "<div>\n",
       "<style scoped>\n",
       "    .dataframe tbody tr th:only-of-type {\n",
       "        vertical-align: middle;\n",
       "    }\n",
       "\n",
       "    .dataframe tbody tr th {\n",
       "        vertical-align: top;\n",
       "    }\n",
       "\n",
       "    .dataframe thead th {\n",
       "        text-align: right;\n",
       "    }\n",
       "</style>\n",
       "<table border=\"1\" class=\"dataframe\">\n",
       "  <thead>\n",
       "    <tr style=\"text-align: right;\">\n",
       "      <th></th>\n",
       "      <th>x</th>\n",
       "      <th>y</th>\n",
       "    </tr>\n",
       "  </thead>\n",
       "  <tbody>\n",
       "    <tr>\n",
       "      <th>0</th>\n",
       "      <td>0.000000</td>\n",
       "      <td>0.012418</td>\n",
       "    </tr>\n",
       "    <tr>\n",
       "      <th>1</th>\n",
       "      <td>0.010101</td>\n",
       "      <td>-0.003457</td>\n",
       "    </tr>\n",
       "    <tr>\n",
       "      <th>2</th>\n",
       "      <td>0.020202</td>\n",
       "      <td>0.016192</td>\n",
       "    </tr>\n",
       "    <tr>\n",
       "      <th>3</th>\n",
       "      <td>0.030303</td>\n",
       "      <td>0.038076</td>\n",
       "    </tr>\n",
       "    <tr>\n",
       "      <th>4</th>\n",
       "      <td>0.040404</td>\n",
       "      <td>-0.005854</td>\n",
       "    </tr>\n",
       "  </tbody>\n",
       "</table>\n",
       "</div>"
      ],
      "text/plain": [
       "          x         y\n",
       "0  0.000000  0.012418\n",
       "1  0.010101 -0.003457\n",
       "2  0.020202  0.016192\n",
       "3  0.030303  0.038076\n",
       "4  0.040404 -0.005854"
      ]
     },
     "execution_count": 2,
     "metadata": {},
     "output_type": "execute_result"
    }
   ],
   "source": [
    "data.head()"
   ]
  },
  {
   "cell_type": "markdown",
   "id": "ecc1cdcf",
   "metadata": {},
   "source": [
    "# Theory :\n",
    "$for\\ logistic\\ regression\\ we\\ know\\ likelihood \\ L(\\theta)=\\prod (\\ z(X.\\beta)^y*(1-z(X.\\beta))^{1-y}\\ )$<br>\n",
    "$z(x)=\\frac{1}{1+e^{-x}}$<br>\n",
    "$and\\ prior\\ is\\ Gaussian\\ \\therefore f(\\theta)\\sim N(\\mu,\\sigma)=$\n",
    "$\\frac{1}{\\sigma\\sqrt{2\\pi}}e^{\\frac{-(\\theta-\\mu)^2}{2 \\sigma^2}} $<br>\n",
    "$ as\\ posterior\\ \\propto \\ likelihood * prior\\ and\\ we\\ want\\ to\\ maximize\\ posterior\\ in\\ MAP\\ estimation\\ so$<br>\n",
    "$ we\\ are\\ going\\ to\\ use\\ negative\\ log (posterior)\\ = \\ -  log(likelihood)-\\log(prior)$<br>\n",
    "$we\\ minimise\\ it\\ to\\ find\\ the\\ maximium\\ of\\ log\\ posterior$<br>"
   ]
  },
  {
   "cell_type": "markdown",
   "id": "2fcfc9ce",
   "metadata": {},
   "source": [
    "# Optimization :"
   ]
  },
  {
   "cell_type": "code",
   "execution_count": 3,
   "id": "7d70390f",
   "metadata": {},
   "outputs": [
    {
     "name": "stdout",
     "output_type": "stream",
     "text": [
      "MAP estimate of parameters:\n",
      "[ 0.21086559 -0.03283639]\n"
     ]
    }
   ],
   "source": [
    "from scipy.optimize import minimize\n",
    "\n",
    "\n",
    "def sigmoid(x):\n",
    "    return 1 / (1 + np.exp(-x))\n",
    "\n",
    "def negative_log_likelihood(theta, X, y):\n",
    "    \n",
    "    log_likelihood = y * np.log(sigmoid(np.dot(X , theta))) + (1 - y) * np.log(1 - sigmoid(np.dot(X , theta)))\n",
    "    return -np.sum(log_likelihood)\n",
    "\n",
    "def map_estimation(X, y, mu, sigma,initital_theta):\n",
    "    \n",
    "   \n",
    "    def negative_log_posterior(theta):\n",
    "        # as rest of the terms don't depend on theta so we don't consider them in minimizing theta\n",
    "        prior_log_prob = 0.5 * np.dot((np.dot((theta - mu).T , np.linalg.inv(sigma))), (theta - mu))\n",
    "        return negative_log_likelihood(theta, X, y) - prior_log_prob\n",
    "    \n",
    "    \n",
    "    result = minimize(negative_log_posterior, initial_theta)\n",
    "    theta_map = result.x\n",
    "    \n",
    "    return theta_map\n",
    "\n",
    "\n",
    "# Driver code :\n",
    "X=data.iloc[:,:1].values \n",
    "y=data.iloc[:,1:].values\n",
    "\n",
    "# Add intercept term to the input data\n",
    "X = np.c_[np.ones((X.shape[0], 1)),X]\n",
    "\n",
    "# prior parameters\n",
    "mu = np.zeros(X.shape[1])  \n",
    "sigma = np.array([[0.02,0],[0,0.02]])\n",
    "\n",
    "initial_theta = np.array([-0.80, 2.10])\n",
    "\n",
    "# MAP estimation\n",
    "theta_map = map_estimation(X, y, mu, sigma, initial_theta)\n",
    "\n",
    "print(\"MAP estimate of parameters:\")\n",
    "print(theta_map)"
   ]
  },
  {
   "cell_type": "markdown",
   "id": "a74975af",
   "metadata": {},
   "source": [
    "I don't know why but the estimates are not correct."
   ]
  }
 ],
 "metadata": {
  "kernelspec": {
   "display_name": "Python 3 (ipykernel)",
   "language": "python",
   "name": "python3"
  },
  "language_info": {
   "codemirror_mode": {
    "name": "ipython",
    "version": 3
   },
   "file_extension": ".py",
   "mimetype": "text/x-python",
   "name": "python",
   "nbconvert_exporter": "python",
   "pygments_lexer": "ipython3",
   "version": "3.11.1"
  }
 },
 "nbformat": 4,
 "nbformat_minor": 5
}
