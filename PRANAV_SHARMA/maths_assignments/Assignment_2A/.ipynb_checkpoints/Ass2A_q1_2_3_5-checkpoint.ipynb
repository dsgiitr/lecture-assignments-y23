{
 "cells": [
  {
   "cell_type": "markdown",
   "id": "97be1a5b",
   "metadata": {},
   "source": [
    "# Assignment 2A\n",
    "\n",
    "## Question 1 :\n",
    "\n",
    "$P(A):Probability\\ that \\ alice \\ works $<br>\n",
    "$P(B):Probability \\ that \\ bob \\ works $<br>\n",
    "$As \\ they \\ follow \\ poision \\ distribution \\ so $ <br>\n",
    "$P(X=k)= \\frac{\\lambda^{k}e^{-\\lambda}}{k!}$ <br>\n",
    "$Where\\ \\lambda_a=10\\ and\\ \\lambda_b=1$  <br>\n",
    "$Now\\ according\\ to\\ odds\\ given\\ in\\ question\\ P(A)=\\frac{1}{11} and P(B)=\\frac{10}{11} $ <br>\n",
    "$As\\ (posterior\\ \\propto \\ prior\\ *\\ likelihood)\\ so\\ if\\ P(D)=Probability\\ of\\ the\\ data\\ being\\ recieved$ <br>\n",
    "$P(A|D)\\propto P(A)*\\prod_{i=k}\\frac{\\lambda_a^{k}e^{-\\lambda_a}}{k!}\\ for\\ k=12,10,11,4,1$  <br>\n",
    "$P(B|D)\\propto P(B)*\\prod_{i=k}\\frac{\\lambda_b^{k}e^{-\\lambda_b}}{k!}\\ for\\ k=12,10,11,4,1 $ <br>\n",
    "$We \\ want \\ odds\\ that\\ alice\\ fills\\ in\\ for\\ bob = \\frac{P(A|D)}{P(B|D)}=\\frac{P(A)P(A|D)}{P(B)P(B|D)}=(\\frac{10}{15})^{48} e^{25}$"
   ]
  },
  {
   "cell_type": "markdown",
   "id": "2e525b54",
   "metadata": {},
   "source": [
    "## Question 2 (a) :\n",
    "\n",
    "$\\hat\\theta=\\theta+\\epsilon $<br>\n",
    "$f(\\epsilon)\\sim N(0,\\sigma^2=4) \\ and\\ f(\\theta)\\sim N(5,9) $<br>\n",
    "$Hence, \\ f(\\hat\\theta)\\sim N(\\theta,4)$<br>\n",
    "$f(\\theta)\\sim N(5,9)=\\frac{1}{\\sigma_1\\sqrt{2\\pi}}e^{\\frac{-(\\theta-5)^2}{2 \\sigma_1^2}} $<br>\n",
    "$\\hat\\theta=likelihood \\ estimate $<br>\n",
    "$\\therefore f(x|\\theta)\\sim N(\\theta,4)\\ and\\ f(x,\\theta)=\\frac{1}{\\sigma_2\\sqrt{2\\pi}}e^{\\frac{-(x-\\theta)^2}{2 \\sigma_2^2}} $<br>\n",
    "$We\\ want\\ posterior\\ pdf\\ for\\ \\theta =f(\\theta|x) $<br>\n",
    "$\\therefore f(\\theta|x)=f(x|\\theta)*f(\\theta) $<br>\n",
    "$for\\ x= 6\\ the\\ equation\\ becomes\\ :$<br>\n",
    "$f(\\theta|x)\\propto \\frac{1}{\\sigma_2\\sigma_1 2\\pi}e^{\\frac{-(\\theta-6)^2}{2 \\sigma_2^2 }+\\frac{-(\\theta-5)^2}{2 \\sigma_1^2}}$<br>\n",
    "$f(\\theta|x)\\propto \\frac{1}{\\sigma_2\\sigma_1 2\\pi}e^{\\frac{-1}{2}(\\frac{(\\theta-6)^2}{4}+\\frac{(\\theta-5)^2}{9})}$<br>\n",
    "$f(\\theta|x)\\propto \\frac{1}{12\\pi}e^{\\frac{-1}{2}(\\frac{13\\theta^2-148\\theta+424}{36})}$<br>\n",
    "$f(\\theta|x)\\propto \\frac{1}{12\\pi}e^{\\frac{-1}{2}(\\frac{(\\theta-\\frac{74}{13})^2+c}{36})} \\ \\ where \\ c\\ is\\ some \\ constant $<br>\n",
    "$Which\\ is\\ of\\ the\\ form\\ of\\ Normal\\ distribution\\ with\\ parameters\\ \\frac{74}{13} \\ and\\ \\frac{36}{13}$<br>\n",
    "$f(\\theta|x)\\sim N(\\frac{74}{13},\\frac{36}{13}) \\ Hence \\ , \\ proved$<br>"
   ]
  },
  {
   "cell_type": "markdown",
   "id": "a65bb82d",
   "metadata": {},
   "source": [
    "## Question 2(b) :\n",
    "\n",
    "$Noise = x_1,x_2,x_3,....,x_n \\ and\\ \\bar x = \\ sample\\ mean $ <br>\n",
    "$Now \\ n=4 , \\bar x = 6 $ <br>\n",
    "$prior\\ =\\ f(\\theta) \\sim N(5,9)\\ ,\\ \\mu_{prior}=5\\ and\\ \\sigma_{prior} = 3 $ <br>\n",
    "$\\sigma^2=4\\ as\\ \\hat\\theta=\\theta + \\epsilon $ <br>\n",
    "$As\\ f(\\epsilon)\\sim N(0,4)\\ \\therefore f(\\hat\\theta)\\sim N(0,$ <br>\n",
    "$Now\\ using\\ the\\ formulas\\ given\\ : $ <br>\n",
    "$a=\\frac{1}{9} , b=\\frac{4}{4}=1 $ <br>\n",
    "$\\mu_{post}=\\frac{59}{10}=5.9 \\ \\sigma^2_{post}=\\frac{9}{10}=0.9 $ <br>\n",
    "$\\therefore\\ posterior\\ =\\ f(\\theta|x)\\sim N(5.9,0.9)\\ and\\  prior\\ =\\ f(\\theta) \\sim N(5,9) $ <br>\n",
    "After recieving the data we can observe that there is not much change in the mean <br>\n",
    "but the variance decreses much and we get more accurate value of $\\theta$"
   ]
  },
  {
   "cell_type": "code",
   "execution_count": 1,
   "id": "dd542f0f",
   "metadata": {},
   "outputs": [
    {
     "data": {
      "image/png": "[encoded data removed]",
      "text/plain": [
       "<Figure size 640x480 with 1 Axes>"
      ]
     },
     "metadata": {},
     "output_type": "display_data"
    }
   ],
   "source": [
    "import numpy as np\n",
    "import matplotlib.pyplot as plt\n",
    "from scipy.stats import norm\n",
    "\n",
    "x_axis = np.arange(-15, 25, 0.01)\n",
    "plt.title(\"Plot of prior and posterior :\")\n",
    "plt.plot(x_axis, norm.pdf(x_axis, 5, np.sqrt(9)),label='prior')\n",
    "plt.plot(x_axis, norm.pdf(x_axis, 5.9, np.sqrt(0.9)),label='posterior')\n",
    "plt.legend()\n",
    "plt.show()"
   ]
  },
  {
   "cell_type": "markdown",
   "id": "bd51e35b",
   "metadata": {},
   "source": [
    "## Question 2(c) :\n",
    "\n",
    "As more data is given the mean becomes more accurate and variance decreases as in 2(b) <br>\n",
    "so its closer to true value of $\\theta$ as n increases b also increases and $\\sigma_{post}^2$ decreases."
   ]
  },
  {
   "cell_type": "markdown",
   "id": "7ffb62b6",
   "metadata": {},
   "source": [
    "## Question 2(d) :\n",
    "## (i)\n",
    "\n",
    "$IQ \\sim N(100,152)$<br>\n",
    "$\\therefore  \\ f(\\theta)\\sim N(100,152)$<br>\n",
    "$\\hat\\theta = \\theta + \\epsilon \\ , \\ f(\\epsilon)\\sim N(0,102)$<br>\n",
    "$f(\\hat\\theta)\\sim N(\\theta|102)$<br>\n",
    "$According\\ to\\ formulas\\ given\\ above\\ if\\ n=1\\ (tested\\ once)$<br>\n",
    "$a=\\frac{1}{152} \\ , \\ b=\\frac{1}{102}$<br>\n",
    "$\\mu_{post}=88.031$<br>\n",
    "$\\therefore \\ as \\ E(N(\\mu_{post},\\sigma_{post}^2))=\\mu_{post}=88.031$<br>\n",
    "\n",
    "## (ii)\n",
    "\n",
    "$Using\\ same\\ formulas\\ as\\ in\\ (i)$<br>\n",
    "$\\mu_{post}=\\frac{\\frac{100}{152}+\\frac{150}{102}}{\\frac{1}{152}+\\frac{1}{102}}$<br>\n",
    "$\\mu_{post}=129.92$<br>\n"
   ]
  },
  {
   "cell_type": "markdown",
   "id": "6e0ce605",
   "metadata": {},
   "source": [
    "# Question 3 :\n",
    "\n",
    "$L(\\theta)=\\prod_{i=0}^{n}f(x,\\theta_i) $<br>\n",
    "$L(\\theta)=\\frac{1}{(\\sigma \\sqrt{2\\pi})^n}e^{-\\sum_{i=0}^{n}\\frac{(x_i-\\mu)^2}{2\\sigma^2}}$<br>\n",
    "$We\\ just\\ use\\ \\frac{\\partial \\log L(\\theta)}{\\partial \\mu}=0\\ and\\ find \\ \\mu\\ to\\ maximize\\ \\log L(\\theta) $<br>\n",
    "$and\\ similarly\\ for\\ \\sigma \\ we \\ use \\ \\frac{\\partial \\log L(\\theta)}{\\partial \\sigma}=0$<br>\n"
   ]
  },
  {
   "cell_type": "code",
   "execution_count": 2,
   "id": "828e66d3",
   "metadata": {},
   "outputs": [],
   "source": [
    "import pandas as pd \n",
    "import math"
   ]
  },
  {
   "cell_type": "code",
   "execution_count": 3,
   "id": "cc3e2162",
   "metadata": {},
   "outputs": [
    {
     "data": {
      "text/html": [
       "<div>\n",
       "<style scoped>\n",
       "    .dataframe tbody tr th:only-of-type {\n",
       "        vertical-align: middle;\n",
       "    }\n",
       "\n",
       "    .dataframe tbody tr th {\n",
       "        vertical-align: top;\n",
       "    }\n",
       "\n",
       "    .dataframe thead th {\n",
       "        text-align: right;\n",
       "    }\n",
       "</style>\n",
       "<table border=\"1\" class=\"dataframe\">\n",
       "  <thead>\n",
       "    <tr style=\"text-align: right;\">\n",
       "      <th></th>\n",
       "      <th>x</th>\n",
       "    </tr>\n",
       "  </thead>\n",
       "  <tbody>\n",
       "    <tr>\n",
       "      <th>0</th>\n",
       "      <td>12.000416</td>\n",
       "    </tr>\n",
       "    <tr>\n",
       "      <th>1</th>\n",
       "      <td>-0.099261</td>\n",
       "    </tr>\n",
       "    <tr>\n",
       "      <th>2</th>\n",
       "      <td>4.967763</td>\n",
       "    </tr>\n",
       "    <tr>\n",
       "      <th>3</th>\n",
       "      <td>4.388573</td>\n",
       "    </tr>\n",
       "    <tr>\n",
       "      <th>4</th>\n",
       "      <td>1.704356</td>\n",
       "    </tr>\n",
       "  </tbody>\n",
       "</table>\n",
       "</div>"
      ],
      "text/plain": [
       "           x\n",
       "0  12.000416\n",
       "1  -0.099261\n",
       "2   4.967763\n",
       "3   4.388573\n",
       "4   1.704356"
      ]
     },
     "execution_count": 3,
     "metadata": {},
     "output_type": "execute_result"
    }
   ],
   "source": [
    "a = np.random.normal(3,4, 2000)\n",
    "df=pd.DataFrame(a, columns=['x'])\n",
    "df.head()"
   ]
  },
  {
   "cell_type": "code",
   "execution_count": 4,
   "id": "04c3c0d1",
   "metadata": {},
   "outputs": [
    {
     "data": {
      "text/plain": [
       "x    2000\n",
       "dtype: int64"
      ]
     },
     "execution_count": 4,
     "metadata": {},
     "output_type": "execute_result"
    }
   ],
   "source": [
    "df.count()"
   ]
  },
  {
   "cell_type": "code",
   "execution_count": 5,
   "id": "e98b39c2",
   "metadata": {},
   "outputs": [
    {
     "data": {
      "text/plain": [
       "array([[<Axes: title={'center': 'x'}>]], dtype=object)"
      ]
     },
     "execution_count": 5,
     "metadata": {},
     "output_type": "execute_result"
    },
    {
     "data": {
      "image/png": "[encoded data removed]",
      "text/plain": [
       "<Figure size 640x480 with 1 Axes>"
      ]
     },
     "metadata": {},
     "output_type": "display_data"
    }
   ],
   "source": [
    "# Lets plot the histogram to get better visualization of the dataset\n",
    "\n",
    "df.hist()"
   ]
  },
  {
   "cell_type": "markdown",
   "id": "8287ece9",
   "metadata": {},
   "source": [
    "## OPTIMIZATION :"
   ]
  },
  {
   "cell_type": "code",
   "execution_count": 6,
   "id": "d9e4fd98",
   "metadata": {},
   "outputs": [
    {
     "name": "stdout",
     "output_type": "stream",
     "text": [
      "Estimated Mean: 2.9629955151970475\n",
      "Estimated Standard deviation: 3.8854496934268226\n"
     ]
    }
   ],
   "source": [
    "# we need to import minimize from scipy to get minima of the function\n",
    "from scipy.optimize import minimize\n",
    "import numpy as np\n",
    "n=2000\n",
    "\n",
    "# now here x[0] is the mean and x[1] is the variance in the lambda function\n",
    "# the lambda function defined is the log likelihood function of normal distribution \n",
    "\n",
    "func = lambda x:  -n/2 * np.log((2*3.141592653*x[1])) - np.sum((df - x[0])**2) / (2*x[1])\n",
    "\n",
    "# x0 is the argument of initial guess of mean and variance\n",
    "x0 = np.array([2, 3])\n",
    "\n",
    "# we use minima to maximize the log likelihood function of normal distribution (as minima of -f(x) is same as maxima of f(x))\n",
    "result = minimize(lambda x: -func(x), x0)\n",
    "print(\"Estimated Mean:\", result.x[0])\n",
    "print(\"Estimated Standard deviation:\", math.sqrt(result.x[1]))"
   ]
  },
  {
   "cell_type": "markdown",
   "id": "fab5bc3b",
   "metadata": {},
   "source": [
    "## Visualize estimated normal distribution"
   ]
  },
  {
   "cell_type": "code",
   "execution_count": 7,
   "id": "fdef1383",
   "metadata": {},
   "outputs": [],
   "source": [
    "b = np.random.normal(result.x[0],math.sqrt(result.x[1]), 2000)\n",
    "df2=pd.DataFrame(b, columns=['x'])"
   ]
  },
  {
   "cell_type": "code",
   "execution_count": 8,
   "id": "88841725",
   "metadata": {},
   "outputs": [
    {
     "data": {
      "text/plain": [
       "array([[<Axes: title={'center': 'x'}>]], dtype=object)"
      ]
     },
     "execution_count": 8,
     "metadata": {},
     "output_type": "execute_result"
    },
    {
     "data": {
      "image/png": "[encoded data removed]",
      "text/plain": [
       "<Figure size 640x480 with 1 Axes>"
      ]
     },
     "metadata": {},
     "output_type": "display_data"
    }
   ],
   "source": [
    "df2.hist()"
   ]
  },
  {
   "cell_type": "markdown",
   "id": "9e9fc7b7",
   "metadata": {},
   "source": [
    "# Question 5 :\n",
    "(a) Constant function : It cannot shatter even 1 points as for other value of the point it would not be able to classify in a correct manner.Hence the VC dimension is zero.<br>\n",
    "\n",
    "(b)Linear function in d dimension : It can shatter max (d+1) points in d dimensions<br>\n",
    "as in 1d it goes max 2, 2d it goes max 3 and in 3D it goes max 4.<br>\n",
    "$\\therefore$ (d+1) in d dimension.\n",
    "\n",
    "(c)Axis aligned rectangle : Can shatter max 4 points\n",
    "\n",
    "(d)Interval : We can have max 2 points shattered as any combination of (-,+,-) would not be seprated."
   ]
  },
  {
   "cell_type": "code",
   "execution_count": null,
   "id": "e02f7c29",
   "metadata": {},
   "outputs": [],
   "source": []
  }
 ],
 "metadata": {
  "kernelspec": {
   "display_name": "Python 3 (ipykernel)",
   "language": "python",
   "name": "python3"
  },
  "language_info": {
   "codemirror_mode": {
    "name": "ipython",
    "version": 3
   },
   "file_extension": ".py",
   "mimetype": "text/x-python",
   "name": "python",
   "nbconvert_exporter": "python",
   "pygments_lexer": "ipython3",
   "version": "3.11.1"
  }
 },
 "nbformat": 4,
 "nbformat_minor": 5
}
