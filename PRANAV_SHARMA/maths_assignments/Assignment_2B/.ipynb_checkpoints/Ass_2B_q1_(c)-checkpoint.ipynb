{
 "cells": [
  {
   "cell_type": "markdown",
   "id": "d0455535",
   "metadata": {},
   "source": [
    "# Generate dataset following Poission distribution :\n",
    "\n",
    "$\\log(\\mu)=\\beta_0 + \\beta_1 * (x)$<br>\n",
    "$Now\\ using\\ this\\ \\mu=\\lambda\\ we\\ find\\ the\\ dependent\\ variable\\ using\\ np.random.poisson$"
   ]
  },
  {
   "cell_type": "code",
   "execution_count": 1,
   "id": "7a4fa416",
   "metadata": {},
   "outputs": [
    {
     "name": "stdout",
     "output_type": "stream",
     "text": [
      "   prob_rain  Accidents\n",
      "0   0.374540          1\n",
      "1   0.950714          6\n",
      "2   0.731994          1\n",
      "3   0.598658          2\n",
      "4   0.156019          2\n"
     ]
    }
   ],
   "source": [
    "import numpy as np\n",
    "import pandas as pd\n",
    "import matplotlib.pyplot as plt\n",
    "\n",
    "# Set the parameters for the dataset\n",
    "n_samples = 1000  # Number of data points to generate\n",
    "np.random.seed(42)\n",
    "#Set the initial values for the parameter vector beta\n",
    "beta = np.array([0.55, 0.3])\n",
    "\n",
    "# Generate the independent variables\n",
    "prob_rain = np.random.rand(1000)\n",
    "\n",
    "# Calculate the mean of the Poisson distribution using the link function\n",
    "mean_poisson = np.exp(beta[0] + beta[1] * (prob_rain))\n",
    "\n",
    "# Generate the dependent variable using the Poisson distribution\n",
    "dependent_variable = np.random.poisson(mean_poisson)\n",
    "\n",
    "# Create a DataFrame to store the dataset\n",
    "data = pd.DataFrame({\n",
    "    'prob_rain': prob_rain,\n",
    "     'Accidents': dependent_variable\n",
    "})\n",
    "print(data.head())"
   ]
  },
  {
   "cell_type": "markdown",
   "id": "02c32d5b",
   "metadata": {},
   "source": [
    "we are going to use batch gradient descent to maximize log likelihood by minimizing negative log likelihood : <br>\n",
    "$L(\\theta)=y*(\\theta_0+\\theta_1*x)-e^{(\\theta_0+\\theta_1*x)}$<br>\n",
    "$\\frac{\\partial L(\\theta)}{\\partial \\theta_0}=y-e^{(\\theta_0+\\theta_1*x)}$<br>\n",
    "$\\frac{\\partial L(\\theta)}{\\partial \\theta_1}=y*(\\theta_1)-e^{(\\theta_0+\\theta_1*x)}*\\theta_1$<br>\n",
    "${\\theta_0}^{k+1}={\\theta_0}^{k}-\\frac{\\partial L(\\theta)}{\\partial \\theta_0}$<br>\n",
    "${\\theta_1}^{k+1}={\\theta_1}^{k}-\\frac{\\partial L(\\theta)}{\\partial \\theta_1}$<br>"
   ]
  },
  {
   "cell_type": "code",
   "execution_count": 2,
   "id": "0d7a659d",
   "metadata": {},
   "outputs": [],
   "source": [
    "def gradient_descent(alpha, x, y, ep=0.0001, max_iter=1000):\n",
    "    converged = False\n",
    "    iter = 0\n",
    "    m = x.shape[0] # number of samples\n",
    "\n",
    "    # initial theta\n",
    "    t0 = np.array([0.30])\n",
    "    t1 = np.array([0.20])\n",
    "    \n",
    "    # Iterate Loop\n",
    "    while not converged:\n",
    "        # total  negative log likelihood, J(theta)\n",
    "        J = -sum([(y[i]*(t0+t1*x[i]))-np.exp(t0+t1*x[i]) for i in range(m)])\n",
    "            \n",
    "        # for each training sample, compute the gradient (d/d_theta j(theta))\n",
    "        grad0 = 1.0/m * -sum([(y[i]-np.exp(t0+t1*x[i])) for i in range(m)]) \n",
    "        \n",
    "        grad1 = 1.0/m * -sum([(y[i]*t1)-(np.exp(t0 + t1*x[i])*t1)  for i in range(m)])\n",
    "        \n",
    "        # update the theta_temp\n",
    "        temp0 = t0 - alpha * grad0\n",
    "        temp1 = t1 - alpha * grad1\n",
    "    \n",
    "        # update theta\n",
    "        t0 = temp0\n",
    "        t1 = temp1\n",
    "\n",
    "        e = -sum([(y[i]*(t0+t1*x[i]))-np.exp(t0+t1*x[i]) for i in range(m)])\n",
    "        \n",
    "        if abs(J-e) <= ep:\n",
    "            print ('Converged, iterations: ', iter, '!!!')\n",
    "            converged = True\n",
    "    \n",
    "        J = e   # update error \n",
    "        iter += 1  # update iter\n",
    "    \n",
    "        if iter == max_iter:\n",
    "            print('Max interations exceeded!')\n",
    "            converged = True\n",
    "\n",
    "    return t0,t1"
   ]
  },
  {
   "cell_type": "code",
   "execution_count": 3,
   "id": "5bca4e6b",
   "metadata": {},
   "outputs": [
    {
     "name": "stdout",
     "output_type": "stream",
     "text": [
      "Converged, iterations:  18 !!!\n",
      "[0.57528837] [0.26226255]\n"
     ]
    }
   ],
   "source": [
    "X=data.iloc[:,:1].values\n",
    "y=data.iloc[:,1:].values\n",
    "max_iter=100\n",
    "alpha=0.1\n",
    "ep=0.01\n",
    "t0,t1=gradient_descent(alpha, X, y, ep, max_iter)\n",
    "print(t0,t1)"
   ]
  },
  {
   "cell_type": "markdown",
   "id": "f1f21594",
   "metadata": {},
   "source": [
    "which is nearly same as our initial value"
   ]
  }
 ],
 "metadata": {
  "kernelspec": {
   "display_name": "Python 3 (ipykernel)",
   "language": "python",
   "name": "python3"
  },
  "language_info": {
   "codemirror_mode": {
    "name": "ipython",
    "version": 3
   },
   "file_extension": ".py",
   "mimetype": "text/x-python",
   "name": "python",
   "nbconvert_exporter": "python",
   "pygments_lexer": "ipython3",
   "version": "3.11.1"
  }
 },
 "nbformat": 4,
 "nbformat_minor": 5
}
