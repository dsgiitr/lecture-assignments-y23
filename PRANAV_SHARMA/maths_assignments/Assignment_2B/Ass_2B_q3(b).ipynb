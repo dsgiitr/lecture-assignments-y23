{
 "cells": [
  {
   "cell_type": "code",
   "execution_count": 1,
   "id": "899b19dc",
   "metadata": {},
   "outputs": [],
   "source": [
    "import numpy as np\n",
    "import matplotlib.pyplot as plt\n",
    "import pandas as pd\n",
    "from sklearn.preprocessing import MinMaxScaler"
   ]
  },
  {
   "cell_type": "code",
   "execution_count": 2,
   "id": "7c792381",
   "metadata": {},
   "outputs": [
    {
     "data": {
      "image/png": "[encoded data removed]",
      "text/plain": [
       "<Figure size 640x480 with 1 Axes>"
      ]
     },
     "metadata": {},
     "output_type": "display_data"
    }
   ],
   "source": [
    "np.random.seed(42)  \n",
    "num_samples = 100  \n",
    "intercept = -0.80\n",
    "slope = 2.15\n",
    "noise_std = 0.025  \n",
    "y=np.zeros(100)\n",
    "x = np.linspace(-30,70, num=100)\n",
    "scaler=MinMaxScaler()\n",
    "x=x.reshape(-1,1)\n",
    "x=scaler.fit_transform(x.reshape(-1,1))\n",
    "logits = intercept + slope * x\n",
    "probs = 1 / (1 + np.exp(-logits))\n",
    "for i in range (0,100):\n",
    "    if (probs[i]<0.5):\n",
    "        y[i]=0\n",
    "    else :\n",
    "        y[i]=1\n",
    "y_real = y + np.random.normal(0, noise_std, num_samples)\n",
    "data = pd.DataFrame({'x': x.ravel(), 'y': y_real})\n",
    "plt.scatter(data['x'], data['y'])\n",
    "plt.plot(x,y,color=\"red\")\n",
    "plt.xlabel('Feature (x)')\n",
    "plt.ylabel('Target (y)')\n",
    "plt.title('Logistic Regression Dataset')\n",
    "plt.show()"
   ]
  },
  {
   "cell_type": "code",
   "execution_count": 3,
   "id": "09f93470",
   "metadata": {},
   "outputs": [
    {
     "data": {
      "text/html": [
       "<div>\n",
       "<style scoped>\n",
       "    .dataframe tbody tr th:only-of-type {\n",
       "        vertical-align: middle;\n",
       "    }\n",
       "\n",
       "    .dataframe tbody tr th {\n",
       "        vertical-align: top;\n",
       "    }\n",
       "\n",
       "    .dataframe thead th {\n",
       "        text-align: right;\n",
       "    }\n",
       "</style>\n",
       "<table border=\"1\" class=\"dataframe\">\n",
       "  <thead>\n",
       "    <tr style=\"text-align: right;\">\n",
       "      <th></th>\n",
       "      <th>x</th>\n",
       "      <th>y</th>\n",
       "    </tr>\n",
       "  </thead>\n",
       "  <tbody>\n",
       "    <tr>\n",
       "      <th>0</th>\n",
       "      <td>0.000000</td>\n",
       "      <td>0.012418</td>\n",
       "    </tr>\n",
       "    <tr>\n",
       "      <th>1</th>\n",
       "      <td>0.010101</td>\n",
       "      <td>-0.003457</td>\n",
       "    </tr>\n",
       "    <tr>\n",
       "      <th>2</th>\n",
       "      <td>0.020202</td>\n",
       "      <td>0.016192</td>\n",
       "    </tr>\n",
       "    <tr>\n",
       "      <th>3</th>\n",
       "      <td>0.030303</td>\n",
       "      <td>0.038076</td>\n",
       "    </tr>\n",
       "    <tr>\n",
       "      <th>4</th>\n",
       "      <td>0.040404</td>\n",
       "      <td>-0.005854</td>\n",
       "    </tr>\n",
       "  </tbody>\n",
       "</table>\n",
       "</div>"
      ],
      "text/plain": [
       "          x         y\n",
       "0  0.000000  0.012418\n",
       "1  0.010101 -0.003457\n",
       "2  0.020202  0.016192\n",
       "3  0.030303  0.038076\n",
       "4  0.040404 -0.005854"
      ]
     },
     "execution_count": 3,
     "metadata": {},
     "output_type": "execute_result"
    }
   ],
   "source": [
    "data.head()"
   ]
  },
  {
   "cell_type": "markdown",
   "id": "d9ae79de",
   "metadata": {},
   "source": [
    "## Newton Raphson method :\n",
    "\n",
    "$we\\ have\\ to\\ maximize \\ log\\ likelihood\\\n",
    "l(\\theta)=y*(\\log(\\sigma(h_\\theta)))+(1-y)*(\\log(1-\\sigma(h_\\theta)))$<br>\n",
    "$where\\ h_\\theta=\\theta_0+(\\theta_1*x)$<br>\n",
    "$Hence\\ we\\ find\\ the\\ root\\ of\\ \\frac{\\partial L}{\\partial \\theta}=0$<br>\n",
    "$\\theta_{k+1}=\\theta_{k}-(H^{-1}\\nabla l(\\theta))$<br>\n",
    "$H^{-1} = inverse\\ of\\ Hessian\\ , \\nabla l(\\theta)= Gradient$<br>\n",
    "$when\\ J(\\theta)-e(\\theta)\\sim 10^{-6} \\ we\\ stop\\ the\\ iterations\\$"
   ]
  },
  {
   "cell_type": "code",
   "execution_count": 4,
   "id": "7c533a5f",
   "metadata": {},
   "outputs": [],
   "source": [
    "epsilon=1e-10\n",
    "def sigmoid(x, t1, t0):                                                        \n",
    "    z = (t1*x + t0).astype(\"float_\")                                              \n",
    "    return 1.0 / (1.0 + np.exp(-z))"
   ]
  },
  {
   "cell_type": "code",
   "execution_count": 5,
   "id": "239b8b2b",
   "metadata": {},
   "outputs": [],
   "source": [
    "def log_likelihood(x, y, t1, t0):                                                                \n",
    "    sigmoid_probs = sigmoid(x, t1, t0)                                        \n",
    "    return np.sum(-y * np.log(sigmoid_probs)\n",
    "                  - (1 - y) * np.log(1 - sigmoid_probs+epsilon))"
   ]
  },
  {
   "cell_type": "code",
   "execution_count": 6,
   "id": "2b1892a4",
   "metadata": {},
   "outputs": [],
   "source": [
    "def gradient(x, y, t1, t0):                                                         \n",
    "    sigmoid_probs = sigmoid(x, t1, t0)                                        \n",
    "    return np.array([[-np.mean((y - sigmoid_probs) * x),                          \n",
    "                     -np.mean((y - sigmoid_probs) * 1)]])                         \n",
    "\n",
    "def hessian(x, y, t1, t0):                                                          \n",
    "    sigmoid_probs = sigmoid(x, t1, t0)                                        \n",
    "    d1 = -np.mean((sigmoid_probs * (1 - sigmoid_probs)) * x * x)                  \n",
    "    d2 = -np.mean((sigmoid_probs * (1 - sigmoid_probs)) * x * 1)                  \n",
    "    d3 = -np.mean((sigmoid_probs * (1 - sigmoid_probs)) * 1 * 1)                  \n",
    "    H = np.array([[d1, d2],[d2, d3]])                                           \n",
    "    return H"
   ]
  },
  {
   "cell_type": "code",
   "execution_count": 11,
   "id": "6b97199f",
   "metadata": {},
   "outputs": [],
   "source": [
    "def newtons_method(x, y):                                                             \n",
    "\n",
    "    # Initialize log_likelihood parameters                                                                   \n",
    "    t1 =1.4                                                                     \n",
    "    t0 = -0.5                                                                                                                               \n",
    "    l = log_likelihood(x, y, t1, t0)                                                                 \n",
    "    # Convergence Conditions                                                        \n",
    "    e = 0.001                                                                \n",
    "    max_iterations = 15                                                            \n",
    "    i = 0\n",
    "    converged=False\n",
    "    t1_hist=[t1]\n",
    "    t0_hist=[t0]\n",
    "    while not converged:                                       \n",
    "        i += 1                                                                      \n",
    "        g = gradient(x, y, t1, t0)\n",
    "        print(g)\n",
    "        hess = hessian(x, y, t1, t0)\n",
    "        print(hess)\n",
    "        H_inv = np.linalg.inv(hess)\n",
    "        print(H_inv)\n",
    "        l = log_likelihood(x, y, t1, t0)\n",
    "        m = np.dot(H_inv, g.T)                                                                                                                         \n",
    "        print(m)\n",
    "        t1_hist.append(t1)\n",
    "        t0_hist.append(t0)\n",
    "        # Perform our update step                                                    \n",
    "        t1 -= m[0][0]                                                                 \n",
    "        t0 -= m[1][0]                                                                 \n",
    "        print(t1,t0)                                                                            \n",
    "        # Update the log-likelihood at each iteration                                     \n",
    "        l_new = log_likelihood(x, y, t1, t0)\n",
    "        print(l_new)\n",
    "        print(l)\n",
    "        if(abs(l-l_new)<=e):\n",
    "            print(\"converged,iteration:\",i)\n",
    "            converged = True\n",
    "        elif(i>=max_iterations):\n",
    "            print(\"max iterations exceeded\")\n",
    "            converged = True\n",
    "    return np.array([t1, t0]),t1_hist,t0_hist"
   ]
  },
  {
   "cell_type": "code",
   "execution_count": 12,
   "id": "7b10e332",
   "metadata": {},
   "outputs": [
    {
     "name": "stdout",
     "output_type": "stream",
     "text": [
      "[[-0.01099493 -0.07952879]]\n",
      "[[-0.07641992 -0.11631699]\n",
      " [-0.11631699 -0.2379685 ]]\n",
      "[[-51.11125671  24.98275069]\n",
      " [ 24.98275069 -16.41359451]]\n",
      "[[-1.42488331]\n",
      " [ 1.03066975]]\n",
      "2.8248833052834352 -1.5306697456759335\n",
      "7905.734841728548\n",
      "6930.358321274644\n",
      "[[-0.02183486 -0.15277532]]\n",
      "[[-0.07204907 -0.10958887]\n",
      " [-0.10958887 -0.21428568]]\n",
      "[[-62.48557686  31.95605042]\n",
      " [ 31.95605042 -21.00946539]]\n",
      "[[-3.51773179]\n",
      " [ 2.5119718 ]]\n",
      "6.342615097773878 -4.042641543704017\n",
      "12103.827259197476\n",
      "7905.734841728548\n",
      "[[-0.0379682  -0.25157559]]\n",
      "[[-0.05676581 -0.0837508 ]\n",
      " [-0.0837508  -0.13966571]]\n",
      "[[-152.80025349   91.6269504 ]\n",
      " [  91.6269504   -62.10422111]]\n",
      "[[-17.24955362]\n",
      " [ 12.14499575]]\n",
      "23.592168720476458 -16.187637294804716\n",
      "40118.589025833586\n",
      "12103.827259197476\n",
      "[[-0.04963882 -0.31166431]]\n",
      "[[-0.01997917 -0.02876906]\n",
      " [-0.02876906 -0.04194047]]\n",
      "[[-4081.0339301   2799.38432307]\n",
      " [ 2799.38432307 -1944.080375  ]]\n",
      "[[-669.8904739]\n",
      " [ 466.9423335]]\n",
      "693.4826426205808 -483.12997079858167\n",
      "1085286.0806626694\n",
      "40118.589025833586\n",
      "[[-0.05379563 -0.32188585]]\n",
      "[[-0.00121052 -0.00173686]\n",
      " [-0.00173686 -0.00249208]]\n",
      "[[-5.27986854e+08  3.67982779e+08]\n",
      " [ 3.67982779e+08 -2.56467630e+08]]\n",
      "[[-90045064.02403116]\n",
      " [ 62757435.72653341]]\n",
      "90045757.50667378 -62757918.8565042\n",
      "nan\n",
      "1085286.0806626694\n",
      "[[-0.05067162 -0.31740384]]\n",
      "[[-0. -0.]\n",
      " [-0. -0.]]\n"
     ]
    },
    {
     "name": "stderr",
     "output_type": "stream",
     "text": [
      "C:\\Users\\HP\\AppData\\Local\\Temp\\ipykernel_10684\\2913838464.py:4: RuntimeWarning: overflow encountered in exp\n",
      "  return 1.0 / (1.0 + np.exp(-z))\n",
      "C:\\Users\\HP\\AppData\\Local\\Temp\\ipykernel_10684\\2250130645.py:3: RuntimeWarning: divide by zero encountered in log\n",
      "  return np.sum(-y * np.log(sigmoid_probs)\n"
     ]
    },
    {
     "ename": "LinAlgError",
     "evalue": "Singular matrix",
     "output_type": "error",
     "traceback": [
      "\u001b[1;31m---------------------------------------------------------------------------\u001b[0m",
      "\u001b[1;31mLinAlgError\u001b[0m                               Traceback (most recent call last)",
      "Cell \u001b[1;32mIn[12], line 1\u001b[0m\n\u001b[1;32m----> 1\u001b[0m theta,t1_hist,t0_hist\u001b[38;5;241m=\u001b[39m\u001b[43mnewtons_method\u001b[49m\u001b[43m(\u001b[49m\u001b[43mx\u001b[49m\u001b[43m,\u001b[49m\u001b[43my_real\u001b[49m\u001b[43m)\u001b[49m\n\u001b[0;32m      2\u001b[0m \u001b[38;5;28mprint\u001b[39m(theta)\n\u001b[0;32m      3\u001b[0m plt\u001b[38;5;241m.\u001b[39mfigure()\n",
      "Cell \u001b[1;32mIn[11], line 20\u001b[0m, in \u001b[0;36mnewtons_method\u001b[1;34m(x, y)\u001b[0m\n\u001b[0;32m     18\u001b[0m hess \u001b[38;5;241m=\u001b[39m hessian(x, y, t1, t0)\n\u001b[0;32m     19\u001b[0m \u001b[38;5;28mprint\u001b[39m(hess)\n\u001b[1;32m---> 20\u001b[0m H_inv \u001b[38;5;241m=\u001b[39m \u001b[43mnp\u001b[49m\u001b[38;5;241;43m.\u001b[39;49m\u001b[43mlinalg\u001b[49m\u001b[38;5;241;43m.\u001b[39;49m\u001b[43minv\u001b[49m\u001b[43m(\u001b[49m\u001b[43mhess\u001b[49m\u001b[43m)\u001b[49m\n\u001b[0;32m     21\u001b[0m \u001b[38;5;28mprint\u001b[39m(H_inv)\n\u001b[0;32m     22\u001b[0m l \u001b[38;5;241m=\u001b[39m log_likelihood(x, y, t1, t0)\n",
      "File \u001b[1;32m<__array_function__ internals>:180\u001b[0m, in \u001b[0;36minv\u001b[1;34m(*args, **kwargs)\u001b[0m\n",
      "File \u001b[1;32m~\\AppData\\Local\\Programs\\Python\\Python311\\Lib\\site-packages\\numpy\\linalg\\linalg.py:552\u001b[0m, in \u001b[0;36minv\u001b[1;34m(a)\u001b[0m\n\u001b[0;32m    550\u001b[0m signature \u001b[38;5;241m=\u001b[39m \u001b[38;5;124m'\u001b[39m\u001b[38;5;124mD->D\u001b[39m\u001b[38;5;124m'\u001b[39m \u001b[38;5;28;01mif\u001b[39;00m isComplexType(t) \u001b[38;5;28;01melse\u001b[39;00m \u001b[38;5;124m'\u001b[39m\u001b[38;5;124md->d\u001b[39m\u001b[38;5;124m'\u001b[39m\n\u001b[0;32m    551\u001b[0m extobj \u001b[38;5;241m=\u001b[39m get_linalg_error_extobj(_raise_linalgerror_singular)\n\u001b[1;32m--> 552\u001b[0m ainv \u001b[38;5;241m=\u001b[39m \u001b[43m_umath_linalg\u001b[49m\u001b[38;5;241;43m.\u001b[39;49m\u001b[43minv\u001b[49m\u001b[43m(\u001b[49m\u001b[43ma\u001b[49m\u001b[43m,\u001b[49m\u001b[43m \u001b[49m\u001b[43msignature\u001b[49m\u001b[38;5;241;43m=\u001b[39;49m\u001b[43msignature\u001b[49m\u001b[43m,\u001b[49m\u001b[43m \u001b[49m\u001b[43mextobj\u001b[49m\u001b[38;5;241;43m=\u001b[39;49m\u001b[43mextobj\u001b[49m\u001b[43m)\u001b[49m\n\u001b[0;32m    553\u001b[0m \u001b[38;5;28;01mreturn\u001b[39;00m wrap(ainv\u001b[38;5;241m.\u001b[39mastype(result_t, copy\u001b[38;5;241m=\u001b[39m\u001b[38;5;28;01mFalse\u001b[39;00m))\n",
      "File \u001b[1;32m~\\AppData\\Local\\Programs\\Python\\Python311\\Lib\\site-packages\\numpy\\linalg\\linalg.py:89\u001b[0m, in \u001b[0;36m_raise_linalgerror_singular\u001b[1;34m(err, flag)\u001b[0m\n\u001b[0;32m     88\u001b[0m \u001b[38;5;28;01mdef\u001b[39;00m \u001b[38;5;21m_raise_linalgerror_singular\u001b[39m(err, flag):\n\u001b[1;32m---> 89\u001b[0m     \u001b[38;5;28;01mraise\u001b[39;00m LinAlgError(\u001b[38;5;124m\"\u001b[39m\u001b[38;5;124mSingular matrix\u001b[39m\u001b[38;5;124m\"\u001b[39m)\n",
      "\u001b[1;31mLinAlgError\u001b[0m: Singular matrix"
     ]
    }
   ],
   "source": [
    "theta,t1_hist,t0_hist=newtons_method(x,y_real)\n",
    "print(theta)\n",
    "plt.figure()\n",
    "plt.plot(range(len(t1_hist)), t1_hist, marker='o')\n",
    "plt.xlabel('Iteration')\n",
    "plt.ylabel('t1')\n",
    "plt.title('Convergence of t1')\n",
    "\n",
    "plt.figure()\n",
    "plt.plot(range(len(t0_hist)), t0_hist, marker='o')\n",
    "plt.xlabel('Iteration')\n",
    "plt.ylabel('t0')\n",
    "plt.title('Convergence of t0')"
   ]
  },
  {
   "cell_type": "markdown",
   "id": "ad74c536",
   "metadata": {},
   "source": [
    "which is nearly same as our initial coefficients"
   ]
  }
 ],
 "metadata": {
  "kernelspec": {
   "display_name": "Python 3 (ipykernel)",
   "language": "python",
   "name": "python3"
  },
  "language_info": {
   "codemirror_mode": {
    "name": "ipython",
    "version": 3
   },
   "file_extension": ".py",
   "mimetype": "text/x-python",
   "name": "python",
   "nbconvert_exporter": "python",
   "pygments_lexer": "ipython3",
   "version": "3.11.1"
  }
 },
 "nbformat": 4,
 "nbformat_minor": 5
}
