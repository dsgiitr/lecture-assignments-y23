{
 "cells": [
  {
   "cell_type": "code",
   "execution_count": 1,
   "id": "899b19dc",
   "metadata": {},
   "outputs": [],
   "source": [
    "import numpy as np\n",
    "import matplotlib.pyplot as plt\n",
    "import pandas as pd\n",
    "from sklearn.preprocessing import StandardScaler"
   ]
  },
  {
   "cell_type": "code",
   "execution_count": 2,
   "id": "7c792381",
   "metadata": {},
   "outputs": [
    {
     "data": {
      "image/png": "[encoded data removed]",
      "text/plain": [
       "<Figure size 640x480 with 1 Axes>"
      ]
     },
     "metadata": {},
     "output_type": "display_data"
    }
   ],
   "source": [
    "np.random.seed(42)  \n",
    "num_samples = 100  \n",
    "intercept = -0.80\n",
    "slope = 2.15\n",
    "noise_std = 0.025  \n",
    "y=np.zeros(100)\n",
    "x = np.linspace(-30,70, num=100)\n",
    "scaler=StandardScaler()\n",
    "x=x.reshape(-1,1)\n",
    "x=scaler.fit_transform(x.reshape(-1,1))\n",
    "logits = intercept + slope * x\n",
    "probs = 1 / (1 + np.exp(-logits))\n",
    "for i in range (0,100):\n",
    "    if (probs[i]<0.5):\n",
    "        y[i]=0\n",
    "    else :\n",
    "        y[i]=1\n",
    "y_real = y + np.random.normal(0, noise_std, num_samples)\n",
    "data = pd.DataFrame({'x': x.ravel(), 'y': y_real})\n",
    "plt.scatter(data['x'], data['y'])\n",
    "plt.plot(x,y,color=\"red\")\n",
    "plt.xlabel('Feature (x)')\n",
    "plt.ylabel('Target (y)')\n",
    "plt.title('Logistic Regression Dataset')\n",
    "plt.show()"
   ]
  },
  {
   "cell_type": "code",
   "execution_count": 3,
   "id": "09f93470",
   "metadata": {},
   "outputs": [
    {
     "data": {
      "text/html": [
       "<div>\n",
       "<style scoped>\n",
       "    .dataframe tbody tr th:only-of-type {\n",
       "        vertical-align: middle;\n",
       "    }\n",
       "\n",
       "    .dataframe tbody tr th {\n",
       "        vertical-align: top;\n",
       "    }\n",
       "\n",
       "    .dataframe thead th {\n",
       "        text-align: right;\n",
       "    }\n",
       "</style>\n",
       "<table border=\"1\" class=\"dataframe\">\n",
       "  <thead>\n",
       "    <tr style=\"text-align: right;\">\n",
       "      <th></th>\n",
       "      <th>x</th>\n",
       "      <th>y</th>\n",
       "    </tr>\n",
       "  </thead>\n",
       "  <tbody>\n",
       "    <tr>\n",
       "      <th>0</th>\n",
       "      <td>-1.714816</td>\n",
       "      <td>0.012418</td>\n",
       "    </tr>\n",
       "    <tr>\n",
       "      <th>1</th>\n",
       "      <td>-1.680173</td>\n",
       "      <td>-0.003457</td>\n",
       "    </tr>\n",
       "    <tr>\n",
       "      <th>2</th>\n",
       "      <td>-1.645531</td>\n",
       "      <td>0.016192</td>\n",
       "    </tr>\n",
       "    <tr>\n",
       "      <th>3</th>\n",
       "      <td>-1.610888</td>\n",
       "      <td>0.038076</td>\n",
       "    </tr>\n",
       "    <tr>\n",
       "      <th>4</th>\n",
       "      <td>-1.576245</td>\n",
       "      <td>-0.005854</td>\n",
       "    </tr>\n",
       "  </tbody>\n",
       "</table>\n",
       "</div>"
      ],
      "text/plain": [
       "          x         y\n",
       "0 -1.714816  0.012418\n",
       "1 -1.680173 -0.003457\n",
       "2 -1.645531  0.016192\n",
       "3 -1.610888  0.038076\n",
       "4 -1.576245 -0.005854"
      ]
     },
     "execution_count": 3,
     "metadata": {},
     "output_type": "execute_result"
    }
   ],
   "source": [
    "data.head()"
   ]
  },
  {
   "cell_type": "markdown",
   "id": "d9ae79de",
   "metadata": {},
   "source": [
    "## Batch Gradient Descent :\n",
    "\n",
    "$we\\ have\\ to\\ minimize\\ negative\\ of\\ log\\ likelihood\\\n",
    "L(\\theta_0,\\theta_1)=-y*(\\log(\\sigma(h_\\theta)))-(1-y)*(\\log(1-\\sigma(h_\\theta)))$<br>\n",
    "$where\\ h_\\theta=\\theta_0+(\\theta_1*x)$<br>\n",
    "$using batch gradient descent :$<br>\n",
    "$\\theta^{k+1}_0=\\theta^{k}_0-\\alpha*(\\frac{\\partial L}{\\partial \\theta_0})_{avg}$<br>\n",
    "$\\theta^{k+1}_1=\\theta^{k}_1-\\alpha*(\\frac{\\partial L}{\\partial \\theta_1})_{avg}$<br>\n",
    "$when\\ J(\\theta)-e(\\theta)\\sim 10^{-6} \\ we\\ stop\\ the\\ iterations\\$"
   ]
  },
  {
   "cell_type": "code",
   "execution_count": 4,
   "id": "dd524c49",
   "metadata": {},
   "outputs": [],
   "source": [
    "def sigmoid(x):\n",
    "    return 1 / (1 + np.exp(-x))\n",
    "\n",
    "def gradient_descent(alpha, x, y, ep=0.0001, max_iter=10000):\n",
    "    converged = False\n",
    "    iter = 0\n",
    "    m = x.shape[0] # number of samples\n",
    "\n",
    "    # initial theta\n",
    "    t0 = np.array([-0.85])\n",
    "    t1 = np.array([2.10])\n",
    "\n",
    "    # Iterate Loop\n",
    "    while not converged:\n",
    "        \n",
    "        # total log likelihood, J(theta)\n",
    "        J = -sum([y[i]*(np.log(sigmoid(t0 + t1*x[i]))) + (1-y[i])*(np.log(1-sigmoid(t0 + t1*x[i]))) for i in range(m)])\n",
    "        \n",
    "        # for each training sample, compute the gradient (d/d_theta j(theta))\n",
    "        grad0 = 1.0/m * -sum([(y[i]/sigmoid(t0 + t1*x[i]) + (1-y[i])/(1-sigmoid(t0 + t1*x[i])))for i in range(m)]) \n",
    "        grad1 = 1.0/m * -sum([(y[i]*x[i]/sigmoid(t0 + t1*x[i])) + ((1-y[i])*x[i]/(1-sigmoid(t0 + t1*x[i]))) for i in range(m)])\n",
    "\n",
    "        # update the theta_temp\n",
    "        temp0 = t0 - alpha * grad0\n",
    "        temp1 = t1 - alpha * grad1\n",
    "    \n",
    "        # update theta\n",
    "        t0 = temp0\n",
    "        t1 = temp1\n",
    "\n",
    "        e = -sum([y[i]*(np.log(sigmoid(t0 + t1*x[i]))) + (1-y[i])*(np.log(1-sigmoid(t0 + t1*x[i]))) for i in range(m)]) \n",
    "\n",
    "        if abs(J-e) <= ep:\n",
    "            print ('Converged, iterations: ', iter, '!!!')\n",
    "            converged = True\n",
    "    \n",
    "        J = e   # update error \n",
    "        iter += 1  # update iter\n",
    "    \n",
    "        if iter == max_iter:\n",
    "            print('Max interations exceeded!')\n",
    "            converged = True\n",
    "\n",
    "    return t0,t1"
   ]
  },
  {
   "cell_type": "code",
   "execution_count": 5,
   "id": "4bf20b25",
   "metadata": {},
   "outputs": [
    {
     "name": "stdout",
     "output_type": "stream",
     "text": [
      "Converged, iterations:  125 !!!\n",
      "[-0.8339786] [2.1008317]\n"
     ]
    }
   ],
   "source": [
    "alpha = 0.0001 # learning rate\n",
    "ep = 0.000001 # convergence criteria\n",
    "theta0, theta1 = gradient_descent(alpha, x, y_real, ep, max_iter=3000)\n",
    "print(theta0,theta1)"
   ]
  },
  {
   "cell_type": "markdown",
   "id": "ad74c536",
   "metadata": {},
   "source": [
    "which is nearly same as our initial coefficients"
   ]
  }
 ],
 "metadata": {
  "kernelspec": {
   "display_name": "Python 3 (ipykernel)",
   "language": "python",
   "name": "python3"
  },
  "language_info": {
   "codemirror_mode": {
    "name": "ipython",
    "version": 3
   },
   "file_extension": ".py",
   "mimetype": "text/x-python",
   "name": "python",
   "nbconvert_exporter": "python",
   "pygments_lexer": "ipython3",
   "version": "3.11.1"
  }
 },
 "nbformat": 4,
 "nbformat_minor": 5
}
