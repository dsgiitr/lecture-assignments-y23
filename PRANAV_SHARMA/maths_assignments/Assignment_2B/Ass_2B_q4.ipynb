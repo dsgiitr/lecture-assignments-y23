{
 "cells": [
  {
   "cell_type": "markdown",
   "id": "c6943e8f",
   "metadata": {},
   "source": [
    "# Question 4\n",
    "## part (a) :\n",
    "The sample size n is extremely large, and the number of predictors p is small so a more flexible model would be better as this would ensure a lower bias and as sample size is large so it could also incorporate more complex models.\n",
    "\n",
    "## part (b) :\n",
    "inflexible model would perform better as we need lower variance and also if we take flexible model it can overfit the data and inflexible model could better learn the pattern in the data than learning the noise.\n",
    "\n",
    "## part (c) :\n",
    "as relationship between the predictors and response is highly non-linear so more flexible models could better learn the pattern but it should not be too much flexible as then variance would increase much so we need an optimum flexibility so that bias is also low."
   ]
  },
  {
   "cell_type": "code",
   "execution_count": null,
   "id": "6570d9fb",
   "metadata": {},
   "outputs": [],
   "source": []
  }
 ],
 "metadata": {
  "kernelspec": {
   "display_name": "Python 3 (ipykernel)",
   "language": "python",
   "name": "python3"
  },
  "language_info": {
   "codemirror_mode": {
    "name": "ipython",
    "version": 3
   },
   "file_extension": ".py",
   "mimetype": "text/x-python",
   "name": "python",
   "nbconvert_exporter": "python",
   "pygments_lexer": "ipython3",
   "version": "3.11.1"
  }
 },
 "nbformat": 4,
 "nbformat_minor": 5
}
