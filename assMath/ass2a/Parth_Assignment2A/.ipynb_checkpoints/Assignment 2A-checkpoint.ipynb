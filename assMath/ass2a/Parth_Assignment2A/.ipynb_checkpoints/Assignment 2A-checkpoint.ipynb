{
 "cells": [
  {
   "cell_type": "code",
   "execution_count": 1,
   "id": "ae752274",
   "metadata": {},
   "outputs": [],
   "source": [
    "import numpy as np\n",
    "import matplotlib.pyplot as plt\n"
   ]
  },
  {
   "cell_type": "markdown",
   "id": "5792f24f",
   "metadata": {},
   "source": [
    "## Q3\n",
    "Suppose you have a dataset of observations following a Gaussian distribution with an unknown mean and variance. How would you use MLE to estimate the parameters of the Gaussian distribution in Python?"
   ]
  },
  {
   "cell_type": "markdown",
   "id": "efa38df4",
   "metadata": {},
   "source": [
    "#### Normal Distribution : $f(x) = \\frac{1}{{\\sigma \\sqrt{2\\pi}}} e^{-\\frac{(x - \\mu)^2}{2\\sigma^2}}$\n",
    "#### $\\hat{\\mu}_{\\text{MLE}} = \\frac{1}{n} \\sum_{i=1}^{n} x_i$\n",
    "#### $\\hat{\\sigma}_{\\text{MLE}} = \\sqrt{\\frac{1}{n} \\sum_{i=1}^{n} (x_i - \\bar{x})^2}$"
   ]
  },
  {
   "cell_type": "code",
   "execution_count": 165,
   "id": "991ea9fc",
   "metadata": {},
   "outputs": [],
   "source": [
    "data = np.random.normal(2, 4, 1000)"
   ]
  },
  {
   "cell_type": "code",
   "execution_count": 168,
   "id": "5f905f45",
   "metadata": {},
   "outputs": [
    {
     "data": {
      "image/png": "[encoded data removed]",
      "text/plain": [
       "<Figure size 640x480 with 1 Axes>"
      ]
     },
     "metadata": {},
     "output_type": "display_data"
    }
   ],
   "source": [
    "plt.hist(data, bins = 100)\n",
    "plt.show()"
   ]
  },
  {
   "cell_type": "code",
   "execution_count": 169,
   "id": "2b76ceca",
   "metadata": {},
   "outputs": [],
   "source": [
    "mu_mle = data.mean()"
   ]
  },
  {
   "cell_type": "code",
   "execution_count": 170,
   "id": "45f52f9c",
   "metadata": {},
   "outputs": [],
   "source": [
    "sigma_mle = (((data - data.mean()) ** 2).mean()) ** 0.5"
   ]
  },
  {
   "cell_type": "code",
   "execution_count": 171,
   "id": "83a1b5a0",
   "metadata": {},
   "outputs": [
    {
     "name": "stdout",
     "output_type": "stream",
     "text": [
      "Estimated 𝜇 : 1.9706399225581466\n",
      "Estimated 𝜎 : 3.9397474357257147\n"
     ]
    }
   ],
   "source": [
    "print(\"Estimated 𝜇 :\", mu_mle)\n",
    "print(\"Estimated 𝜎 :\", sigma_mle )"
   ]
  },
  {
   "cell_type": "markdown",
   "id": "004c4c0e",
   "metadata": {},
   "source": [
    "## Q4 \n",
    "Suppose you have a dataset of binary classification, and you want to estimate the parameters of a logistic regression model using MAP estimation with a Gaussian prior on the model parameters. How would you formulate the likelihood, prior, and posterior distributions, and how would you find the MAP estimate of the model parameters in Python?"
   ]
  },
  {
   "cell_type": "markdown",
   "id": "9ca49429",
   "metadata": {},
   "source": [
    "#### Answer :\n",
    "\n",
    "Let $\\theta$ be model parameters and $x$ be sample data then we can say : $$p(\\theta | x) = \\frac{p(x | \\theta) \\cdot p(\\theta)}{p(x)}$$\n",
    "where :  \n",
    "$$\n",
    "p(\\theta | x) : Posterior\n",
    "$$\n",
    "$$\n",
    "p(x | \\theta) : Likelihood    \n",
    "$$\n",
    "$$\n",
    "p(\\theta) : Prior    \n",
    "$$\n",
    "\n",
    "In the case of Logistic Regression the likelihood function will be : $$p(x | \\theta) = \\prod_{i=1}^{n} \\left[ \\sigma(\\theta^T x_i) \\right]^{y_i} \\left[ 1 - \\sigma(\\theta^T x_i) \\right]^{1 - y_i}\n",
    "$$\n",
    "(Since the data follows Bernoulli Distribution)  \n",
    "(Here $\\sigma$ represnets Sigmoid function and $n$ will be batch size)\n",
    "\n",
    "Given that $\\theta \\sim \\mathcal{N}(x; \\mu, \\sigma^2) $  \n",
    "We can say : \n",
    "$$p(\\theta) =  \\prod_{i=1}^{m} \\frac{1}{{\\sigma \\sqrt{2\\pi}}} e^{-\\frac{(\\theta_i - \\mu)^2}{2\\sigma^2}}$$\n",
    "\n",
    "As $p(x)$ does not depend upon $\\theta$ we can say \n",
    "\n",
    "$$\n",
    "p(\\theta|x) \\propto p(x|\\theta)p(\\theta)\n",
    "$$ \n",
    "\n",
    "\n",
    "\n",
    "also we don't want to find the exact the value of $p(\\theta|x)$ we just want to find the value of $\\theta$ where its value will be maximum.  \n",
    "To make things easier we can also say since log function is monotonic:\n",
    "\n",
    "\n",
    "$$\n",
    "\\log{p(\\theta|x)} \\propto \\log{p(x |\\theta)} + \\log{p(\\theta)}\n",
    "$$\n",
    "\n",
    "\n",
    "$$\n",
    "\\log{p(\\theta | x)} \\propto \\sum_{i=1}^{n} [y_i \\log{\\sigma(\\theta^T x_i)} + (1 - y_i)\\log{\\sigma(\\theta^T x_i)}] + \\sum_{i=1}^{m}-\\frac{(\\theta_i - \\mu)^2}{2\\sigma^2} + const.\n",
    "$$\n",
    "\n",
    "Now our goal in MAP is to maximize $p(\\theta | x)$ be varying $\\theta$\n",
    "or we can say to minimize $-\\log{p(\\theta | x)}$\n",
    "\n",
    "The expression becomes\n",
    "$$\n",
    "\\mathcal{L}(\\theta, x, y) = -\\sum_{i=1}^{n} [y_i \\log{\\sigma(\\theta^T x_i)} + (1 - y_i)\\log{\\sigma(\\theta^T x_i)}] + \\sum_{i=1}^{m}[\\frac{\\theta_i^2}{2\\sigma^2} - \\frac{\\theta_i\\mu}{\\sigma^2}] + const.\n",
    "$$  \n",
    "since we need to minimize it we can consider it as our new loss function for optimizing the parameters of the model \n",
    "Then we can use batch gradient descent to optimize $\\theta$ by first calculating loss for a batch then calculating gradient of loss wrt. $\\theta$ i.e. $\\frac{\\partial\\mathcal{L}}{\\partial \\theta}$ and optimizing them by the following equation :\n",
    "$$\n",
    "\\theta_{t+1} = \\theta_{t} - {\\eta \\frac{\\partial\\mathcal{L}}{\\partial \\theta}}\n",
    "$$  \n",
    "where $\\eta$ is a hyperparameter and at time step $t$ for multiple such time steps"
   ]
  },
  {
   "cell_type": "markdown",
   "id": "6641ec40",
   "metadata": {},
   "source": [
    "### Q6"
   ]
  },
  {
   "cell_type": "code",
   "execution_count": 77,
   "id": "3eb355a6",
   "metadata": {},
   "outputs": [],
   "source": [
    "import numpy as np\n",
    "import matplotlib.pyplot as plt\n",
    "from scipy import stats\n",
    "import pandas as pd\n",
    "from tqdm import tqdm"
   ]
  },
  {
   "cell_type": "markdown",
   "id": "0b67a6d3",
   "metadata": {},
   "source": [
    "### Strategy Used to estimate parameters  \n",
    "We will be using Bayes Theorem to calculate $P(D_1|x)$ and $P(D_2|x)$ which means probability that data belongs to $D_1$ given x and similar for $D_2$. Then we can use it to calculate mean for $D_1$ that is $E(x | D1)$ or mean of x assuming they belong to $D_1$ similar for $D_2$ and update the values of $u_1$ and $u_2$ with new means. Similarly we can calculate variance of $x$ assuming that they belong to $D_1$ and take its sqrt() to get sigma1 and similary get $sigma_2$ from $D_2$. For $r$ that is the fraction of samples from $D_1$ we need to calculate $E(D_1|x)$ that is the expected value of posterior of $D_1$ conditioned on $x$. "
   ]
  },
  {
   "cell_type": "code",
   "execution_count": 156,
   "id": "a5a7c1d9",
   "metadata": {},
   "outputs": [],
   "source": [
    "u1, u2, sigma1, sigma2, r = -1, 1, 0.5, 1, 0.5 #Assume Initial Random Values"
   ]
  },
  {
   "cell_type": "code",
   "execution_count": 161,
   "id": "89eb24ef",
   "metadata": {},
   "outputs": [],
   "source": [
    "#Bayes Theorem\n",
    "def P_D1_x(x, u1, u2, sigma1, sigma2, r): #P(D1|x) = P(x|D1) * P(D1) / (P(x|D1) * P(D1)  +  P(x|D2) * P(D2))\n",
    "    pdf1 = stats.norm(u1, sigma1)\n",
    "    pdf2 = stats.norm(u2, sigma2)\n",
    "    return  r * pdf1.pdf(x) / (r * pdf1.pdf(x) + (1 - r) * pdf2.pdf(x))\n",
    "\n",
    "def P_D2_x(x, u1, u2, sigma1, sigma2, r): #P(D2|x) = P(x|D2) * P(D2) / (P(x|D1) * P(D1)  +  P(x|D2) * P(D2))\n",
    "    pdf1 = stats.norm(u1, sigma1)\n",
    "    pdf2 = stats.norm(u2, sigma2)\n",
    "    return  (1 - r) * pdf2.pdf(x) / (r * pdf1.pdf(x) + (1 - r) * pdf2.pdf(x))"
   ]
  },
  {
   "cell_type": "code",
   "execution_count": 158,
   "id": "816a03a9",
   "metadata": {},
   "outputs": [],
   "source": [
    "data = pd.read_csv('dataset.csv')"
   ]
  },
  {
   "cell_type": "code",
   "execution_count": 159,
   "id": "b1cfdbd9",
   "metadata": {},
   "outputs": [],
   "source": [
    "x = np.array(data)"
   ]
  },
  {
   "cell_type": "code",
   "execution_count": 160,
   "id": "b4263021",
   "metadata": {},
   "outputs": [
    {
     "data": {
      "image/png": "[encoded data removed]",
      "text/plain": [
       "<Figure size 640x480 with 1 Axes>"
      ]
     },
     "metadata": {},
     "output_type": "display_data"
    }
   ],
   "source": [
    "#Given data distribution\n",
    "plt.hist(x, bins = 100)\n",
    "plt.show()"
   ]
  },
  {
   "cell_type": "code",
   "execution_count": 162,
   "id": "9d122ac7",
   "metadata": {},
   "outputs": [
    {
     "name": "stderr",
     "output_type": "stream",
     "text": [
      "100%|███████████████████████████████████████████████████████| 30/30 [00:05<00:00,  5.21it/s]\n"
     ]
    }
   ],
   "source": [
    "for i in tqdm(range(30)):\n",
    "    p_d1_x = P_D1_x(x, u1, u2, sigma1, sigma2, r).reshape(-1) # P(D1 | x = x1, x2, x3, x4 ...)\n",
    "    p_d2_x = P_D2_x(x, u1, u2, sigma1, sigma2, r).reshape(-1) # P(D2 | x = x1, x2, x3, x4 ...)\n",
    "    \n",
    "    u1 = p_d1_x.dot(x) / sum(p_d1_x) # mu1 = E(x | D1) \n",
    "    u2 = p_d2_x.dot(x) / sum(p_d2_x) # mu2 = E(x | D2)\n",
    "    \n",
    "    sigma1 = (p_d1_x.dot((x - u1)**2)/(sum(p_d1_x))) ** 0.5 # sigma1 = sqrt(Var(x | D1))\n",
    "    sigma2 = (p_d2_x.dot((x - u2)**2)/(sum(p_d2_x))) ** 0.5 # sigma2 = sqrt(Var(x | D2))\n",
    "    \n",
    "    r = (p_d1_x).mean() # E(D1 | x) "
   ]
  },
  {
   "cell_type": "code",
   "execution_count": 163,
   "id": "fc0a122c",
   "metadata": {},
   "outputs": [
    {
     "data": {
      "image/png": "[encoded data removed]",
      "text/plain": [
       "<Figure size 640x480 with 1 Axes>"
      ]
     },
     "metadata": {},
     "output_type": "display_data"
    }
   ],
   "source": [
    "#Predicted PDF\n",
    "xs = np.linspace(-20, 25, 1000)\n",
    "def pdf(u1, sigma1, u2, sigma2, r, x):\n",
    "    pdf1 = stats.norm(u1, sigma1)\n",
    "    pdf2 = stats.norm(u2, sigma2)\n",
    "    return pdf1.pdf(x) * r + pdf2.pdf(x) * ( 1 - r)\n",
    "\n",
    "plt.plot(xs, pdf(u1, sigma1, u2, sigma2, r, xs), color = 'blue')\n",
    "plt.show()"
   ]
  },
  {
   "cell_type": "markdown",
   "id": "0c971cb6",
   "metadata": {},
   "source": [
    "#### iv.   \n",
    "If both D1 and D2 distributions are given then we can employ similar strategy used in the above problem wherein instead of estimating u1, sigma1, u2, sigma2 we will just estimate the value of r that is the probability a data point belongs to D1, thus r = n(D1) / (n(D1) + n(D2)) so ratio of n(D1) : n(D2) will be just r / (1 - r)"
   ]
  }
 ],
 "metadata": {
  "kernelspec": {
   "display_name": "Python 3 (ipykernel)",
   "language": "python",
   "name": "python3"
  },
  "language_info": {
   "codemirror_mode": {
    "name": "ipython",
    "version": 3
   },
   "file_extension": ".py",
   "mimetype": "text/x-python",
   "name": "python",
   "nbconvert_exporter": "python",
   "pygments_lexer": "ipython3",
   "version": "3.10.6"
  }
 },
 "nbformat": 4,
 "nbformat_minor": 5
}
