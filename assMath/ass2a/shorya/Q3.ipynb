{
 "cells": [
  {
   "cell_type": "code",
   "execution_count": 4,
   "id": "456148e3",
   "metadata": {},
   "outputs": [
    {
     "name": "stdout",
     "output_type": "stream",
     "text": [
      "Enter the number of datapoints: 1000000\n",
      "Enter the mean: 2.56\n",
      "Enter the standard deviation: 1.2\n",
      "The parameters from MLE for the normal are: 2.5590225411793885 and 1.4417001920006909\n"
     ]
    }
   ],
   "source": [
    "#The derivation is given in the handwritten solutions\n",
    "import numpy as np\n",
    "n=int(input(\"Enter the number of datapoints: \"))\n",
    "mu=float(input(\"Enter the mean: \"))\n",
    "sigma=float(input(\"Enter the standard deviation: \"))\n",
    "data=[]\n",
    "data=np.random.normal(mu, sigma, n)\n",
    "mean_mle=sum(data)/n\n",
    "variance_mle=0\n",
    "for i in range(n):\n",
    "    variance_mle+=(data[i]-mean_mle)**2\n",
    "variance_mle/=n\n",
    "print(\"The parameters from MLE for the normal are:\",mean_mle,\"and\",variance_mle)"
   ]
  },
  {
   "cell_type": "markdown",
   "id": "b2fb48fb",
   "metadata": {},
   "source": [
    "I have provided the explanation in the handwritten solutions"
   ]
  }
 ],
 "metadata": {
  "kernelspec": {
   "display_name": "Python 3 (ipykernel)",
   "language": "python",
   "name": "python3"
  },
  "language_info": {
   "codemirror_mode": {
    "name": "ipython",
    "version": 3
   },
   "file_extension": ".py",
   "mimetype": "text/x-python",
   "name": "python",
   "nbconvert_exporter": "python",
   "pygments_lexer": "ipython3",
   "version": "3.9.13"
  }
 },
 "nbformat": 4,
 "nbformat_minor": 5
}
