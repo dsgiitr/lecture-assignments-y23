{
  "nbformat": 4,
  "nbformat_minor": 0,
  "metadata": {
    "colab": {
      "provenance": []
    },
    "kernelspec": {
      "name": "python3",
      "display_name": "Python 3"
    },
    "language_info": {
      "name": "python"
    }
  },
  "cells": [
    {
      "cell_type": "markdown",
      "source": [
        "## **Assignment 2A**\n"
      ],
      "metadata": {
        "id": "Nn59ntocyMfK"
      }
    },
    {
      "cell_type": "markdown",
      "source": [
        "### __Question 1__\n",
        "\n",
        "The posterior, likelihood and prior are related according to,\n",
        "\n",
        "$ P(\\theta | y) = \\frac{P(y | \\theta) P(\\theta)}{P(y)} $\n",
        "\n",
        "Let A denote that Alice is working, B denote that Bob is working and $d$ denote the data that the boss has collected.\n",
        "\n",
        "$ \\lambda_a (=10) $ is the average number of tickets Alice collects and $ \\lambda_b (=15) $ is the average number of tickets Bob collects and note that the number of tickets $ X$ that they collect is modelled by a possion distribution,\n",
        "\n",
        "$ P(X=x)= \\frac{\\lambda ^x e^{-\\lambda}}{x!}$\n",
        "\n",
        "Now, odds that Alice is working in place of Bob = $O(A)=\\frac{P(A)}{P(B)}=\\frac{1}{10}$\n",
        "\n",
        "Thus, $P(A)=\\frac{1}{11}$ and $P(B)=\\frac{10}{11}$\n",
        "\n",
        "Further, we need the posterior odds that Alice is filling in for Bob, that is,\n",
        "\n",
        "$O($Alice works|data$)=\\frac{P(Alice\\;works|data)}{P(Bob\\;works|data)}=\\frac{P(A|d)}{P(B|d)}$\n",
        "\n",
        "Here,\n",
        "\n",
        "$P(A|d)=\\frac{P(d|A).P(A)}{P(d)}=\\frac{\\prod\\limits_{i=1}^{5}\\frac{\\lambda_a ^{x_i} e^{-\\lambda}}{x_i!}.P(A)}{P(d)} = \\frac{\\frac{10^{12+10+11+4+11} e^{-50}}{12! 10! 11! 4! 11!}}{P(d)}.\\frac{1}{11}$\n",
        "\n",
        "$P(B|d)=\\frac{P(d|B). P(B)}{P(d)}= \\frac{\\prod\\limits_{i=1}^{5}\\frac{\\lambda_b ^{x_i} e^{-\\lambda}}{x_i!}.P(B)}{P(d)} =\\frac{ \\frac{15^{12+10+11+4+11} e^{-75}}{12! 10! 11! 4! 11!}}{P(d)}. \\frac{10}{11}$\n",
        "\n",
        "$O($Alice works|data$)=\\frac{P(d|A)}{P(d|B)}\\frac{P(A)}{P(B)} = (\\frac{10}{15})^{48}e^{25} (\\frac{1}{10}) ≈ 25.409$"
      ],
      "metadata": {
        "id": "mFqla4Vxeys9"
      }
    },
    {
      "cell_type": "markdown",
      "source": [
        "### __Question 2__\n",
        "\n",
        "#### __Part (a)__\n",
        "According to the question,\n",
        "\n",
        "$f(\\theta)\\sim N(5,9) \\implies P(\\theta)= \\frac{1}{3\\sqrt{2\\pi}}e^{\\frac{{-(\\theta-5)^2}}{18}}$ ...prior\n",
        "\n",
        "$f(x|\\theta) \\sim N(\\theta,4) \\implies P(x|\\theta)=\\frac{1}{2\\sqrt{2\\pi}}e^{\\frac{{-(x-\\theta)^2}}{8}}$ ...likelihood\n",
        "\n",
        "Where x=6, hence,\n",
        "\n",
        "$P(x=6|\\theta)= \\frac{1}{2\\sqrt{2\\pi}}e^{\\frac{{-(6-\\theta)^2}}{8}} $\n",
        "\n",
        "Then from the usual Bayesian update table,\n",
        "\n",
        "Posterior, i.e., $f(\\theta|x)=f(x|\\theta).f(\\theta)=\\frac{1}{12\\pi}(e^{-\\frac{(\\theta-5)^2}{18}}.e^{\\frac{-(6-\\theta)^2}{8}}) = \\frac{1}{12\\pi}(e^{{\\frac{-(\\theta-5)^2}{18}}-{\\frac{(6-\\theta)^2}{8}}})$\n",
        "\n",
        "We need to modify the posterior to obtain what the mean and variance will be for the Normal distribution,\n",
        "\n",
        "$\\frac{(\\theta-5)^2}{18}+ \\frac{(6-\\theta)^2}{8}= \\frac{1}{2}(\\frac{\\theta^2-10\\theta+25}{9} + \\frac{\\theta^2-12\\theta+36}{4})$\n",
        "$= \\frac{1}{2}(\\frac{13\\theta^2-148\\theta+424}{36})$\n",
        "$=\\frac{1}{2}(13\\frac{(\\theta^2-\\frac{74}{13})^2+36}{36}) $\n",
        "$=\\frac{1}{2}(\\frac{(\\theta^2-\\frac{74}{13})^2+ 36}{\\frac{36}{13}})$\n",
        "\n",
        "Hence,\n",
        "$f(\\theta|x) \\propto e^{-\\frac{1}{2}(\\frac{(\\theta^2-\\frac{74}{13})^2}{\\frac{36}{13}})}$\n",
        "\n",
        "$\\therefore f(\\theta|x)\\sim N(\\frac{74}{13},\\frac{36}{13})$"
      ],
      "metadata": {
        "id": "-O6Dk3i4ywGa"
      }
    },
    {
      "cell_type": "markdown",
      "source": [
        "#### __Part (b)__\n",
        "\n",
        "Using the formulas given to us,\n",
        "\n",
        "$\\sigma^2 = 4$\n",
        "\n",
        "$\\mu_{prior}=5$\n",
        "\n",
        "$\\sigma_{prior}^2=9$\n",
        "\n",
        "$\\bar{x}=6$\n",
        "\n",
        "$n=4$\n",
        "\n",
        "We get,\n",
        "\n",
        "$a=\\frac{1}{\\sigma_{prior}^2}=\\frac{1}{9}$\n",
        "\n",
        "$b=\\frac{n}{\\sigma^2}=1$\n",
        "\n",
        "$\\mu_{post}=\\frac{{a\\mu_{prior}+b\\bar{x}}}{a+b}=\\frac{\\frac{5}{9}+6}{\\frac{1}{9}+1}=5.9$\n",
        "\n",
        "$\\sigma_{post}^2=\\frac{1}{a+b}=\\frac{1}{\\frac{1}{9}+1}=0.9$\n",
        "\n",
        "Thus, the posterior on theta, $f(\\theta|x)\\sim N(5.9,0.9)$\n",
        "\n",
        "The plot showing the prior and posterior is-"
      ],
      "metadata": {
        "id": "pJyTh7MjFFL_"
      }
    },
    {
      "cell_type": "code",
      "source": [
        "import numpy as np\n",
        "import matplotlib.pyplot as plt\n",
        "from scipy.stats import norm\n",
        "x = np.arange(-10, 30, 0.0001)\n",
        "plt.plot(x, norm.pdf(x, 5, 3), label='μ: 5, σ^2: 9')\n",
        "plt.plot(x, norm.pdf(x, 5.9, 0.948683298), label='μ:5.9, σ^2: 0.9')\n",
        "\n",
        "plt.legend()"
      ],
      "metadata": {
        "colab": {
          "base_uri": "https://localhost:8080/",
          "height": 447
        },
        "id": "ZX6hDNLZI-7n",
        "outputId": "a5595ae1-6759-4fe3-c96a-466e4857f80d"
      },
      "execution_count": null,
      "outputs": [
        {
          "output_type": "execute_result",
          "data": {
            "text/plain": [
              "<matplotlib.legend.Legend at 0x7ff0fd8a36a0>"
            ]
          },
          "metadata": {},
          "execution_count": 8
        },
        {
          "output_type": "display_data",
          "data": {
            "text/plain": [
              "<Figure size 640x480 with 1 Axes>"
            ],
            "image/png": "[encoded data removed]"
          },
          "metadata": {}
        }
      ]
    },
    {
      "cell_type": "markdown",
      "source": [
        "We see that compared to the prior, the posterior has very small variance $(=0.9)$ meaning more accuracy and we see that the posterior has a mean $(=5.9)$ which is very close to $\\bar{x}=6$. Thus we can say with more certainty that that value we receive is closer to $6$."
      ],
      "metadata": {
        "id": "xiVBxQO9LB0b"
      }
    },
    {
      "cell_type": "markdown",
      "source": [
        "#### __Part (c)__\n",
        "\n",
        "$a=\\frac{1}{\\sigma_{prior}^2}$\n",
        "\n",
        "$b=\\frac{n}{\\sigma^2}$\n",
        "\n",
        "$\\mu_{post}=\\frac{{a\\mu_{prior}+b\\bar{x}}}{a+b}$\n",
        "\n",
        "$\\sigma_{post}^2=\\frac{1}{a+b}$\n",
        "\n",
        "If there are more signals being received then $n$ increases. If $n$ increases, so does $b$. Clearly, then $\\sigma_{post}^2$ decreases, meaning less variance and more accuracy.\n",
        "We can say about $\\mu_{post}$ that the weightage of $\\bar{x}$ increases as $b$ increases however no change occurs in $a$ or $\\mu_{prior}$. So, there is just more weightage of $\\bar{x}$ in the value of posterior mean."
      ],
      "metadata": {
        "id": "uBe6gIGoMAaO"
      }
    },
    {
      "cell_type": "markdown",
      "source": [
        "#### __Part (d)__\n",
        "\n",
        "We have been given that IQ follows a distribution $N(100,152)$, so this is the prior that we already have with us, where $\\theta$ is the unknown value of the true IQ such that,\n",
        "\n",
        "$ f(\\theta)\\sim N(100,152)$\n",
        "\n",
        "Next, if a person is tested multiple times, their measured IQ (say $x$) differs from their true IQ ($\\theta$) according to $N(0,102)$. As the mean is 0, the difference in the mean of the measured IQ and the true IQ (which is the true IQ itself which is no more unknown to us) is 0, or the measured IQ has a mean equal to the true value itself,\n",
        "So, the likelihood of some value of IQ given some true value of IQ $\\theta$,\n",
        "\n",
        "$f(x|\\theta) \\sim N(\\theta,102)$\n",
        "\n",
        "$ (i)$ Randall Vard scored 80, so the measured IQ is 80. We can say that the expected value of his true IQ will be obtained from the posterior, the probability of his true IQ given his measured IQ. So, to get the expected value (or mean), we use,\n",
        "\n",
        "$a=\\frac{1}{\\sigma_{prior}^2}$\n",
        "\n",
        "$b=\\frac{n}{\\sigma^2}$\n",
        "\n",
        "$\\mu_{post}=\\frac{{a\\mu_{prior}+b\\bar{x}}}{a+b}$\n",
        "\n",
        "Where,\n",
        "\n",
        "$\\sigma_{prior}^2=152$\n",
        "\n",
        "$\\mu_{prior}=100$\n",
        "\n",
        "$n=1$ and\n",
        "\n",
        "$\\sigma^2=102$ (known variance)\n",
        "\n",
        "Using these,\n",
        "\n",
        "$a=\\frac{1}{152}$\n",
        "\n",
        "$b=\\frac{1}{102}$\n",
        "\n",
        "Here, $\\bar{x}=x=80$ thus,\n",
        "\n",
        "$\\mu_{post}= \\frac{\\frac{1}{152}.100+\\frac{1}{102}.80}{\\frac{1}{152}+\\frac{1}{102}} = 88.031$\n",
        "\n",
        "$(ii)$ Here, for Mary I. Taft, $\\bar{x}=x=150$ thus,\n",
        "\n",
        "$\\mu_{post}= \\frac{\\frac{1}{152}.100+\\frac{1}{102}.150}{\\frac{1}{152}+\\frac{1}{102}} = 129.914$\n"
      ],
      "metadata": {
        "id": "el5ZV7bdPr64"
      }
    },
    {
      "cell_type": "markdown",
      "source": [
        "###__Question 3__\n",
        "We already know how we can use MLE to estimate the unknown mean and variance of a given dataset that follows gaussian distribution.\n",
        "\n",
        "So, let $\\theta$ denote the set of unknown parameters $\\mu$ and $\\sigma$,\n",
        "\n",
        "$\\theta = \\{\\mu,\\sigma\\}$\n",
        "\n",
        "The goal of MLE is the maximize the probability (actually probability density since the data is continuous) of the data given $\\theta$. Hence we want to maximise the following function -\n",
        "\n",
        "$f\\{x_1,x_2....x_n|\\theta\\}$\n",
        "\n",
        "where, of course,\n",
        "\n",
        "$f(x_i|\\theta)= \\frac{1}{\\sqrt{2\\pi\\sigma}}e^{\\frac{{-(x_i-\\mu)^2}}{2\\sigma^2}}$\n",
        "\n",
        "Thus we aim the find the optimal $\\theta$ for which $f$ is maximised,\n",
        "\n",
        "$\\hat{\\theta}_{MLE}=argmax_{\\theta}\\prod\\limits_{i}^{n}f(x_i|\\theta)$\n",
        "\n",
        "To simplify calculation (taking derivative to maximise $f$), we use logarithmic function. Then by simple algebra, our equatio above changes to,\n",
        "\n",
        "$\\hat{\\theta}_{MLE}=argmax_{\\theta}\\sum_\\limits{i}^{n}ln(f(x_i|\\theta))$\n",
        "\n",
        "From MAN-006, we have already calculated the parameters estimated by MLE by taking the derivative of the log of the probability density f with respect to each unknown parameter and equating that to zero, and they turn out to be,\n",
        "\n",
        "$\\hat{\\mu}_{MLE}=\\frac{1}{n}\\sum\\limits_{i}^{n}x_i$\n",
        "\n",
        "Which is simply the sample mean, and,\n",
        "\n",
        "$\\hat{\\sigma}^2_{MLE}=\\frac{1}{n}\\sum\\limits_{i}^{n}(x_i-\\mu)^2$\n",
        "\n",
        "Which is the sample variance.\n",
        "\n",
        "Now, our next goal is to use python to estimate this. So, all we should have to do is give a dataset that follows gaussian distibution, define the Maximum likelihood function (the logarithmic form) and then maximize it using python to obtain the required estimates.\n",
        "\n",
        "A small research on the internet revealed that the easiest way to maximise the function would be using Scipy. Instead of trying to maximize the log-likelihood funciton, the standard way seems to be to minimize the negative log-likelihood function."
      ],
      "metadata": {
        "id": "Nrayn0lxLFd2"
      }
    },
    {
      "cell_type": "code",
      "source": [
        "# first let's generate a dataset following a gaussian distribution using numpy\n",
        "import numpy as np\n",
        "from scipy.optimize import minimize\n",
        "from scipy.stats import norm\n",
        "\n",
        "truemean = 100\n",
        "truevariance=152\n",
        "truesd=np.sqrt(truevariance)\n",
        "n=1000\n",
        "dataset = np.random.normal(truemean,truesd, size=n)\n",
        "print(\"True Mean:\", truemean)\n",
        "print(\"True Variance:\",truevariance )\n",
        "\n",
        "#print(dataset)\n",
        "\n",
        "# now we must define the negative log-likelihood function\n",
        "\"\"\"\n",
        "def likelihood(parameters,dataset):\n",
        "    mean = parameters[0]\n",
        "    sd=parameters[1]\n",
        "    sum=0\n",
        "    for i in dataset:\n",
        "      data=i\n",
        "      pdf = norm.pdf(data , loc = mean , scale = sd )\n",
        "      LL=np.log(pdf)\n",
        "      sum+=LL\n",
        "    negativeLL= -1*sum\n",
        "    return negativeLL\n",
        "\"\"\"\n",
        "\n",
        "def likelihood(parameters, dataset):\n",
        "    mean, variance = parameters\n",
        "    sum=0\n",
        "    N = len(dataset)\n",
        "    for i in dataset:\n",
        "      sum+=(i-mean)**2\n",
        "    LL = - N/2 * np.log(variance) - 1/(2*variance) * sum\n",
        "    return -LL\n",
        "\n",
        "# Scipy optimization algorithms require a intial parameter value, closer to the true value, faster the optimization algorithm\n",
        "# we will set the initial parameters to the standard normal distribution values since we don't have a prior\n",
        "initialparameters=[0,1]\n",
        "\n",
        "# now we can use Scipy to minimize the negative log-likelihood function\n",
        "result= minimize(likelihood, initialparameters, args=(dataset,),method='L-BFGS-B')\n",
        "estimatedmean,estimatedsd=result.x\n",
        "print(\"Estimated Mean:\", estimatedmean)\n",
        "print(\"Estimated Standard deviation:\",estimatedsd )\n",
        "\n",
        "# at first I was using scipy to define the normal pdf but....\n",
        "# this was not working on high values of mean and standard deviation (bigger values are giving RuntimeWarning: divide by zero encountered in log )\n",
        "# I tried searching about this error a lot but didn't find anything very helpful then I switched to defining log-likelihood function from scratch and it worked!\n",
        "# further it important to specify the method of optimization as L-BFGS-B otherwise we keep getting \"invalid value encountered in log\" error. No idea what's happening!\n",
        "# L-BFGS-B is a variation of the standard BFGS algorithm which is used when we have limited memory and our variables have some bound, its also much faster\n"
      ],
      "metadata": {
        "colab": {
          "base_uri": "https://localhost:8080/"
        },
        "id": "M5Z7s0BXWVOf",
        "outputId": "089816a0-7b42-43fb-8b10-c5309fd03eb4"
      },
      "execution_count": null,
      "outputs": [
        {
          "output_type": "stream",
          "name": "stdout",
          "text": [
            "True Mean: 100\n",
            "True Variance: 152\n",
            "Estimated Mean: 99.46425688255611\n",
            "Estimated Standard deviation: 167.37918914364832\n"
          ]
        }
      ]
    },
    {
      "cell_type": "markdown",
      "source": [
        "###__Question 4__\n",
        "\n",
        "Firstly, let's break down the problem and understand what is asked of us.\n",
        "\n",
        "So, we have a dataset of binary classification, which means our data has outcomes 0 or 1 only. We want to use logistic regression model for the classification and we're been given that the model parameters (conventionally taken as __w__) has a gaussian prior.\n",
        "\n",
        "Now, we want to formulate the likelihood, the prior and the posterior and then find the MAP estimate of the model parameters.\n",
        "\n",
        "After a bit of revision, we recall that in logistic regression we use the logistic function to define the likelihood function such that it is exactly of the form,\n",
        "\n",
        "$P(y|\\textbf{x})=\\frac{1}{1+e^{(\\textbf{w}^{\\textbf{T}}\\textbf{x}+b)}}$\n",
        "\n",
        "Where, $\\textbf{w}$ is the vector of parameters.\n",
        "\n",
        "We might make assumptions on the posterior, that is,\n",
        "\n",
        "$P(x|y)$ but it doesn't matter since here we'll be directly using MAP to estimate the parameters.\n",
        "\n",
        "In MAP, our goal is to maximise the posterior (unlike MLE where we maximise the likelihood function). As we already know,\n",
        "\n",
        "$P(\\textbf{w}|y)=P(y|\\textbf{x},\\textbf{w}).P(\\textbf{w})$\n",
        "\n",
        "Then, we require the value of $\\textbf{w}$ such that the posterior is maximized.\n",
        "\n",
        "$argmax_{\\textbf{w}}[P(y|\\textbf{w}).P(\\textbf{w})]=argmax_{\\textbf{w}}\\{[ln[P(y|\\textbf{w})]+ ln[P(\\textbf{w})]\\}=argmin_{\\textbf{w}}\\{-[ln[P(y|\\textbf{w})]- ln[P(\\textbf{w})]\\}$\n",
        "\n",
        "Now, we have a binary classification situation, so we have to utilise the fact that Y can only take values 0 and 1. So, only one of the following two terms is going to be non-zero for any given Y,\n",
        "\n",
        "$P(Y=1|X)=\\frac{e^{(\\textbf{w}^{\\textbf{T}}\\textbf{x}+b)}}{1+e^{(\\textbf{w}^{\\textbf{T}}\\textbf{x}+b)}}$\n",
        "\n",
        "And,\n",
        "\n",
        "$P(Y=0|X)=\\frac{1}{1+e^{(\\textbf{w}^{\\textbf{T}}\\textbf{x}+b)}}$\n",
        "\n",
        "So now our goal becomes,\n",
        "\n",
        "$\\hat{\\textbf{w}}_{MAP}=argmax_{\\textbf{w}}\\{[ln[\\prod\\limits_{1}^{n}P(y_i|\\textbf{w})]+ ln[P(\\textbf{w})]\\}$\n",
        "$=argmax_{\\textbf{w}}\\{[\\sum\\limits_{1}^{n}ln[P(y_i|\\textbf{w})]+ ln[P(\\textbf{w})]\\}$\n",
        "\n",
        "Now, according to the above utilisation, we can rewrite $ln[P(y_i|\\textbf{w})]$ as,\n",
        "\n",
        "$=\\sum\\limits_{1}^{n}Y_i.ln[P(Y_i=1|X_i,\\textbf{w})]+(1-Y_i).ln[P(Y_i=0|X_i,\\textbf{w})]$\n",
        "\n",
        "$=\\sum\\limits_{1}^{n}Y_i.ln[\\frac{P(Y_i=1|X_i,\\textbf{w})}{P(Y_i=0|X_i,\\textbf{w})}]+ln[P(Y_i=0|X_i,\\textbf{w})]$\n",
        "\n",
        "$=\\sum\\limits_{1}^{n}\\{Y_i.(\\textbf{w}^{\\textbf{T}}\\textbf{x}_i+b)-ln(1+e^{(\\textbf{w}^{\\textbf{T}}\\textbf{x}_i+b)})\\}$\n",
        "\n",
        "Now, let's come to the fact that our model paramters have a gaussian prior. We will pick the simplest and most convenient zero-mean gaussian with a known variance $\\sigma$ for every parameter.\n",
        "\n",
        "$w_j \\sim N(0,\\sigma^2)$ such that $P(\\textbf{w})=\\prod\\limits_{1}^{n}\\frac{1}{\\sigma\\sqrt{2\\pi}}e^{\\{\\frac{{-w_j}^2}{2\\sigma^2}\\}}$\n",
        "\n",
        "Then, (excluding terms not containing $w_j$,\n",
        "\n",
        "$ln[P(\\textbf{w})]=-\\frac{1}{2\\sigma^2}\\sum\\limits_{1}^{f}{\\textbf{w}_j}^2$\n",
        "\n",
        "Putting everything together, our goal is,\n",
        "\n",
        "$argmin_{\\textbf{w}}\\{-[ln[P(y|\\textbf{w})]- ln[P(\\textbf{w})]\\}=\\frac{1}{2\\sigma^2}\\sum\\limits_{1}^{f}{\\textbf{w}_j}^2 - \\sum\\limits_{1}^{n}\\{Y_i.(\\textbf{w}^\\textbf{T}.x_i+b)-ln(1+e^{(\\textbf{w}^{\\textbf{T}}\\textbf{x}_i+b)})\\}$\n",
        "\n",
        "So far, I believe we can do the same sort of thing we've done in the previous question - define each of the functions and finally use Scipy to minimise this poeterior.\n",
        "\n",
        "We'll have to specify the prior ourselves, so for the sake of simplicity, we can absorb the parameter $b$ into $w$ through an additional constant dimension in $w$ (read in some papers).\n",
        "\n",
        "So, $w$ has multivariate gaussian prior and once again, for simplicity, let's say it has just two dimensions (we'll also include $b$ so the final dimension of $w$ will be. Our goal now looks like minimising the following function,\n",
        "\n",
        "$=\\sum\\limits_{1}^{f}\\frac{1}{2\\sigma^2}{\\textbf{w}_j}^2 -\\sum\\limits_{1}^{n}\\{Y_i.(\\textbf{w}^{\\textbf{T}}\\textbf{x}_i)-ln(1+e^{(\\textbf{w}^{\\textbf{T}}\\textbf{x}_i)})\\}$\n",
        "\n",
        "So, let us begin."
      ],
      "metadata": {
        "id": "ugh_Avb9wn9f"
      }
    },
    {
      "cell_type": "code",
      "source": [
        "import numpy as np\n",
        "from sklearn.datasets import make_classification\n",
        "from scipy.optimize import minimize\n",
        "\"\"\"\n",
        "# first we'll have to generate a dataset, let size be n and number of features (dimension of w) be f. Here we have just one feature\n",
        "n= 1000\n",
        "f= 2+1\n",
        "x, y = make_classification(n_samples=n,n_features=f,n_redundant=0,n_informative=3,n_repeated=0, random_state=444)\n",
        "#print(x.shape)\n",
        "#print(y)\n",
        "\n",
        "# now for w, it's up to us to choose the variance, so let's assume the following\n",
        "pmean=0\n",
        "pvar=5\n",
        "\n",
        "def logprior(w,variance):\n",
        "    logprior = (-1/(2*variance)) * np.sum(np.square(w))\n",
        "    return logprior\n",
        "\"\"\"\n",
        "# first we'll have to generate a dataset, let size be n and number of features (dimension of w -1) be f.\n",
        "n = 1000\n",
        "f = 2\n",
        "priormean=0 # for every parameter\n",
        "priormeanvector = np.zeros(f + 1) # absorbing parameter b\n",
        "priorvariance=5 # for every parameter and they are independent of each other\n",
        "priorcovariance = priorvariance * np.eye(f + 1)  # absorbing parameter b, covariances are all 0, variance of each is equal to priorvariance\n",
        "\n",
        "truew = np.random.multivariate_normal(priormeanvector, priorcovariance)\n",
        "print(\"True parameters used for data generation :\",truew)\n",
        "\n",
        "x = np.hstack((np.ones((n, 1)), np.random.uniform(-1, 1, size=(n, f)))) # bias is fixed at 1, generating random features (n of them, each is a vector with 3 elements, first is 1)\n",
        "z = np.dot(x, truew)\n",
        "p = 1 / (1 + np.exp(-z)) # y=1 has this probability\n",
        "y = np.random.binomial(1, p)\n",
        "\n",
        "def logprior(w,priormean,priorvariance):\n",
        "    LP = (-1/(2*priorvariance)) * np.sum(np.square(w-priormean))\n",
        "    return LP\n",
        "\n",
        "def loglikelihood(w, x, y):\n",
        "  LL=0\n",
        "  count=0\n",
        "  for i in range(n):\n",
        "    z = np.dot(x[i], w)\n",
        "    LL+=y[i]*(x[i].dot(w.T))-np.log(1+np.exp(z))\n",
        "  return LL\n",
        "\n",
        "\n",
        "def neglogposterior(w,priormean,priorvariance,x,y):\n",
        "  return -logprior(w,priormean,priorvariance)-loglikelihood(w,x,y)\n",
        "\n",
        "# like before, we need initial parameters\n",
        "# print(x.shape)\n",
        "initialparameters_w=np.array([2,2,2]) # w is a vector after all\n",
        "\n",
        "result = minimize(neglogposterior, initialparameters_w, args=(priormean,priorvariance,x,y), method='L-BFGS-B')\n",
        "westimate=result.x\n",
        "print(\"MAP Estimated parameters: \",westimate) # it's pretty close\n",
        "\n"
      ],
      "metadata": {
        "colab": {
          "base_uri": "https://localhost:8080/"
        },
        "id": "PB60-rFGx5Mi",
        "outputId": "db68ff27-3cdf-4253-f0c9-73a31fbdb19e"
      },
      "execution_count": 24,
      "outputs": [
        {
          "output_type": "stream",
          "name": "stdout",
          "text": [
            "True parameters used for data generation : [ 1.20033799 -2.79411209  3.2057022 ]\n",
            "MAP Estimated parameters:  [ 1.24238212 -3.12122653  3.15600055]\n"
          ]
        }
      ]
    },
    {
      "cell_type": "markdown",
      "source": [
        "### __Question 5__\n",
        "\n",
        "We have been asked to find the VC dimension of some concept classes. To make sure I understood this right, VC dimension for a concept class is simply the maximum number of points that the concept class can create a sort of seperation (shatter) for (given each point belongs to one of two classes and taking all $2^n$ possibilites in mind) such that they're classified correctly in their regions and an important thing to note is that all we need is ONE configuration of these points (and the $2^n$ possibilities of class allocation) which can be shattered by the concept class in order to define the VC dimension for it. Meaning, we don't need every configuration (different locations of points, but any one) to be able to define the VC dimension. Also, I haven't gone through the math intensive article yet.\n",
        "\n",
        "#### __(a) Constant Function__\n",
        "Meaning this is a function that can take any constant value. So, from my understanding, given a set of points which are to be classified into two classes, a constant function can only take either \"positive\" or \"negative\" for all the given points. So, if we had 10 points, we could only assign either positive or negative to all the 10 points. If this understanding is correct, then this concept class can only classify 1 point correctly. If we had 2 points then our possibilities (despite their configuration) become,\n",
        "\n",
        "1. +,-\n",
        "\n",
        "2. -,+\n",
        "\n",
        "3. +,+\n",
        "\n",
        "4. -,-\n",
        "\n",
        "And in such a case, assigning only positive or only negative value to both points doesn't satisfy all 4 cases (but only one at a time, either  case 3 or case 4). So, the VC dimension should be 1.\n",
        "\n",
        "#### __(b) Linear Function in d dimensions__\n",
        "A linear function would generate a line in 2 dimensions, a plane in 3 dimensions and so on. From the reading, a linear classifier has cardinality n+1 (given n is the dimension?). Which makes sense for 2 dimensions as the VC dimension there is 3. Again, I have yet to see the mathematical proof for this one. The VC dimension should be d+1.\n",
        "\n",
        "#### __(c) Axis aligned rectangle in 2 dimensions__\n",
        "Here, we are being restricted by \"axis aligned\". If we have 1,2 or 3 points in space, we can just enclose the points of one class within a large enough axis aligned rectangle. If we had 4 points, we can imagine a configuration where two points are lying sort of diagonally to each other but are close enough in any one dimension to allow us to put them in a narrow axis aligned rectangle. So, we'd still be able to enclose 4 points. In case of 5 points however, even if we have 3 points close together, a different combination of classes would cause difficulty like if we had the centre point of one class (+), the two side points of another class (-) and the other two outward points also of the same class as the centre point (+), then a 2-D axis aligned rectangle can't shatter these points. No other configuration works either. So, VC Dimension has to be 4.\n",
        "\n",
        "#### __(d) Intervals__\n",
        "Intervals as in some interval on an infinite line. Now, if we have 3 points, they'd obviously be collinear and then the situation where a negative(or positive) point lies between two positive (or negative) points, would make it impossible to define an interval to shatter them. So, VC dimension can be 2.\n",
        "\n",
        "\n"
      ],
      "metadata": {
        "id": "ByZ8ATC1re9E"
      }
    }
  ]
}