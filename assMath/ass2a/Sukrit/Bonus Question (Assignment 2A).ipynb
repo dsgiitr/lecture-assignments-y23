{
 "cells": [
  {
   "cell_type": "code",
   "execution_count": 1,
   "id": "ece3cdfb",
   "metadata": {},
   "outputs": [],
   "source": [
    "import numpy as np\n",
    "import pandas as pd\n",
    "import matplotlib.pyplot as plt\n",
    "import seaborn as sns\n",
    "import scipy as sp"
   ]
  },
  {
   "cell_type": "markdown",
   "id": "25c1d948",
   "metadata": {},
   "source": [
    "# Theory"
   ]
  },
  {
   "cell_type": "code",
   "execution_count": 2,
   "id": "2a18f02d",
   "metadata": {},
   "outputs": [
    {
     "data": {
      "text/latex": [
       "\\begin{equation}\n",
       "\\text{For a mixed dataset of two distributions, the following are the theoretical values given by calculating its mean, variance, skewness and kurtosis}\n",
       "\\end{equation}\n",
       "\\begin{equation}\n",
       "\\begin{matrix} X_1 \\sim \\operatorname{\\mathscr{N}}\\left( \\mu_1, \\sigma_1^2 \\right), & X_2 \\sim \\operatorname{\\mathscr{N}}\\left( \\mu_2, \\sigma_2^2 \\right) \\end{matrix}\n",
       "\\end{equation}\n",
       "\\begin{equation}\n",
       "\\mu = \\frac{\\mu_1 + \\mu_2}{2}\n",
       "\\end{equation}\n",
       "\\begin{equation}\n",
       "\\begin{matrix} \\sigma^2 = \\frac {\\sigma_1^2 + \\sigma_2^2 + 2\\delta^2}{2}, & \\delta = \\frac{\\mu_1 - \\mu_2}{2} \\end{matrix}\n",
       "\\end{equation}\n",
       "\\begin{equation}\n",
       "\\mathscr{S}^3 = \\frac{3(\\sigma_1^2 - \\sigma_2^2)\\delta}{2}\n",
       "\\end{equation}\n",
       "\\begin{equation}\n",
       "\\mathscr{K}^4 = \\frac{3(\\sigma_1^4 + \\sigma_2^4) + 6(\\sigma_1^2 + \\sigma_2^2)\\delta^2 + 2\\delta^4}{2}\n",
       "\\end{equation}\n"
      ],
      "text/plain": [
       "<IPython.core.display.Latex object>"
      ]
     },
     "metadata": {},
     "output_type": "display_data"
    }
   ],
   "source": [
    "%%latex\n",
    "\\begin{equation}\n",
    "\\text{For a mixed dataset of two distributions, the following are the theoretical values given by calculating its mean, variance, skewness and kurtosis}\n",
    "\\end{equation}\n",
    "\\begin{equation}\n",
    "\\begin{matrix} X_1 \\sim \\operatorname{\\mathscr{N}}\\left( \\mu_1, \\sigma_1^2 \\right), & X_2 \\sim \\operatorname{\\mathscr{N}}\\left( \\mu_2, \\sigma_2^2 \\right) \\end{matrix}\n",
    "\\end{equation}\n",
    "\\begin{equation}\n",
    "\\mu = \\frac{\\mu_1 + \\mu_2}{2}\n",
    "\\end{equation}\n",
    "\\begin{equation}\n",
    "\\begin{matrix} \\sigma^2 = \\frac {\\sigma_1^2 + \\sigma_2^2 + 2\\delta^2}{2}, & \\delta = \\frac{\\mu_1 - \\mu_2}{2} \\end{matrix}\n",
    "\\end{equation}\n",
    "\\begin{equation}\n",
    "\\mathscr{S}^3 = \\frac{3(\\sigma_1^2 - \\sigma_2^2)\\delta}{2}\n",
    "\\end{equation}\n",
    "\\begin{equation}\n",
    "\\mathscr{K}^4 = \\frac{3(\\sigma_1^4 + \\sigma_2^4) + 6(\\sigma_1^2 + \\sigma_2^2)\\delta^2 + 2\\delta^4}{2}\n",
    "\\end{equation}"
   ]
  },
  {
   "cell_type": "code",
   "execution_count": 3,
   "id": "44b5525f",
   "metadata": {},
   "outputs": [
    {
     "data": {
      "text/latex": [
       "\\begin{equation}\n",
       "\\text{The consistent and unbiased estimators for sample mean, variance, skewness and kurtosis are,}\n",
       "\\end{equation}\n",
       "\\begin{equation}\n",
       "\\hat{\\mu} = \\frac{\\sum^n_{i = 1} x_i}{n}\n",
       "\\end{equation}\n",
       "\\begin{equation}\n",
       "\\hat{\\sigma^2} = \\frac {\\sum^n_{i = 1} (x_i - \\hat{\\mu})^2}{n-1}\n",
       "\\end{equation}\n",
       "\\begin{equation}\n",
       "\\hat{\\mathscr{S}^3} = \\frac{n\\sum^n_{i = 1} (x_i - \\hat{\\mu})^3}{(n-1)(n-2)}\n",
       "\\end{equation}\n",
       "\\begin{equation}\n",
       "\\hat{\\mathscr{K}^4} = \\frac{n^2\\sum^n_{i = 1} (x_i - \\hat{\\mu})^4 - 3(n-1)(2n-3)\\hat{\\sigma^2}^2}{(n-1)(n^2 - 3n + 3)}\n",
       "\\end{equation}\n"
      ],
      "text/plain": [
       "<IPython.core.display.Latex object>"
      ]
     },
     "metadata": {},
     "output_type": "display_data"
    }
   ],
   "source": [
    "%%latex\n",
    "\\begin{equation}\n",
    "\\text{The consistent and unbiased estimators for sample mean, variance, skewness and kurtosis are,}\n",
    "\\end{equation}\n",
    "\\begin{equation}\n",
    "\\hat{\\mu} = \\frac{\\sum^n_{i = 1} x_i}{n}\n",
    "\\end{equation}\n",
    "\\begin{equation}\n",
    "\\hat{\\sigma^2} = \\frac {\\sum^n_{i = 1} (x_i - \\hat{\\mu})^2}{n-1}\n",
    "\\end{equation}\n",
    "\\begin{equation}\n",
    "\\hat{\\mathscr{S}^3} = \\frac{n\\sum^n_{i = 1} (x_i - \\hat{\\mu})^3}{(n-1)(n-2)}\n",
    "\\end{equation}\n",
    "\\begin{equation}\n",
    "\\hat{\\mathscr{K}^4} = \\frac{n^2\\sum^n_{i = 1} (x_i - \\hat{\\mu})^4 - 3(n-1)(2n-3)\\hat{\\sigma^2}^2}{(n-1)(n^2 - 3n + 3)}\n",
    "\\end{equation}"
   ]
  },
  {
   "cell_type": "code",
   "execution_count": 4,
   "id": "3d14f1ae",
   "metadata": {},
   "outputs": [
    {
     "data": {
      "text/latex": [
       "\\begin{equation}\n",
       "\\text{Newton Raphson can be applied to converge to the solution of the parameters of the distribution using the sample}\n",
       "\\end{equation}\n",
       "\\begin{equation}\n",
       "\\text{estimators of the mean, variance, skewness and kurtosis as follows,}\n",
       "\\end{equation}\n",
       "\\begin{equation}\n",
       "\\begin{matrix} \\beta = \\begin{bmatrix}\\mu_1 \\\\ \\mu_2 \\\\ \\sigma_1^2 \\\\ \\sigma_2^2 \\end{bmatrix}, & \\mathscr{F} = \\begin{bmatrix}\\mu - \\hat{\\mu}  \\\\ \\sigma^2 - \\hat{\\sigma^2}  \\\\ \\mathscr{S}^3 - \\hat{\\mathscr{S}^3} \\\\ \\mathscr{K}^4 - \\hat{\\mathscr{K}^4} \\end{bmatrix}\\end{matrix}\n",
       "\\end{equation}\n",
       "\\begin{equation}\n",
       "\\beta^{(k+1)} = \\beta^{(k)} - \\mathscr{J}_\\mathscr{F}^{-1}\\cdot\\mathscr{F} \n",
       "\\end{equation}\n"
      ],
      "text/plain": [
       "<IPython.core.display.Latex object>"
      ]
     },
     "metadata": {},
     "output_type": "display_data"
    }
   ],
   "source": [
    "%%latex\n",
    "\\begin{equation}\n",
    "\\text{Newton Raphson can be applied to converge to the solution of the parameters of the distribution using the sample}\n",
    "\\end{equation}\n",
    "\\begin{equation}\n",
    "\\text{estimators of the mean, variance, skewness and kurtosis as follows,}\n",
    "\\end{equation}\n",
    "\\begin{equation}\n",
    "\\begin{matrix} \\beta = \\begin{bmatrix}\\mu_1 \\\\ \\mu_2 \\\\ \\sigma_1^2 \\\\ \\sigma_2^2 \\end{bmatrix}, & \\mathscr{F} = \\begin{bmatrix}\\mu - \\hat{\\mu}  \\\\ \\sigma^2 - \\hat{\\sigma^2}  \\\\ \\mathscr{S}^3 - \\hat{\\mathscr{S}^3} \\\\ \\mathscr{K}^4 - \\hat{\\mathscr{K}^4} \\end{bmatrix}\\end{matrix}\n",
    "\\end{equation}\n",
    "\\begin{equation}\n",
    "\\beta^{(k+1)} = \\beta^{(k)} - \\mathscr{J}_\\mathscr{F}^{-1}\\cdot\\mathscr{F} \n",
    "\\end{equation}"
   ]
  },
  {
   "cell_type": "markdown",
   "id": "17b83117",
   "metadata": {},
   "source": [
    "# Application"
   ]
  },
  {
   "cell_type": "code",
   "execution_count": 5,
   "id": "91ec8433",
   "metadata": {},
   "outputs": [
    {
     "name": "stdout",
     "output_type": "stream",
     "text": [
      "<class 'pandas.core.frame.DataFrame'>\n",
      "RangeIndex: 200000 entries, 0 to 199999\n",
      "Data columns (total 1 columns):\n",
      " #   Column  Non-Null Count   Dtype  \n",
      "---  ------  --------------   -----  \n",
      " 0   x       200000 non-null  float64\n",
      "dtypes: float64(1)\n",
      "memory usage: 1.5 MB\n"
     ]
    },
    {
     "data": {
      "text/plain": [
       "None"
      ]
     },
     "metadata": {},
     "output_type": "display_data"
    },
    {
     "data": {
      "text/html": [
       "<div>\n",
       "<style scoped>\n",
       "    .dataframe tbody tr th:only-of-type {\n",
       "        vertical-align: middle;\n",
       "    }\n",
       "\n",
       "    .dataframe tbody tr th {\n",
       "        vertical-align: top;\n",
       "    }\n",
       "\n",
       "    .dataframe thead th {\n",
       "        text-align: right;\n",
       "    }\n",
       "</style>\n",
       "<table border=\"1\" class=\"dataframe\">\n",
       "  <thead>\n",
       "    <tr style=\"text-align: right;\">\n",
       "      <th></th>\n",
       "      <th>x</th>\n",
       "    </tr>\n",
       "  </thead>\n",
       "  <tbody>\n",
       "    <tr>\n",
       "      <th>0</th>\n",
       "      <td>1.951142</td>\n",
       "    </tr>\n",
       "    <tr>\n",
       "      <th>1</th>\n",
       "      <td>3.056697</td>\n",
       "    </tr>\n",
       "    <tr>\n",
       "      <th>2</th>\n",
       "      <td>7.373664</td>\n",
       "    </tr>\n",
       "    <tr>\n",
       "      <th>3</th>\n",
       "      <td>5.612932</td>\n",
       "    </tr>\n",
       "    <tr>\n",
       "      <th>4</th>\n",
       "      <td>1.873853</td>\n",
       "    </tr>\n",
       "    <tr>\n",
       "      <th>...</th>\n",
       "      <td>...</td>\n",
       "    </tr>\n",
       "    <tr>\n",
       "      <th>199995</th>\n",
       "      <td>2.115399</td>\n",
       "    </tr>\n",
       "    <tr>\n",
       "      <th>199996</th>\n",
       "      <td>1.488154</td>\n",
       "    </tr>\n",
       "    <tr>\n",
       "      <th>199997</th>\n",
       "      <td>8.800984</td>\n",
       "    </tr>\n",
       "    <tr>\n",
       "      <th>199998</th>\n",
       "      <td>1.815419</td>\n",
       "    </tr>\n",
       "    <tr>\n",
       "      <th>199999</th>\n",
       "      <td>1.836849</td>\n",
       "    </tr>\n",
       "  </tbody>\n",
       "</table>\n",
       "<p>200000 rows × 1 columns</p>\n",
       "</div>"
      ],
      "text/plain": [
       "               x\n",
       "0       1.951142\n",
       "1       3.056697\n",
       "2       7.373664\n",
       "3       5.612932\n",
       "4       1.873853\n",
       "...          ...\n",
       "199995  2.115399\n",
       "199996  1.488154\n",
       "199997  8.800984\n",
       "199998  1.815419\n",
       "199999  1.836849\n",
       "\n",
       "[200000 rows x 1 columns]"
      ]
     },
     "metadata": {},
     "output_type": "display_data"
    }
   ],
   "source": [
    "train = pd.read_csv('Datasets/dataset.csv')\n",
    "display(train.info())\n",
    "display(train)"
   ]
  },
  {
   "cell_type": "code",
   "execution_count": 6,
   "id": "f610a451",
   "metadata": {},
   "outputs": [],
   "source": [
    "def estimate_parameters (data) :\n",
    "    n = data.shape[0]\n",
    "    m1 = np.mean(data)\n",
    "    m2f = np.std(data)\n",
    "    m2 = sp.stats.moment(data, moment = 2)\n",
    "    m3 = sp.stats.moment(data, moment = 3)\n",
    "    m4 = sp.stats.moment(data, moment = 4)\n",
    "    m2c = m2*n/(n-1)\n",
    "    mean = m1\n",
    "    variance = m2*n/(n-1)\n",
    "    skewness = m3*n*n/((n-1)*(n-2))\n",
    "    kurtosis = (n**3*m4-3*(n-1)*(2*n-3)*m2c**2)/((n-1)*(n*n-3*n+3))\n",
    "    estimates = np.array(([[float(mean)], [float(variance)], [float(skewness)], [float(kurtosis)]]), dtype = float)\n",
    "    return estimates"
   ]
  },
  {
   "cell_type": "code",
   "execution_count": 7,
   "id": "3a344a90",
   "metadata": {},
   "outputs": [],
   "source": [
    "def Jacobian (beta) :\n",
    "    m1, m2, s1, s2 = float(beta[0][0]), float(beta[1][0]), float(beta[2][0]), float(beta[3][0])\n",
    "    d = (m1 - m2)/2\n",
    "    Jacobian = np.matrix([[1/2, 1/2, 0, 0], [d, -d, 1/2, 1/2], [3*(s1 - s2)/4, 3*(s2 - s1)/4, 3*d/2, -3*d/2], [3*(s1+s2)*d + 2*d**3, -3*(s1+s2)*d - 2*d**3, 3*s1 + 3*d**2, 3*s2 + 3*d**2]])\n",
    "    return Jacobian\n",
    "def func_vector (beta, estimates) :\n",
    "    m1, m2, s1, s2 = float(beta[0][0]), float(beta[1][0]), float(beta[2][0]), float(beta[3][0])\n",
    "    d = (m1 - m2)/2\n",
    "    func_vector = np.array([[(m1 + m2)/2], [(s1 + s2 + 2*(d**2))/2], [3*(s1 - s2)*d/2], [(3*((s1**2) + (s2**2)) + 6*(s1+s2)*(d**2) + 2*(d**4))/2]])\n",
    "    return func_vector - estimates\n",
    "def Newton_method (beta, estimates, iterations) :\n",
    "    for i in range(iterations) :\n",
    "        J = Jacobian(beta)\n",
    "        F = func_vector(beta, estimates)\n",
    "        beta = beta - J.I @ F\n",
    "    return beta"
   ]
  },
  {
   "cell_type": "code",
   "execution_count": 8,
   "id": "a1fb7a55",
   "metadata": {},
   "outputs": [
    {
     "name": "stdout",
     "output_type": "stream",
     "text": [
      "[[ 3.49916917]\n",
      " [ 4.9158727 ]\n",
      " [11.64073489]\n",
      " [82.36293989]]\n",
      "[[5.00074153]\n",
      " [1.99759681]\n",
      " [5.24527435]\n",
      " [0.07703196]]\n"
     ]
    }
   ],
   "source": [
    "estimate = estimate_parameters(train.to_numpy())\n",
    "print(estimate)\n",
    "beta = np.array([[float(estimate[0][0] + 0.1*estimate[1][0])], [float(estimate[0][0] - 0.1*estimate[1][0])], [float(10*estimate[1][0])], [float(0.1*estimate[1][0])]], dtype = float)\n",
    "print(Newton_method(beta, estimate, 10000))"
   ]
  },
  {
   "cell_type": "markdown",
   "id": "6db6a220",
   "metadata": {},
   "source": [
    "# Visualisation"
   ]
  },
  {
   "cell_type": "code",
   "execution_count": 9,
   "id": "aaf261ec",
   "metadata": {},
   "outputs": [
    {
     "data": {
      "image/png": "[encoded data removed]",
      "text/plain": [
       "<Figure size 640x480 with 1 Axes>"
      ]
     },
     "metadata": {},
     "output_type": "display_data"
    }
   ],
   "source": [
    "X = np.zeros(100000)\n",
    "Y = np.zeros(100000)\n",
    "for i in range(len(X)) :\n",
    "    X[i] =np.random.normal(loc = 1.99759681, scale = np.sqrt(0.07703196))\n",
    "for i in range(len(Y)) :\n",
    "    Y[i] =np.random.normal(loc = 5.00074153, scale = np.sqrt(5.24527435))\n",
    "sample = np.concatenate((X,Y), axis = 0)\n",
    "data = train.to_numpy()\n",
    "counts, bin_edges = np.histogram(data, bins = 1000)\n",
    "plt.hist(data, bins = bin_edges, histtype = 'step')\n",
    "plt.hist(sample, bins = bin_edges, histtype = 'step')\n",
    "plt.hist(X, bins = bin_edges, histtype = 'step')\n",
    "plt.hist(Y, bins = bin_edges, histtype = 'step')\n",
    "plt.show()"
   ]
  },
  {
   "cell_type": "code",
   "execution_count": 10,
   "id": "3b121088",
   "metadata": {},
   "outputs": [
    {
     "data": {
      "image/png": "[encoded data removed]",
      "text/plain": [
       "<Figure size 640x480 with 1 Axes>"
      ]
     },
     "metadata": {},
     "output_type": "display_data"
    }
   ],
   "source": [
    "def normal_dist(x, mu, sigma2):\n",
    "    return (1/(np.sqrt(2*np.pi*sigma2)))*(np.exp(-0.5*(x-mu)**2/sigma2))\n",
    "x = np.linspace(-5,15,1000)\n",
    "plt.plot(x,normal_dist(x,1.99759681,0.07703196))\n",
    "plt.plot(x,normal_dist(x,5.00074153,5.24527435))\n",
    "plt.plot(x,normal_dist(x,5.00074153,5.24527435) + normal_dist(x,1.99759681,0.07703196))\n",
    "plt.show()"
   ]
  },
  {
   "cell_type": "markdown",
   "id": "ddde9cef",
   "metadata": {},
   "source": [
    "# Bibliography and Discussion"
   ]
  },
  {
   "cell_type": "code",
   "execution_count": 11,
   "id": "ee5db90b",
   "metadata": {},
   "outputs": [
    {
     "data": {
      "text/latex": [
       "\\begin{equation}\n",
       "\\text{Based on the consistency and unbiasedness of the estimators, along with the usage of Newton's method, which guarantees}\n",
       "\\end{equation}\n",
       "\\begin{equation}\n",
       "\\text{convergence with a proper choice of initial estimates, the method used above is guranteed to be correct. For a problem where the}\n",
       "\\end{equation}\n",
       "\\begin{equation}\n",
       "\\text{ratio of data points is not equal, a similar approach can be taken, just by altering the functional values given by the mean, variance,}\n",
       "\\end{equation}\n",
       "\\begin{equation}\n",
       "\\text{skewness and kurtosis, in accordance with the ratio of data points used. The general case values are calculated as follows,}\n",
       "\\end{equation}\n",
       "\\begin{equation}\n",
       "\\end{equation}\n",
       "\\begin{equation}\n",
       "\\text{For a mixed dataset of two distributions in ratio r:1, i.e. r datapoints of the first for one of the second, the following are the}\n",
       "\\end{equation}\n",
       "\\begin{equation}\n",
       "\\text{theoretical values given by calculating its mean, variance, skewness and kurtosis}\n",
       "\\end{equation}\n",
       "\\begin{equation}\n",
       "\\begin{matrix} X_1 \\sim \\operatorname{\\mathscr{N}}\\left( \\mu_1, \\sigma_1^2 \\right), & X_2 \\sim \\operatorname{\\mathscr{N}}\\left( \\mu_2, \\sigma_2^2 \\right) \\end{matrix}\n",
       "\\end{equation}\n",
       "\\begin{equation}\n",
       "\\mu = \\frac{r\\mu_1 + \\mu_2}{1 + r}\n",
       "\\end{equation}\n",
       "\\begin{equation}\n",
       "\\begin{matrix} \\sigma^2 = \\frac {r\\sigma_1^2 + \\sigma_2^2 + (r + r^2)\\delta^2}{1 + r}, & \\delta = \\frac{\\mu_1 - \\mu_2}{1 + r} \\end{matrix}\n",
       "\\end{equation}\n",
       "\\begin{equation}\n",
       "\\mathscr{S}^3 = \\frac{3r(\\sigma_1^2 - \\sigma_2^2)\\delta + (r - r^3)\\delta^3}{1 + r}\n",
       "\\end{equation}\n",
       "\\begin{equation}\n",
       "\\mathscr{K}^4 = \\frac{3(r\\sigma_1^4 + \\sigma_2^4) + 6(r\\sigma_1^2 + r^2\\sigma_2^2)\\delta^2 + (r + r^4)\\delta^4}{1 + r}\n",
       "\\end{equation}\n",
       "\\begin{equation}\n",
       "\\end{equation}\n",
       "\\begin{equation}\n",
       "\\text{https://doi.org/10.1111/1467-9884.00122}\n",
       "\\end{equation}\n",
       "\\begin{equation}\n",
       "\\text{https://modelingwithdata.org/pdfs/moments.pdf}\n",
       "\\end{equation}\n",
       "\\begin{equation}\n",
       "\\text{https://arxiv.org/pdf/1304.6715.pdf}\n",
       "\\end{equation}\n",
       "\\begin{equation}\n",
       "\\text{The derivations of all values have been done without showing the work, albeit it has been done elsewhere}\n",
       "\\end{equation}\n"
      ],
      "text/plain": [
       "<IPython.core.display.Latex object>"
      ]
     },
     "metadata": {},
     "output_type": "display_data"
    }
   ],
   "source": [
    "%%latex\n",
    "\\begin{equation}\n",
    "\\text{Based on the consistency and unbiasedness of the estimators, along with the usage of Newton's method, which guarantees}\n",
    "\\end{equation}\n",
    "\\begin{equation}\n",
    "\\text{convergence with a proper choice of initial estimates, the method used above is guranteed to be correct. For a problem where the}\n",
    "\\end{equation}\n",
    "\\begin{equation}\n",
    "\\text{ratio of data points is not equal, a similar approach can be taken, just by altering the functional values given by the mean, variance,}\n",
    "\\end{equation}\n",
    "\\begin{equation}\n",
    "\\text{skewness and kurtosis, in accordance with the ratio of data points used. The general case values are calculated as follows,}\n",
    "\\end{equation}\n",
    "\\begin{equation}\n",
    "\\end{equation}\n",
    "\\begin{equation}\n",
    "\\text{For a mixed dataset of two distributions in ratio r:1, i.e. r datapoints of the first for one of the second, the following are the}\n",
    "\\end{equation}\n",
    "\\begin{equation}\n",
    "\\text{theoretical values given by calculating its mean, variance, skewness and kurtosis}\n",
    "\\end{equation}\n",
    "\\begin{equation}\n",
    "\\begin{matrix} X_1 \\sim \\operatorname{\\mathscr{N}}\\left( \\mu_1, \\sigma_1^2 \\right), & X_2 \\sim \\operatorname{\\mathscr{N}}\\left( \\mu_2, \\sigma_2^2 \\right) \\end{matrix}\n",
    "\\end{equation}\n",
    "\\begin{equation}\n",
    "\\mu = \\frac{r\\mu_1 + \\mu_2}{1 + r}\n",
    "\\end{equation}\n",
    "\\begin{equation}\n",
    "\\begin{matrix} \\sigma^2 = \\frac {r\\sigma_1^2 + \\sigma_2^2 + (r + r^2)\\delta^2}{1 + r}, & \\delta = \\frac{\\mu_1 - \\mu_2}{1 + r} \\end{matrix}\n",
    "\\end{equation}\n",
    "\\begin{equation}\n",
    "\\mathscr{S}^3 = \\frac{3r(\\sigma_1^2 - \\sigma_2^2)\\delta + (r - r^3)\\delta^3}{1 + r}\n",
    "\\end{equation}\n",
    "\\begin{equation}\n",
    "\\mathscr{K}^4 = \\frac{3(r\\sigma_1^4 + \\sigma_2^4) + 6(r\\sigma_1^2 + r^2\\sigma_2^2)\\delta^2 + (r + r^4)\\delta^4}{1 + r}\n",
    "\\end{equation}\n",
    "\\begin{equation}\n",
    "\\end{equation}\n",
    "\\begin{equation}\n",
    "\\text{https://doi.org/10.1111/1467-9884.00122}\n",
    "\\end{equation}\n",
    "\\begin{equation}\n",
    "\\text{https://modelingwithdata.org/pdfs/moments.pdf}\n",
    "\\end{equation}\n",
    "\\begin{equation}\n",
    "\\text{https://arxiv.org/pdf/1304.6715.pdf}\n",
    "\\end{equation}\n",
    "\\begin{equation}\n",
    "\\text{The derivations of all values have been done without showing the work, albeit it has been done elsewhere}\n",
    "\\end{equation}"
   ]
  }
 ],
 "metadata": {
  "kernelspec": {
   "display_name": "Python 3 (ipykernel)",
   "language": "python",
   "name": "python3"
  },
  "language_info": {
   "codemirror_mode": {
    "name": "ipython",
    "version": 3
   },
   "file_extension": ".py",
   "mimetype": "text/x-python",
   "name": "python",
   "nbconvert_exporter": "python",
   "pygments_lexer": "ipython3",
   "version": "3.9.13"
  }
 },
 "nbformat": 4,
 "nbformat_minor": 5
}
