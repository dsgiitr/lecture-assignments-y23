{
 "cells": [
  {
   "cell_type": "code",
   "execution_count": 1,
   "id": "cedf6736",
   "metadata": {},
   "outputs": [],
   "source": [
    "import numpy as np\n",
    "import pandas as pd\n",
    "import matplotlib.pyplot as plt\n",
    "import seaborn as sns"
   ]
  },
  {
   "cell_type": "markdown",
   "id": "ebb5ac8a",
   "metadata": {},
   "source": [
    "# Question 1"
   ]
  },
  {
   "cell_type": "code",
   "execution_count": 2,
   "id": "4b44f24d",
   "metadata": {},
   "outputs": [
    {
     "data": {
      "text/latex": [
       "\\begin{equation}\n",
       "\\text{The posterior probability can be constructed as follows, where X is the sales per hour in five hours}\n",
       "\\end{equation}\n",
       "\\begin{equation}\n",
       "\\operatorname{\\mathbb{P}} \\,\\left( Alice \\mid X\\right) = \\frac{\\operatorname{\\mathbb{P}} \\,\\left( X \\mid Alice \\right) \\cdot \\operatorname{\\mathbb{P}} \\,\\left( Alice \\right) }{\\operatorname{\\mathbb{P}} \\,\\left( X \\right)}\n",
       "\\end{equation}\n",
       "\\begin{equation}\n",
       "\\text{The prior is given from the odds as,}\n",
       "\\end{equation}\n",
       "\\begin{equation}\n",
       "\\operatorname{\\mathbb{P}} \\,\\left(Alice\\right) = \\frac{1}{10 + 1} = \\frac{1}{11} = 0.\\overline{09}\n",
       "\\end{equation}\n",
       "\\begin{equation}\n",
       "\\text{The likelihood is given as,}\n",
       "\\end{equation}\n",
       "\\begin{equation}\n",
       "\\operatorname{\\mathbb{P}} \\,\\left(X \\mid Alice\\right) = \\prod^{5}_{i = 1} e^{-10} \\frac{10^{x_i}}{x_i!} = e^{-50}\\cdot\\frac{10^{48}}{12!\\cdot10!\\cdot11!\\cdot4!\\cdot11!} = 2.90170481308 \\cdot 10^{-6}\n",
       "\\end{equation}\n",
       "\\begin{equation}\n",
       "\\text{The marginal likelihood is given as,}\n",
       "\\end{equation}\n",
       "\\begin{align}\n",
       "\\operatorname{\\mathbb{P}} \\,\\left(X \\right) & = \\operatorname{\\mathbb{P}} \\,\\left( X \\mid Alice \\right) \\cdot \\operatorname{\\mathbb{P}} \\,\\left( Alice \\right) + \\operatorname{\\mathbb{P}} \\,\\left( X \\mid Bob \\right) \\cdot \\operatorname{\\mathbb{P}} \\,\\left( Bob \\right) \\\\\n",
       " & =  \\prod^{5}_{i = 1} e^{-10} \\frac{10^{x_i}}{x_i!} \\cdot\\frac{1}{10}+   \\prod^{5}_{i = 1} e^{-15} \\frac{15^{x_i}}{x_i!} \\cdot\\frac{9}{10} \\\\\n",
       " & = e^{-50}\\cdot\\frac{10^{48}}{12!\\cdot10!\\cdot11!\\cdot4!\\cdot11!}\\cdot\\frac{1}{11} + e^{-75}\\cdot\\frac{15^{48}}{12!\\cdot10!\\cdot11!\\cdot4!\\cdot11!}\\cdot\\frac{10}{11} \\\\\n",
       " & = 2.7417329662 \\cdot 10^{-7}\n",
       "\\end{align}\n",
       "\\begin{equation}\n",
       "\\text{From here, the posterior probability is,}\n",
       "\\end{equation}\n",
       "\\begin{align}\n",
       "\\operatorname{\\mathbb{P}} \\,\\left( Alice \\mid X\\right) & = \\frac{\\operatorname{\\mathbb{P}} \\,\\left( X \\mid Alice \\right) \\cdot \\operatorname{\\mathbb{P}} \\,\\left( Alice \\right) }{\\operatorname{\\mathbb{P}} \\,\\left( X \\right)} \\\\\n",
       " & = \\frac{e^{-50}\\cdot\\frac{10^{48}}{12!\\cdot10!\\cdot11!\\cdot4!\\cdot11!}\\cdot\\frac{1}{11}}{e^{-50}\\cdot\\frac{10^{48}}{12!\\cdot10!\\cdot11!\\cdot4!\\cdot11!}\\cdot\\frac{1}{11} + e^{-75}\\cdot\\frac{15^{48}}{12!\\cdot10!\\cdot11!\\cdot4!\\cdot11!}\\cdot\\frac{10}{11}} \\\\\n",
       " & = 0.962133620941\n",
       "\\end{align}\n",
       "\\begin{equation}\n",
       "\\text{Thus, the posterior odds for the case that Alice is filling in for Bob are,}\n",
       "\\end{equation}\n",
       "\\begin{align}\n",
       "\\operatorname{Odds} \\,\\left( Alice \\mid X\\right) & = \\frac{\\operatorname{\\mathbb{P}} \\,\\left( Alice \\mid X\\right) }{1 - \\operatorname{\\mathbb{P}} \\,\\left( Alice \\mid X\\right)} \\\\\n",
       " & = \\frac{e^{-50}\\cdot\\frac{10^{48}}{12!\\cdot10!\\cdot11!\\cdot4!\\cdot11!}\\cdot\\frac{1}{11}}{e^{-75}\\cdot\\frac{15^{48}}{12!\\cdot10!\\cdot11!\\cdot4!\\cdot11!}\\cdot\\frac{10}{11}} \\\\\n",
       " & = 25.4086512852\n",
       "\\end{align}\n"
      ],
      "text/plain": [
       "<IPython.core.display.Latex object>"
      ]
     },
     "metadata": {},
     "output_type": "display_data"
    }
   ],
   "source": [
    "%%latex\n",
    "\\begin{equation}\n",
    "\\text{The posterior probability can be constructed as follows, where X is the sales per hour in five hours}\n",
    "\\end{equation}\n",
    "\\begin{equation}\n",
    "\\operatorname{\\mathbb{P}} \\,\\left( Alice \\mid X\\right) = \\frac{\\operatorname{\\mathbb{P}} \\,\\left( X \\mid Alice \\right) \\cdot \\operatorname{\\mathbb{P}} \\,\\left( Alice \\right) }{\\operatorname{\\mathbb{P}} \\,\\left( X \\right)}\n",
    "\\end{equation}\n",
    "\\begin{equation}\n",
    "\\text{The prior is given from the odds as,}\n",
    "\\end{equation}\n",
    "\\begin{equation}\n",
    "\\operatorname{\\mathbb{P}} \\,\\left(Alice\\right) = \\frac{1}{10 + 1} = \\frac{1}{11} = 0.\\overline{09}\n",
    "\\end{equation}\n",
    "\\begin{equation}\n",
    "\\text{The likelihood is given as,}\n",
    "\\end{equation}\n",
    "\\begin{equation}\n",
    "\\operatorname{\\mathbb{P}} \\,\\left(X \\mid Alice\\right) = \\prod^{5}_{i = 1} e^{-10} \\frac{10^{x_i}}{x_i!} = e^{-50}\\cdot\\frac{10^{48}}{12!\\cdot10!\\cdot11!\\cdot4!\\cdot11!} = 2.90170481308 \\cdot 10^{-6}\n",
    "\\end{equation}\n",
    "\\begin{equation}\n",
    "\\text{The marginal likelihood is given as,}\n",
    "\\end{equation}\n",
    "\\begin{align}\n",
    "\\operatorname{\\mathbb{P}} \\,\\left(X \\right) & = \\operatorname{\\mathbb{P}} \\,\\left( X \\mid Alice \\right) \\cdot \\operatorname{\\mathbb{P}} \\,\\left( Alice \\right) + \\operatorname{\\mathbb{P}} \\,\\left( X \\mid Bob \\right) \\cdot \\operatorname{\\mathbb{P}} \\,\\left( Bob \\right) \\\\\n",
    " & =  \\prod^{5}_{i = 1} e^{-10} \\frac{10^{x_i}}{x_i!} \\cdot\\frac{1}{10}+   \\prod^{5}_{i = 1} e^{-15} \\frac{15^{x_i}}{x_i!} \\cdot\\frac{9}{10} \\\\\n",
    " & = e^{-50}\\cdot\\frac{10^{48}}{12!\\cdot10!\\cdot11!\\cdot4!\\cdot11!}\\cdot\\frac{1}{11} + e^{-75}\\cdot\\frac{15^{48}}{12!\\cdot10!\\cdot11!\\cdot4!\\cdot11!}\\cdot\\frac{10}{11} \\\\\n",
    " & = 2.7417329662 \\cdot 10^{-7}\n",
    "\\end{align}\n",
    "\\begin{equation}\n",
    "\\text{From here, the posterior probability is,}\n",
    "\\end{equation}\n",
    "\\begin{align}\n",
    "\\operatorname{\\mathbb{P}} \\,\\left( Alice \\mid X\\right) & = \\frac{\\operatorname{\\mathbb{P}} \\,\\left( X \\mid Alice \\right) \\cdot \\operatorname{\\mathbb{P}} \\,\\left( Alice \\right) }{\\operatorname{\\mathbb{P}} \\,\\left( X \\right)} \\\\\n",
    " & = \\frac{e^{-50}\\cdot\\frac{10^{48}}{12!\\cdot10!\\cdot11!\\cdot4!\\cdot11!}\\cdot\\frac{1}{11}}{e^{-50}\\cdot\\frac{10^{48}}{12!\\cdot10!\\cdot11!\\cdot4!\\cdot11!}\\cdot\\frac{1}{11} + e^{-75}\\cdot\\frac{15^{48}}{12!\\cdot10!\\cdot11!\\cdot4!\\cdot11!}\\cdot\\frac{10}{11}} \\\\\n",
    " & = 0.962133620941\n",
    "\\end{align}\n",
    "\\begin{equation}\n",
    "\\text{Thus, the posterior odds for the case that Alice is filling in for Bob are,}\n",
    "\\end{equation}\n",
    "\\begin{align}\n",
    "\\operatorname{Odds} \\,\\left( Alice \\mid X\\right) & = \\frac{\\operatorname{\\mathbb{P}} \\,\\left( Alice \\mid X\\right) }{1 - \\operatorname{\\mathbb{P}} \\,\\left( Alice \\mid X\\right)} \\\\\n",
    " & = \\frac{e^{-50}\\cdot\\frac{10^{48}}{12!\\cdot10!\\cdot11!\\cdot4!\\cdot11!}\\cdot\\frac{1}{11}}{e^{-75}\\cdot\\frac{15^{48}}{12!\\cdot10!\\cdot11!\\cdot4!\\cdot11!}\\cdot\\frac{10}{11}} \\\\\n",
    " & = 25.4086512852\n",
    "\\end{align}"
   ]
  },
  {
   "cell_type": "markdown",
   "id": "6965e3f2",
   "metadata": {},
   "source": [
    "# Question 2"
   ]
  },
  {
   "cell_type": "markdown",
   "id": "9ec40233",
   "metadata": {},
   "source": [
    "## Part A"
   ]
  },
  {
   "cell_type": "code",
   "execution_count": 3,
   "id": "d0acf0aa",
   "metadata": {},
   "outputs": [
    {
     "data": {
      "text/latex": [
       "\\begin{equation}\n",
       "\\text{Using Bayesian inference,}\n",
       "\\end{equation}\n",
       "\\begin{equation}\n",
       "\\operatorname{Posterior} = \\frac{\\operatorname{Prior} \\cdot \\operatorname{Likelihood}}{\\operatorname{Marginal Likelihood}}\n",
       "\\end{equation}\n",
       "\\begin{equation}\n",
       "\\text{From here,}\n",
       "\\end{equation}\n",
       "\\begin{equation}\n",
       "\\operatorname{\\mathbb{P}} \\,\\left( \\theta \\mid X\\right) \\propto \\operatorname{\\mathbb{P}} \\,\\left( X \\mid \\theta \\right) \\cdot \\operatorname{\\mathbb{P}} \\,\\left(\\theta \\right)\n",
       "\\end{equation}\n",
       "\\begin{equation}\n",
       "\\text{The prior follows N(5,9) and the likelihood follows N(θ, 4) and X = 6,}\n",
       "\\end{equation}\n",
       "\\begin{align}\n",
       "\\operatorname{\\mathbb{P}} \\,\\left( \\theta \\mid 6 \\right) & \\propto \\frac{e^{-\\frac{(6-\\theta)^2}{8}}}{\\sqrt{8\\pi}}\\cdot  \\frac{e^{-\\frac{(5-\\theta)^2}{18}}}{\\sqrt{18\\pi}} \\\\\n",
       " & \\propto  e^{-\\frac{13\\theta^2 - 148\\theta}{72}} \\\\\n",
       " & = \\frac{e^{-\\frac{(\\theta - \\frac{74}{13})^2}{2\\cdot \\frac{36}{13}}}}{\\sqrt{2\\pi\\cdot  \\frac{36}{13}}} & \\because\\int^\\infty_{-\\infty} \\operatorname{\\mathbb{P}} \\,\\left( \\theta \\mid 6 \\right) = 1\n",
       "\\end{align}\n",
       "\\begin{equation}\n",
       "\\text{Thus, the posterior follows N(74/13, 36/13)}\n",
       "\\end{equation}\n"
      ],
      "text/plain": [
       "<IPython.core.display.Latex object>"
      ]
     },
     "metadata": {},
     "output_type": "display_data"
    }
   ],
   "source": [
    "%%latex\n",
    "\\begin{equation}\n",
    "\\text{Using Bayesian inference,}\n",
    "\\end{equation}\n",
    "\\begin{equation}\n",
    "\\operatorname{Posterior} = \\frac{\\operatorname{Prior} \\cdot \\operatorname{Likelihood}}{\\operatorname{Marginal Likelihood}}\n",
    "\\end{equation}\n",
    "\\begin{equation}\n",
    "\\text{From here,}\n",
    "\\end{equation}\n",
    "\\begin{equation}\n",
    "\\operatorname{\\mathbb{P}} \\,\\left( \\theta \\mid X\\right) \\propto \\operatorname{\\mathbb{P}} \\,\\left( X \\mid \\theta \\right) \\cdot \\operatorname{\\mathbb{P}} \\,\\left(\\theta \\right)\n",
    "\\end{equation}\n",
    "\\begin{equation}\n",
    "\\text{The prior follows N(5,9) and the likelihood follows N(θ, 4) and X = 6,}\n",
    "\\end{equation}\n",
    "\\begin{align}\n",
    "\\operatorname{\\mathbb{P}} \\,\\left( \\theta \\mid 6 \\right) & \\propto \\frac{e^{-\\frac{(6-\\theta)^2}{8}}}{\\sqrt{8\\pi}}\\cdot  \\frac{e^{-\\frac{(5-\\theta)^2}{18}}}{\\sqrt{18\\pi}} \\\\\n",
    " & \\propto  e^{-\\frac{13\\theta^2 - 148\\theta}{72}} \\\\\n",
    " & = \\frac{e^{-\\frac{(\\theta - \\frac{74}{13})^2}{2\\cdot \\frac{36}{13}}}}{\\sqrt{2\\pi\\cdot  \\frac{36}{13}}} & \\because\\int^\\infty_{-\\infty} \\operatorname{\\mathbb{P}} \\,\\left( \\theta \\mid 6 \\right) = 1\n",
    "\\end{align}\n",
    "\\begin{equation}\n",
    "\\text{Thus, the posterior follows N(74/13, 36/13)}\n",
    "\\end{equation}"
   ]
  },
  {
   "cell_type": "markdown",
   "id": "1d304fc3",
   "metadata": {},
   "source": [
    "## Part B"
   ]
  },
  {
   "cell_type": "code",
   "execution_count": 4,
   "id": "07447665",
   "metadata": {},
   "outputs": [
    {
     "data": {
      "text/latex": [
       "\\begin{equation}\n",
       "\\text{Using Bayesian normal updating, for mean 6 for 4 values and having variance 4 using the likelihood, keeping the same prior,}\n",
       "\\end{equation}\n",
       "\\begin{equation}\n",
       "\\text{we get that the posterior follows a normal distribution with the following parameters,}\n",
       "\\end{equation}\n",
       "\\begin{align}\n",
       "\\mu_{posterior} & = \\frac{\\frac{\\mu_{prior}}{\\sigma^2_{prior}} +\\frac{n\\overline{X}}{\\sigma^2_{likelihood}}}{\\frac{1}{\\sigma^2_{prior}} +\\frac{n}{\\sigma^2_{likelihood}}} \\\\\n",
       " & = \\frac{\\frac{5}{9} + \\frac{4 \\cdot 6}{4}}{\\frac{1}{9} + \\frac{4}{4}} \\\\\n",
       " & = \\frac{59}{10} = 5.9\n",
       "\\end{align}\n",
       "\\begin{align}\n",
       "\\sigma^2_{posterior} & = \\frac{1}{\\frac{1}{\\sigma^2_{prior}} +\\frac{n}{\\sigma^2_{likelihood}}} \\\\\n",
       " & = \\frac{1}{\\frac{1}{9} + \\frac{4}{4}} \\\\\n",
       " & = \\frac{9}{10} = 0.9\n",
       "\\end{align}\n"
      ],
      "text/plain": [
       "<IPython.core.display.Latex object>"
      ]
     },
     "metadata": {},
     "output_type": "display_data"
    }
   ],
   "source": [
    "%%latex\n",
    "\\begin{equation}\n",
    "\\text{Using Bayesian normal updating, for mean 6 for 4 values and having variance 4 using the likelihood, keeping the same prior,}\n",
    "\\end{equation}\n",
    "\\begin{equation}\n",
    "\\text{we get that the posterior follows a normal distribution with the following parameters,}\n",
    "\\end{equation}\n",
    "\\begin{align}\n",
    "\\mu_{posterior} & = \\frac{\\frac{\\mu_{prior}}{\\sigma^2_{prior}} +\\frac{n\\overline{X}}{\\sigma^2_{likelihood}}}{\\frac{1}{\\sigma^2_{prior}} +\\frac{n}{\\sigma^2_{likelihood}}} \\\\\n",
    " & = \\frac{\\frac{5}{9} + \\frac{4 \\cdot 6}{4}}{\\frac{1}{9} + \\frac{4}{4}} \\\\\n",
    " & = \\frac{59}{10} = 5.9\n",
    "\\end{align}\n",
    "\\begin{align}\n",
    "\\sigma^2_{posterior} & = \\frac{1}{\\frac{1}{\\sigma^2_{prior}} +\\frac{n}{\\sigma^2_{likelihood}}} \\\\\n",
    " & = \\frac{1}{\\frac{1}{9} + \\frac{4}{4}} \\\\\n",
    " & = \\frac{9}{10} = 0.9\n",
    "\\end{align}"
   ]
  },
  {
   "cell_type": "markdown",
   "id": "9ea736ad",
   "metadata": {},
   "source": [
    "## Part B and C"
   ]
  },
  {
   "cell_type": "code",
   "execution_count": 5,
   "id": "48bd6150",
   "metadata": {},
   "outputs": [
    {
     "name": "stdout",
     "output_type": "stream",
     "text": [
      "By sending the same signal multiple times, one effectively reduces the variance of the posterior and its mean progressively approaches the mean of the data. This ensures, by the Lévy-Lindeberg Central Limit Theorem that the posterior mean converges in distribution to the expectaion of the signal, i.e. the true value which was signalled.\n"
     ]
    },
    {
     "data": {
      "image/png": "[encoded data removed]",
      "text/plain": [
       "<Figure size 640x480 with 1 Axes>"
      ]
     },
     "metadata": {},
     "output_type": "display_data"
    }
   ],
   "source": [
    "def normal_dist(x, mu, sigma2):\n",
    "    return (1/(np.sqrt(2*np.pi*sigma2)))*(np.exp(-0.5*(x-mu)**2/sigma2))\n",
    "x = np.linspace(-5,15,1000)\n",
    "plt.plot(x,normal_dist(x,5,9), 'r')\n",
    "plt.plot(x,normal_dist(x,5.9,9), 'g')\n",
    "print('By sending the same signal multiple times, one effectively reduces the variance of the posterior and its mean progressively approaches the mean of the data. This ensures, by the Lévy-Lindeberg Central Limit Theorem that the posterior mean converges in distribution to the expectaion of the signal, i.e. the true value which was signalled.')"
   ]
  },
  {
   "cell_type": "markdown",
   "id": "b12e6179",
   "metadata": {},
   "source": [
    "## Part D"
   ]
  },
  {
   "cell_type": "markdown",
   "id": "07907d70",
   "metadata": {},
   "source": [
    "### Section I"
   ]
  },
  {
   "cell_type": "code",
   "execution_count": 6,
   "id": "8cf82cd7",
   "metadata": {},
   "outputs": [
    {
     "data": {
      "text/latex": [
       "\\begin{equation}\n",
       "\\text{Using Bayesian inference for Randall Vard's test,}\n",
       "\\end{equation}\n",
       "\\begin{equation}\n",
       "\\operatorname{Posterior} = \\frac{\\operatorname{Prior} \\cdot \\operatorname{Likelihood}}{\\operatorname{Marginal Likelihood}}\n",
       "\\end{equation}\n",
       "\\begin{equation}\n",
       "\\text{From here,}\n",
       "\\end{equation}\n",
       "\\begin{equation}\n",
       "\\operatorname{\\mathbb{P}} \\,\\left( IQ_{real} \\mid IQ_{test} \\right) \\propto \\operatorname{\\mathbb{P}} \\,\\left( IQ_{test} \\mid IQ_{real} \\right) \\cdot \\operatorname{\\mathbb{P}} \\,\\left(IQ_{real} \\right)\n",
       "\\end{equation}\n",
       "\\begin{equation}\n",
       "\\text{The prior is that of the general distribution, i.e. it follows N(100,152) and the likelihood is that of test error, i.e. it follows N(IQtest, 102) and IQtest = 80.}\n",
       "\\end{equation}\n",
       "\\begin{equation}\n",
       "\\text{Using Bayesian normal updating, we get that the mean of IQreal is,}\n",
       "\\end{equation}\n",
       "\\begin{align}\n",
       "\\mu_{posterior} & = \\frac{\\frac{\\mu_{prior}}{\\sigma^2_{prior}} +\\frac{n\\overline{X}}{\\sigma^2_{likelihood}}}{\\frac{1}{\\sigma^2_{prior}} +\\frac{n}{\\sigma^2_{likelihood}}} \\\\\n",
       " & = \\frac{\\frac{100}{152} + \\frac{1 \\cdot 80}{102}}{\\frac{1}{152} + \\frac{1}{102}} \\\\\n",
       " & = \\frac{11180}{27} = 88.031496063\n",
       "\\end{align}\n",
       "\\begin{equation}\n",
       "\\text{Thus, Randall Vard's expected IQ is approximately 88.03.}\n",
       "\\end{equation}\n"
      ],
      "text/plain": [
       "<IPython.core.display.Latex object>"
      ]
     },
     "metadata": {},
     "output_type": "display_data"
    }
   ],
   "source": [
    "%%latex\n",
    "\\begin{equation}\n",
    "\\text{Using Bayesian inference for Randall Vard's test,}\n",
    "\\end{equation}\n",
    "\\begin{equation}\n",
    "\\operatorname{Posterior} = \\frac{\\operatorname{Prior} \\cdot \\operatorname{Likelihood}}{\\operatorname{Marginal Likelihood}}\n",
    "\\end{equation}\n",
    "\\begin{equation}\n",
    "\\text{From here,}\n",
    "\\end{equation}\n",
    "\\begin{equation}\n",
    "\\operatorname{\\mathbb{P}} \\,\\left( IQ_{real} \\mid IQ_{test} \\right) \\propto \\operatorname{\\mathbb{P}} \\,\\left( IQ_{test} \\mid IQ_{real} \\right) \\cdot \\operatorname{\\mathbb{P}} \\,\\left(IQ_{real} \\right)\n",
    "\\end{equation}\n",
    "\\begin{equation}\n",
    "\\text{The prior is that of the general distribution, i.e. it follows N(100,152) and the likelihood is that of test error, i.e. it follows N(IQtest, 102) and IQtest = 80.}\n",
    "\\end{equation}\n",
    "\\begin{equation}\n",
    "\\text{Using Bayesian normal updating, we get that the mean of IQreal is,}\n",
    "\\end{equation}\n",
    "\\begin{align}\n",
    "\\mu_{posterior} & = \\frac{\\frac{\\mu_{prior}}{\\sigma^2_{prior}} +\\frac{n\\overline{X}}{\\sigma^2_{likelihood}}}{\\frac{1}{\\sigma^2_{prior}} +\\frac{n}{\\sigma^2_{likelihood}}} \\\\\n",
    " & = \\frac{\\frac{100}{152} + \\frac{1 \\cdot 80}{102}}{\\frac{1}{152} + \\frac{1}{102}} \\\\\n",
    " & = \\frac{11180}{27} = 88.031496063\n",
    "\\end{align}\n",
    "\\begin{equation}\n",
    "\\text{Thus, Randall Vard's expected IQ is approximately 88.03.}\n",
    "\\end{equation}"
   ]
  },
  {
   "cell_type": "markdown",
   "id": "5b4c5288",
   "metadata": {},
   "source": [
    "### Section II"
   ]
  },
  {
   "cell_type": "code",
   "execution_count": 7,
   "id": "dd88a859",
   "metadata": {},
   "outputs": [
    {
     "data": {
      "text/latex": [
       "\\begin{equation}\n",
       "\\text{Using Bayesian inference for Mary I. Taft's test,}\n",
       "\\end{equation}\n",
       "\\begin{equation}\n",
       "\\operatorname{Posterior} = \\frac{\\operatorname{Prior} \\cdot \\operatorname{Likelihood}}{\\operatorname{Marginal Likelihood}}\n",
       "\\end{equation}\n",
       "\\begin{equation}\n",
       "\\text{From here,}\n",
       "\\end{equation}\n",
       "\\begin{equation}\n",
       "\\operatorname{\\mathbb{P}} \\,\\left( IQ_{real} \\mid IQ_{test} \\right) \\propto \\operatorname{\\mathbb{P}} \\,\\left( IQ_{test} \\mid IQ_{real} \\right) \\cdot \\operatorname{\\mathbb{P}} \\,\\left(IQ_{real} \\right)\n",
       "\\end{equation}\n",
       "\\begin{equation}\n",
       "\\text{The prior is that of the general distribution, i.e. it follows N(100,152) and the likelihood is that of test error, i.e. it follows N(IQtest, 102) and IQtest = 150.}\n",
       "\\end{equation}\n",
       "\\begin{equation}\n",
       "\\text{Using Bayesian normal updating, we get that the mean of IQreal is,}\n",
       "\\end{equation}\n",
       "\\begin{align}\n",
       "\\mu_{posterior} & = \\frac{\\frac{\\mu_{prior}}{\\sigma^2_{prior}} +\\frac{n\\overline{X}}{\\sigma^2_{likelihood}}}{\\frac{1}{\\sigma^2_{prior}} +\\frac{n}{\\sigma^2_{likelihood}}} \\\\\n",
       " & = \\frac{\\frac{100}{152} + \\frac{1 \\cdot 150}{102}}{\\frac{1}{152} + \\frac{1}{102}} \\\\\n",
       " & = \\frac{16500}{27} = 129.921259843\n",
       "\\end{align}\n",
       "\\begin{equation}\n",
       "\\text{Thus, Mary I. Taft's expected IQ is approximately 129.92.}\n",
       "\\end{equation}\n"
      ],
      "text/plain": [
       "<IPython.core.display.Latex object>"
      ]
     },
     "metadata": {},
     "output_type": "display_data"
    }
   ],
   "source": [
    "%%latex\n",
    "\\begin{equation}\n",
    "\\text{Using Bayesian inference for Mary I. Taft's test,}\n",
    "\\end{equation}\n",
    "\\begin{equation}\n",
    "\\operatorname{Posterior} = \\frac{\\operatorname{Prior} \\cdot \\operatorname{Likelihood}}{\\operatorname{Marginal Likelihood}}\n",
    "\\end{equation}\n",
    "\\begin{equation}\n",
    "\\text{From here,}\n",
    "\\end{equation}\n",
    "\\begin{equation}\n",
    "\\operatorname{\\mathbb{P}} \\,\\left( IQ_{real} \\mid IQ_{test} \\right) \\propto \\operatorname{\\mathbb{P}} \\,\\left( IQ_{test} \\mid IQ_{real} \\right) \\cdot \\operatorname{\\mathbb{P}} \\,\\left(IQ_{real} \\right)\n",
    "\\end{equation}\n",
    "\\begin{equation}\n",
    "\\text{The prior is that of the general distribution, i.e. it follows N(100,152) and the likelihood is that of test error, i.e. it follows N(IQtest, 102) and IQtest = 150.}\n",
    "\\end{equation}\n",
    "\\begin{equation}\n",
    "\\text{Using Bayesian normal updating, we get that the mean of IQreal is,}\n",
    "\\end{equation}\n",
    "\\begin{align}\n",
    "\\mu_{posterior} & = \\frac{\\frac{\\mu_{prior}}{\\sigma^2_{prior}} +\\frac{n\\overline{X}}{\\sigma^2_{likelihood}}}{\\frac{1}{\\sigma^2_{prior}} +\\frac{n}{\\sigma^2_{likelihood}}} \\\\\n",
    " & = \\frac{\\frac{100}{152} + \\frac{1 \\cdot 150}{102}}{\\frac{1}{152} + \\frac{1}{102}} \\\\\n",
    " & = \\frac{16500}{27} = 129.921259843\n",
    "\\end{align}\n",
    "\\begin{equation}\n",
    "\\text{Thus, Mary I. Taft's expected IQ is approximately 129.92.}\n",
    "\\end{equation}"
   ]
  },
  {
   "cell_type": "markdown",
   "id": "1341c58a",
   "metadata": {},
   "source": [
    "# Question 3"
   ]
  },
  {
   "cell_type": "code",
   "execution_count": 8,
   "id": "eaa70d40",
   "metadata": {},
   "outputs": [
    {
     "data": {
      "text/latex": [
       "\\begin{equation}\n",
       "\\text{The likelihood function for a sample size of n is, where X is the observation}\n",
       "\\end{equation}\n",
       "\\begin{align}\n",
       "\\operatorname{\\mathscr{L}} \\,\\left( X \\mid \\left(\\mu,\\sigma^2\\right)\\right) & = \\operatorname{\\mathbb{P}} \\,\\left( X \\mid \\left(\\mu,\\sigma^2\\right)\\right) \\\\ \n",
       " & = \\prod^n_{i = 1} \\frac{e^{-\\frac{(x_i-\\mu)^2}{2\\sigma^2}}}{\\sqrt{2\\pi\\sigma^2}} \\\\\n",
       " & = \\frac{e^{-\\frac{\\sum^n_{i=1}(x_i-\\mu)^2}{2\\sigma^2}}}{\\left(\\sqrt{2\\pi\\sigma^2}\\right)^n}\n",
       "\\end{align}\n",
       "\\begin{equation}\n",
       "\\text{For the log-likelihood,}\n",
       "\\end{equation}\n",
       "\\begin{align}\n",
       "\\operatorname{\\mathscr{l}} \\,\\left( X \\mid \\left(\\mu,\\sigma^2\\right)\\right) & = \\ln\\left(\\operatorname{\\mathscr{L}} \\,\\left( X \\mid \\left(\\mu,\\sigma^2\\right)\\right)\\right) \\\\\n",
       " & = -\\frac{\\sum^n_{i=1}(x_i-\\mu)^2}{2\\sigma^2}- \\frac{n}{2} \\ln\\left(2\\pi\\sigma^2\\right) \\\\\n",
       "\\end{align}\n",
       "\\begin{equation}\n",
       "\\text{For MLE, the following relations must hold,}\n",
       "\\end{equation}\n",
       "\\begin{align}\n",
       "\\frac{\\partial \\mathscr l}{\\partial \\mu} = 0 \\\\\n",
       "\\frac{\\partial \\mathscr l}{\\partial \\sigma} = 0 \\\\\n",
       "\\frac{\\partial^2 \\mathscr l}{\\partial \\mu^2} < 0 \\\\\n",
       "\\frac{\\partial \\mathscr l}{\\partial \\sigma^2} < 0\n",
       "\\end{align}\n",
       "\\begin{equation}\n",
       "\\text{On solving,}\n",
       "\\end{equation}\n",
       "\\begin{equation}\n",
       "\\hat{\\mu} = \\frac{\\sum^n_{i = 1}x_i}{n}\n",
       "\\end{equation}\n",
       "\\begin{equation}\n",
       "\\hat{\\sigma} = \\sqrt\\frac{\\sum^n_{i = 1}\\left(x_i - \\hat\\mu\\right)^2}{n}\n",
       "\\end{equation}\n",
       "\\begin{equation}\n",
       "\\text{The Python code is as follows, for an numpy array X,}\n",
       "\\end{equation}\n"
      ],
      "text/plain": [
       "<IPython.core.display.Latex object>"
      ]
     },
     "metadata": {},
     "output_type": "display_data"
    }
   ],
   "source": [
    "%%latex\n",
    "\\begin{equation}\n",
    "\\text{The likelihood function for a sample size of n is, where X is the observation}\n",
    "\\end{equation}\n",
    "\\begin{align}\n",
    "\\operatorname{\\mathscr{L}} \\,\\left( X \\mid \\left(\\mu,\\sigma^2\\right)\\right) & = \\operatorname{\\mathbb{P}} \\,\\left( X \\mid \\left(\\mu,\\sigma^2\\right)\\right) \\\\ \n",
    " & = \\prod^n_{i = 1} \\frac{e^{-\\frac{(x_i-\\mu)^2}{2\\sigma^2}}}{\\sqrt{2\\pi\\sigma^2}} \\\\\n",
    " & = \\frac{e^{-\\frac{\\sum^n_{i=1}(x_i-\\mu)^2}{2\\sigma^2}}}{\\left(\\sqrt{2\\pi\\sigma^2}\\right)^n}\n",
    "\\end{align}\n",
    "\\begin{equation}\n",
    "\\text{For the log-likelihood,}\n",
    "\\end{equation}\n",
    "\\begin{align}\n",
    "\\operatorname{\\mathscr{l}} \\,\\left( X \\mid \\left(\\mu,\\sigma^2\\right)\\right) & = \\ln\\left(\\operatorname{\\mathscr{L}} \\,\\left( X \\mid \\left(\\mu,\\sigma^2\\right)\\right)\\right) \\\\\n",
    " & = -\\frac{\\sum^n_{i=1}(x_i-\\mu)^2}{2\\sigma^2}- \\frac{n}{2} \\ln\\left(2\\pi\\sigma^2\\right) \\\\\n",
    "\\end{align}\n",
    "\\begin{equation}\n",
    "\\text{For MLE, the following relations must hold,}\n",
    "\\end{equation}\n",
    "\\begin{align}\n",
    "\\frac{\\partial \\mathscr l}{\\partial \\mu} = 0 \\\\\n",
    "\\frac{\\partial \\mathscr l}{\\partial \\sigma} = 0 \\\\\n",
    "\\frac{\\partial^2 \\mathscr l}{\\partial \\mu^2} < 0 \\\\\n",
    "\\frac{\\partial \\mathscr l}{\\partial \\sigma^2} < 0\n",
    "\\end{align}\n",
    "\\begin{equation}\n",
    "\\text{On solving,}\n",
    "\\end{equation}\n",
    "\\begin{equation}\n",
    "\\hat{\\mu} = \\frac{\\sum^n_{i = 1}x_i}{n}\n",
    "\\end{equation}\n",
    "\\begin{equation}\n",
    "\\hat{\\sigma} = \\sqrt\\frac{\\sum^n_{i = 1}\\left(x_i - \\hat\\mu\\right)^2}{n}\n",
    "\\end{equation}\n",
    "\\begin{equation}\n",
    "\\text{The Python code is as follows, for an numpy array X,}\n",
    "\\end{equation}"
   ]
  },
  {
   "cell_type": "code",
   "execution_count": 9,
   "id": "01deb136",
   "metadata": {},
   "outputs": [
    {
     "data": {
      "image/png": "[encoded data removed]",
      "text/plain": [
       "<Figure size 640x480 with 1 Axes>"
      ]
     },
     "metadata": {},
     "output_type": "display_data"
    }
   ],
   "source": [
    "x = np.linspace(-10,10,1000)\n",
    "X = np.zeros(100)\n",
    "for i in range(len(X)) :\n",
    "    X[i] =np.random.normal(loc = 0.0, scale = 1.0)\n",
    "mean = 0\n",
    "var = 0\n",
    "for i in range(len(X)) :\n",
    "    mean += 1.0*X[i]/len(X)\n",
    "for i in range(len(X)) :\n",
    "    var += 1.0*(X[i]-mean)**2/len(X)\n",
    "plt.plot(x,normal_dist(x,mean,var), 'r')\n",
    "plt.plot(x,normal_dist(x,0,1), 'g')\n",
    "plt.show()"
   ]
  },
  {
   "cell_type": "markdown",
   "id": "477f7e0d",
   "metadata": {},
   "source": [
    "# Question 4"
   ]
  },
  {
   "cell_type": "code",
   "execution_count": 10,
   "id": "a94e2a23",
   "metadata": {},
   "outputs": [
    {
     "data": {
      "text/latex": [
       "\\begin{equation}\n",
       "\\text{In logistic regression, we assume the parameters are β and we calculate the log-odds as z = Xβ, where X is the column vector}\n",
       "\\end{equation}\n",
       "\\begin{equation}\n",
       "\\text{of the explanatory variables with an entry of one. On these log-odds we apply the sigmoid function to find the probability}\n",
       "\\end{equation}\n",
       "\\begin{equation}\n",
       "\\text{of classifying a point as 0 or 1. For logistic regression we can calculate the likelihood as,}\n",
       "\\end{equation}\n",
       "\\begin{equation}\n",
       "\\begin{matrix}\\operatorname{\\mathscr{L}} \\,\\left( Y \\mid X, \\beta\\right) = \\prod_{i = 1}^n\\sigma\\left(z_i\\right)^{y_i}\\cdot \\left(1-\\sigma\\left(z_i\\right)\\right)^{1-y_i},  & z_i = x_i \\cdot \\beta,  & \\operatorname{\\sigma} \\left(x\\right) = \\frac{1}{1 + e^{-x}} \\end{matrix}\n",
       "\\end{equation}\n",
       "\\begin{equation}\n",
       "\\text{Further, the prior on the parameters is Gaussian so,}\n",
       "\\end{equation}\n",
       "\\begin{align}\n",
       "\\operatorname{\\mathscr{P}}\\,\\left( X, \\beta\\right) = \\prod_{i = 1}^k \\frac{e^{-\\frac{\\left(\\beta_i-\\mu_i\\right)^2}{2\\sigma_i^2}}}{\\sqrt{2\\pi\\sigma_i^2}}\n",
       "\\end{align}\n",
       "\\begin{equation}\n",
       "\\text{Using Bayesian inference, and converting to log-likelihood,}\n",
       "\\end{equation}\n",
       "\\begin{align}\n",
       "\\operatorname{Posterior} & = \\frac{\\operatorname{Prior} \\cdot \\operatorname{Likelihood}}{\\operatorname{Marginal Likelihood}} \\\\\n",
       " & \\propto \\operatorname{Prior} \\cdot \\operatorname{Likelihood}\n",
       "\\end{align}\n",
       "\\begin{align}\n",
       "\\operatorname{\\mathscr{l}} = \\sum^n_{i = 1} \\left[y_i\\cdot \\ln\\left(\\sigma\\left(z_i\\right)\\right) + \\left(1-y_i\\right) \\cdot \\ln \\left(1 - \\sigma\\left(z_i\\right)\\right)\\right] - \\sum^k_{i = 0} \\left[\\frac{\\left(\\beta_i - \\mu_i\\right)^2}{2\\sigma_i^2}  + \\frac{1}{2}\\ln\\left(2\\pi\\sigma_i^2\\right)\\right]\n",
       "\\end{align}\n",
       "\\begin{equation}\n",
       "\\text{To apply a maximum a posteriori (MAP) estimate on this, we simply differentiate (since both classes of distributions satisfy convexity}\n",
       "\\end{equation}\n",
       "\\begin{equation}\n",
       "\\text{requirements for them to verily be maxima when the first derivative is zero)}\n",
       "\\end{equation}\n",
       "\\begin{align}\n",
       "\\nabla \\operatorname{\\mathscr{l}} & = \\sum^n_{i = 1} \\left(y_i - \\sigma(z_i)\\right)\\cdot x_i^T - \\left(\\beta - \\mu_\\beta\\right)\\cdot \\left(\\sigma_\\beta^2\\right)^{-1}\n",
       "\\end{align}\n",
       "\\begin{equation}\n",
       "\\text{From here, we can apply gradient ascent (or gradent descent on its negative, which is the cost function) to find the maxima as,}\n",
       "\\end{equation}\n",
       "\\begin{equation}\n",
       "\\beta_{0} =  \\operatorname{\\mathscr{l}} + \\frac{\\alpha}{n}\\nabla \\operatorname{\\mathscr{l}}\n",
       "\\end{equation}\n"
      ],
      "text/plain": [
       "<IPython.core.display.Latex object>"
      ]
     },
     "metadata": {},
     "output_type": "display_data"
    }
   ],
   "source": [
    "%%latex\n",
    "\\begin{equation}\n",
    "\\text{In logistic regression, we assume the parameters are β and we calculate the log-odds as z = Xβ, where X is the column vector}\n",
    "\\end{equation}\n",
    "\\begin{equation}\n",
    "\\text{of the explanatory variables with an entry of one. On these log-odds we apply the sigmoid function to find the probability}\n",
    "\\end{equation}\n",
    "\\begin{equation}\n",
    "\\text{of classifying a point as 0 or 1. For logistic regression we can calculate the likelihood as,}\n",
    "\\end{equation}\n",
    "\\begin{equation}\n",
    "\\begin{matrix}\\operatorname{\\mathscr{L}} \\,\\left( Y \\mid X, \\beta\\right) = \\prod_{i = 1}^n\\sigma\\left(z_i\\right)^{y_i}\\cdot \\left(1-\\sigma\\left(z_i\\right)\\right)^{1-y_i},  & z_i = x_i \\cdot \\beta,  & \\operatorname{\\sigma} \\left(x\\right) = \\frac{1}{1 + e^{-x}} \\end{matrix}\n",
    "\\end{equation}\n",
    "\\begin{equation}\n",
    "\\text{Further, the prior on the parameters is Gaussian so,}\n",
    "\\end{equation}\n",
    "\\begin{align}\n",
    "\\operatorname{\\mathscr{P}}\\,\\left( X, \\beta\\right) = \\prod_{i = 1}^k \\frac{e^{-\\frac{\\left(\\beta_i-\\mu_i\\right)^2}{2\\sigma_i^2}}}{\\sqrt{2\\pi\\sigma_i^2}}\n",
    "\\end{align}\n",
    "\\begin{equation}\n",
    "\\text{Using Bayesian inference, and converting to log-likelihood,}\n",
    "\\end{equation}\n",
    "\\begin{align}\n",
    "\\operatorname{Posterior} & = \\frac{\\operatorname{Prior} \\cdot \\operatorname{Likelihood}}{\\operatorname{Marginal Likelihood}} \\\\\n",
    " & \\propto \\operatorname{Prior} \\cdot \\operatorname{Likelihood}\n",
    "\\end{align}\n",
    "\\begin{align}\n",
    "\\operatorname{\\mathscr{l}} = \\sum^n_{i = 1} \\left[y_i\\cdot \\ln\\left(\\sigma\\left(z_i\\right)\\right) + \\left(1-y_i\\right) \\cdot \\ln \\left(1 - \\sigma\\left(z_i\\right)\\right)\\right] - \\sum^k_{i = 0} \\left[\\frac{\\left(\\beta_i - \\mu_i\\right)^2}{2\\sigma_i^2}  + \\frac{1}{2}\\ln\\left(2\\pi\\sigma_i^2\\right)\\right]\n",
    "\\end{align}\n",
    "\\begin{equation}\n",
    "\\text{To apply a maximum a posteriori (MAP) estimate on this, we simply differentiate (since both classes of distributions satisfy convexity}\n",
    "\\end{equation}\n",
    "\\begin{equation}\n",
    "\\text{requirements for them to verily be maxima when the first derivative is zero)}\n",
    "\\end{equation}\n",
    "\\begin{align}\n",
    "\\nabla \\operatorname{\\mathscr{l}} & = \\sum^n_{i = 1} \\left(y_i - \\sigma(z_i)\\right)\\cdot x_i^T - \\left(\\beta - \\mu_\\beta\\right)\\cdot \\left(\\sigma_\\beta^2\\right)^{-1}\n",
    "\\end{align}\n",
    "\\begin{equation}\n",
    "\\text{From here, we can apply gradient ascent (or gradent descent on its negative, which is the cost function) to find the maxima as,}\n",
    "\\end{equation}\n",
    "\\begin{equation}\n",
    "\\beta_{0} =  \\operatorname{\\mathscr{l}} + \\frac{\\alpha}{n}\\nabla \\operatorname{\\mathscr{l}}\n",
    "\\end{equation}"
   ]
  },
  {
   "cell_type": "code",
   "execution_count": 11,
   "id": "bcbfe441",
   "metadata": {},
   "outputs": [
    {
     "name": "stdout",
     "output_type": "stream",
     "text": [
      "<class 'pandas.core.frame.DataFrame'>\n",
      "RangeIndex: 400 entries, 0 to 399\n",
      "Data columns (total 3 columns):\n",
      " #   Column           Non-Null Count  Dtype\n",
      "---  ------           --------------  -----\n",
      " 0   Age              400 non-null    int64\n",
      " 1   EstimatedSalary  400 non-null    int64\n",
      " 2   Purchased        400 non-null    int64\n",
      "dtypes: int64(3)\n",
      "memory usage: 9.5 KB\n"
     ]
    },
    {
     "data": {
      "text/plain": [
       "None"
      ]
     },
     "metadata": {},
     "output_type": "display_data"
    }
   ],
   "source": [
    "train = pd.read_csv('Datasets/Social Network Ads (Logistic Regression).csv')\n",
    "train.drop('User ID', axis = 1, inplace = True)\n",
    "train.drop('Gender', axis = 1, inplace = True)\n",
    "display(train.info())"
   ]
  },
  {
   "cell_type": "code",
   "execution_count": 12,
   "id": "ee69fd05",
   "metadata": {},
   "outputs": [],
   "source": [
    "mean = np.empty(train.shape[1] - 1)\n",
    "std = np.empty(train.shape[1] - 1)\n",
    "i = 0\n",
    "j = 0\n",
    "for col in train.columns:\n",
    "    if col == 'Purchased' :\n",
    "        continue\n",
    "    else :\n",
    "        mean[i]=np.mean(train[col])\n",
    "        std[i] = np.std(train[col])\n",
    "        i+=1\n",
    "for col in train.columns:\n",
    "    if col == 'Purchased' :\n",
    "        continue\n",
    "    else :\n",
    "        col_del = train[col]\n",
    "        col_del = (col_del - mean[j])/std[j]\n",
    "        train[col] = col_del\n",
    "        j+=1"
   ]
  },
  {
   "cell_type": "code",
   "execution_count": 13,
   "id": "f4bf169d",
   "metadata": {},
   "outputs": [],
   "source": [
    "mu = np.array([[0], [0], [0]])\n",
    "cov = np.matrix([[1,0,0],[0,1,0],[0,0,1]])\n",
    "alpha = 0.001\n",
    "iterations = 1000000\n",
    "Y = train.copy(deep = True)\n",
    "X = train.copy(deep = True)\n",
    "ones = np.ones(len(X))\n",
    "for col in train.columns :\n",
    "    if col == 'Purchased' :\n",
    "        X.drop(col, axis = 1, inplace = True)\n",
    "    else :\n",
    "        Y.drop(col, axis = 1, inplace = True)\n",
    "X['ones'] = ones"
   ]
  },
  {
   "cell_type": "code",
   "execution_count": 14,
   "id": "2069baa7",
   "metadata": {},
   "outputs": [],
   "source": [
    "def sigmoid(x) :\n",
    "    return 1/(1 + np.exp(-x))\n",
    "def logodd (X, beta) :\n",
    "    return X @ beta\n",
    "def mle_logistic (X, Y, mu, cov, iterations) :\n",
    "    n = len(X)\n",
    "    beta = mu\n",
    "    for i in range(iterations) :\n",
    "        beta = beta + alpha/n * (X.T @ (Y - sigmoid(logodd(X,beta))) - cov.I @ (beta - mu)) \n",
    "    return beta"
   ]
  },
  {
   "cell_type": "code",
   "execution_count": 15,
   "id": "090f7761",
   "metadata": {},
   "outputs": [
    {
     "name": "stdout",
     "output_type": "stream",
     "text": [
      "The optimal parameters are [2.2480400715334925 1.1265447485645166 -1.0582270248828527]\n"
     ]
    }
   ],
   "source": [
    "params = mle_logistic(X.to_numpy(), Y.to_numpy(), mu, cov, iterations)\n",
    "print(\"The optimal parameters are [\" + str(float(params[0][0])) + \" \" + str(float(params[1][0])) + \" \" + str(float(params[2][0])) + \"]\")"
   ]
  },
  {
   "cell_type": "markdown",
   "id": "ef75be4a",
   "metadata": {},
   "source": [
    "# Question 5"
   ]
  },
  {
   "cell_type": "code",
   "execution_count": 16,
   "id": "90534cdf",
   "metadata": {},
   "outputs": [
    {
     "data": {
      "text/latex": [
       "\\begin{equation}\n",
       "\\text{The VC dimension of a constant function is, trivially, zero, since say it predicts 1 (in a binary classification),}\n",
       "\\end{equation}\n",
       "\\begin{equation}\n",
       "\\text{then while it successfully solves for one data point classified as 1, it fails to do the same for a single data point classified as 0.}\n",
       "\\end{equation}\n",
       "\\begin{equation}\n",
       "\\end{equation}\n",
       "\\begin{equation}\n",
       "\\text{For a linear function in d dimensions, we must make use of Radon's theorem which states that}\n",
       "\\end{equation}\n",
       "\\begin{equation}\n",
       "\\text{'in any space with d dimensions, any set of d + 2 points can be partitioned into sets whose convex hulls intersect'.}\n",
       "\\end{equation}\n",
       "\\begin{equation}\n",
       "\\text{This means that the VC dimension must be d + 1. This can be shown for one dimension where (++|), (+|-), (-|+), (|--) can}\n",
       "\\end{equation}\n",
       "\\begin{equation}\n",
       "\\text{all be trivially partitioned, but a set of three like (+-+) cannot. Similarly, for two dimensions, three non-collinear points}\n",
       "\\end{equation}\n",
       "\\begin{equation}\n",
       "\\text{can always be partitioned (if all three points are +++ or ---, a line not passing through the triangle formed by the points,}\n",
       "\\end{equation}\n",
       "\\begin{equation}\n",
       "\\text{and if the points are ++- or --+ or any rearrangement of these, a line which separates the two similar points from the distinct one,}\n",
       "\\end{equation}\n",
       "\\begin{equation}\n",
       "\\text{can act as the partition) but not for four (say a square with the vertices being ordered as +-+- in a clockwise fashion)}\n",
       "\\end{equation}\n",
       "\\begin{equation}\n",
       "\\text{as demonstrated visually in the article on VC dimension on Wikipedia}\n",
       "\\end{equation}\n",
       "\\begin{equation}\n",
       "\\end{equation}\n",
       "\\begin{equation}\n",
       "\\text{An axis aligned rectangle in 2 dimensions has a VC dimension of 4, as it with any four points arranged in a tilted square (diamond),}\n",
       "\\end{equation}\n",
       "\\begin{equation}\n",
       "\\text{if all points are ++++ or ----, the rectangle can encompass the entire figure, with +--- or -+++, the rectangle can encompass}\n",
       "\\end{equation}\n",
       "\\begin{equation}\n",
       "\\text{the singular point and with ++-- or --++ and its rearrangements, the rectangle can encompass any two points leaving the}\n",
       "\\end{equation}\n",
       "\\begin{equation}\n",
       "\\text{other two outside. For 5 points, if we choose the points which enclose the fifth point in a convex quadrilateral and assign}\n",
       "\\end{equation}\n",
       "\\begin{equation}\n",
       "\\text{the vertices +- in an alternate manner while the remaining point can be arbitrarily chosen then we cannot create an axis aligned}\n",
       "\\end{equation}\n",
       "\\begin{equation}\n",
       "\\text{rectangle to separate the points.}\n",
       "\\end{equation}\n",
       "\\begin{equation}\n",
       "\\end{equation}\n",
       "\\begin{equation}\n",
       "\\text{For an interval, the VC dimension is 3, as ([+++]), ([---]), ([+]--), (-[+]-), (--[+]), ([-]++), (+[-]+), (++[-]) can be partitioned but}\n",
       "\\end{equation}\n",
       "\\begin{equation}\n",
       "\\text{for 4 points, the case of (-+-+) cannot be partitioned on the real number line}\n",
       "\\end{equation}\n"
      ],
      "text/plain": [
       "<IPython.core.display.Latex object>"
      ]
     },
     "metadata": {},
     "output_type": "display_data"
    }
   ],
   "source": [
    "%%latex\n",
    "\\begin{equation}\n",
    "\\text{The VC dimension of a constant function is, trivially, zero, since say it predicts 1 (in a binary classification),}\n",
    "\\end{equation}\n",
    "\\begin{equation}\n",
    "\\text{then while it successfully solves for one data point classified as 1, it fails to do the same for a single data point classified as 0.}\n",
    "\\end{equation}\n",
    "\\begin{equation}\n",
    "\\end{equation}\n",
    "\\begin{equation}\n",
    "\\text{For a linear function in d dimensions, we must make use of Radon's theorem which states that}\n",
    "\\end{equation}\n",
    "\\begin{equation}\n",
    "\\text{'in any space with d dimensions, any set of d + 2 points can be partitioned into sets whose convex hulls intersect'.}\n",
    "\\end{equation}\n",
    "\\begin{equation}\n",
    "\\text{This means that the VC dimension must be d + 1. This can be shown for one dimension where (++|), (+|-), (-|+), (|--) can}\n",
    "\\end{equation}\n",
    "\\begin{equation}\n",
    "\\text{all be trivially partitioned, but a set of three like (+-+) cannot. Similarly, for two dimensions, three non-collinear points}\n",
    "\\end{equation}\n",
    "\\begin{equation}\n",
    "\\text{can always be partitioned (if all three points are +++ or ---, a line not passing through the triangle formed by the points,}\n",
    "\\end{equation}\n",
    "\\begin{equation}\n",
    "\\text{and if the points are ++- or --+ or any rearrangement of these, a line which separates the two similar points from the distinct one,}\n",
    "\\end{equation}\n",
    "\\begin{equation}\n",
    "\\text{can act as the partition) but not for four (say a square with the vertices being ordered as +-+- in a clockwise fashion)}\n",
    "\\end{equation}\n",
    "\\begin{equation}\n",
    "\\text{as demonstrated visually in the article on VC dimension on Wikipedia}\n",
    "\\end{equation}\n",
    "\\begin{equation}\n",
    "\\end{equation}\n",
    "\\begin{equation}\n",
    "\\text{An axis aligned rectangle in 2 dimensions has a VC dimension of 4, as it with any four points arranged in a tilted square (diamond),}\n",
    "\\end{equation}\n",
    "\\begin{equation}\n",
    "\\text{if all points are ++++ or ----, the rectangle can encompass the entire figure, with +--- or -+++, the rectangle can encompass}\n",
    "\\end{equation}\n",
    "\\begin{equation}\n",
    "\\text{the singular point and with ++-- or --++ and its rearrangements, the rectangle can encompass any two points leaving the}\n",
    "\\end{equation}\n",
    "\\begin{equation}\n",
    "\\text{other two outside. For 5 points, if we choose the points which enclose the fifth point in a convex quadrilateral and assign}\n",
    "\\end{equation}\n",
    "\\begin{equation}\n",
    "\\text{the vertices +- in an alternate manner while the remaining point can be arbitrarily chosen then we cannot create an axis aligned}\n",
    "\\end{equation}\n",
    "\\begin{equation}\n",
    "\\text{rectangle to separate the points.}\n",
    "\\end{equation}\n",
    "\\begin{equation}\n",
    "\\end{equation}\n",
    "\\begin{equation}\n",
    "\\text{For an interval, the VC dimension is 3, as ([+++]), ([---]), ([+]--), (-[+]-), (--[+]), ([-]++), (+[-]+), (++[-]) can be partitioned but}\n",
    "\\end{equation}\n",
    "\\begin{equation}\n",
    "\\text{for 4 points, the case of (-+-+) cannot be partitioned on the real number line}\n",
    "\\end{equation}"
   ]
  },
  {
   "cell_type": "markdown",
   "id": "8b7e7e0f",
   "metadata": {},
   "source": [
    "# Bonus Question"
   ]
  },
  {
   "cell_type": "code",
   "execution_count": 17,
   "id": "9fc87741",
   "metadata": {},
   "outputs": [
    {
     "data": {
      "text/latex": [
       "\\begin{equation}\n",
       "\\text{The solution has been uploaded in a separate Jupyter notebook in the same folder}\n",
       "\\end{equation}\n"
      ],
      "text/plain": [
       "<IPython.core.display.Latex object>"
      ]
     },
     "metadata": {},
     "output_type": "display_data"
    }
   ],
   "source": [
    "%%latex\n",
    "\\begin{equation}\n",
    "\\text{The solution has been uploaded in a separate Jupyter notebook in the same folder}\n",
    "\\end{equation}"
   ]
  }
 ],
 "metadata": {
  "kernelspec": {
   "display_name": "Python 3 (ipykernel)",
   "language": "python",
   "name": "python3"
  },
  "language_info": {
   "codemirror_mode": {
    "name": "ipython",
    "version": 3
   },
   "file_extension": ".py",
   "mimetype": "text/x-python",
   "name": "python",
   "nbconvert_exporter": "python",
   "pygments_lexer": "ipython3",
   "version": "3.9.13"
  }
 },
 "nbformat": 4,
 "nbformat_minor": 5
}
