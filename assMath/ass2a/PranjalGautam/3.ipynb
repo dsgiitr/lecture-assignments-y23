{
 "cells": [
  {
   "cell_type": "markdown",
   "metadata": {},
   "source": [
    "## We have the probabiliy\n",
    "$p(x_1,x_2...x_n|\\mu , \\sigma)=\\prod \\frac 1 {\\sqrt{2\\pi}\\sigma}e^{-\\frac 1 2 \\frac {(x_i-\\mu)^2} {\\sigma^2}}$\\\n",
    "Using this we get the log likelihood functions\\\n",
    "$-log(p)=+nlog(\\sqrt(2\\pi))+nlog(\\sigma)+\\frac 1 2\\sum\\frac {(x_i-\\mu)^2} {\\sigma^2}$\\\n",
    "$\\frac {d(-logp)} {d\\mu}=-\\sum \\frac {(x_i-\\mu)} {\\sigma^2}$\\\n",
    "$\\frac {d(-logp)} {d\\sigma}=\\frac n {\\sigma}-\\sum \\frac {(x_i-\\mu)^2} {\\sigma^3}$\n",
    "We use these as the loss functions"
   ]
  },
  {
   "cell_type": "code",
   "execution_count": 1,
   "metadata": {},
   "outputs": [],
   "source": [
    "import numpy as np"
   ]
  },
  {
   "cell_type": "code",
   "execution_count": 17,
   "metadata": {},
   "outputs": [
    {
     "data": {
      "text/plain": [
       "array([-1.07545256,  5.12716367,  5.62194381,  2.13280852,  4.45801813,\n",
       "        2.40158164, -1.39832205,  5.6518386 ,  2.54849332,  2.46281486,\n",
       "        2.78463986,  4.15902672,  3.38147227, -1.62463157,  2.54431338,\n",
       "        0.0135597 ,  5.75672963, -0.16231321, -0.9379748 ,  5.17740403,\n",
       "        7.64173177,  1.54774391,  0.09623596, -1.15386723,  3.99057701,\n",
       "        4.4051077 ,  1.89675284,  7.95334083,  3.08407104,  5.01540079,\n",
       "        4.2644517 ,  5.21923975, -0.57069707,  7.47369108, -2.49503173,\n",
       "        7.78609238,  6.06736453,  1.09799421, -0.10321524, -0.76722885,\n",
       "       -0.79003985,  4.31396195,  5.44052749, -1.1567394 , -1.36333861,\n",
       "        3.39884845,  2.77849802,  2.67657315,  2.2505494 ,  5.74803638,\n",
       "       -1.23720401,  4.99105626, -2.17656639,  4.03423196,  1.61303961,\n",
       "       -0.51814842,  2.36681148,  2.12244989,  3.0379994 ,  2.08231789,\n",
       "       -2.44997064,  3.44640584, -3.86981735,  5.53234962, -5.04403189,\n",
       "        2.66998528, -2.93613236,  5.48834039,  7.41243614,  5.956897  ,\n",
       "       -1.74611209,  1.41517042,  0.43386696,  1.93442062,  2.7241532 ,\n",
       "        0.87848569, -0.62655385, -6.64994368,  0.95362972,  3.83023163,\n",
       "        2.55950951,  4.20106909,  2.74464327, -4.18189976,  2.85428311,\n",
       "        3.42692732,  0.46447158,  5.43408599,  5.59449232,  0.52836326,\n",
       "        2.43159467,  2.86181049,  5.16315164, -2.92821821,  2.90865988,\n",
       "        1.40482808, -2.54153954, -4.80684675,  3.48832704,  0.47875808])"
      ]
     },
     "execution_count": 17,
     "metadata": {},
     "output_type": "execute_result"
    }
   ],
   "source": [
    "list1=np.random.normal(2,3,100) #We take true mu=2, sigma=3\n",
    "list1"
   ]
  },
  {
   "cell_type": "code",
   "execution_count": 18,
   "metadata": {},
   "outputs": [],
   "source": [
    "def grad_descent(x,mu,sigma,L1,L2):\n",
    "    grad_mu=0\n",
    "    grad_sigma=len(x)/sigma\n",
    "    for i in x:\n",
    "        grad_mu+=-(i-mu)/(sigma**2)\n",
    "        grad_sigma+=-(i-mu)**2/(sigma**3)\n",
    "    return mu-grad_mu*L1,sigma-grad_sigma*L2"
   ]
  },
  {
   "cell_type": "code",
   "execution_count": 19,
   "metadata": {},
   "outputs": [],
   "source": [
    "mu=0\n",
    "sigma=1\n",
    "L1=10**(-3)\n",
    "L2=10**(-3)\n",
    "epoch=10000"
   ]
  },
  {
   "cell_type": "code",
   "execution_count": 21,
   "metadata": {},
   "outputs": [
    {
     "name": "stdout",
     "output_type": "stream",
     "text": [
      "2.0252601571633653 3.1037822316265964\n"
     ]
    }
   ],
   "source": [
    "for i in range(epoch):\n",
    "    mu,sigma=grad_descent(list1,mu,sigma,L1,L2)\n",
    "print(mu,sigma)"
   ]
  }
 ],
 "metadata": {
  "kernelspec": {
   "display_name": "Python 3",
   "language": "python",
   "name": "python3"
  },
  "language_info": {
   "codemirror_mode": {
    "name": "ipython",
    "version": 3
   },
   "file_extension": ".py",
   "mimetype": "text/x-python",
   "name": "python",
   "nbconvert_exporter": "python",
   "pygments_lexer": "ipython3",
   "version": "3.8.6"
  },
  "orig_nbformat": 4
 },
 "nbformat": 4,
 "nbformat_minor": 2
}
