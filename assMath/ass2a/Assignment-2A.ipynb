{
 "cells": [
  {
   "cell_type": "markdown",
   "id": "35b20913",
   "metadata": {},
   "source": [
    "## Question 1\n",
    "Poisson distribution   \n",
    "$P(X=k)=(\\frac{{\\lambda}^k}{k!})e^{-\\lambda}$\\\n",
    "Expectation for distribution by Alice ($\\lambda_A$)=10 and \\\n",
    "by Bob ($\\lambda_B$)=15\\\n",
    "Bayes theorom, \n",
    "$P(A/E)=\\frac{P(E/A)P(A)}{P(E)}$ \\\n",
    "We need to find Posterior distribution (how likely Alice is working given the evidence i.e. $ P(A/E)$ )\\\n",
    "Probability that Alice is working  $P(A)= \\frac{1}{10} $ \\\n",
    "Probability of Evidence given Alice is working $P(E/A)=P(X=12)P(X=10)P(X=11)P(X=4)P(X=11)$\n",
    "$=\\frac{{10}^{48}}{12!10!11!4!11!}e^{-50}$\\\n",
    "Probability of Evidence $P(E)=\\frac{1}{10}P(A/E)+\\frac{9}{10}P(B/E)=\\frac{{10}^{48}e^{-50}+9.{15}^{48}e^{-75}}{10(12!10!11!4!11!)}$ \\\n",
    "Hence Posterior $P(A/E)=\\frac{\\frac{{10}^{48}}{10(12!10!11!4!11!)}e^{-50}}{\\frac{{10}^{48}e^{-50}+9.{15}^{48}e^{-75}}{10(12!10!11!4!11!)}}=\\frac{{10}^{48}}{{10}^{48}+9.{15}^{48}e^{-25}}$\n"
   ]
  },
  {
   "cell_type": "markdown",
   "id": "a22ee84e",
   "metadata": {},
   "source": [
    "## Question 2\n",
    "Prior Distribution, $P(\\theta)=\\mathcal{N}(5,9)$  \\\n",
    "Signal recieved given theta $P(X/\\theta)=\\mathcal{N}(\\theta,4)$\n",
    "\n",
    "### a)  \n",
    "$X=6$ \\\n",
    "Posterior $P(\\theta/X)\\propto P(\\theta)P(X/\\theta)$\n",
    "$=\\mathcal{N}(5,9).\\mathcal{N}(\\theta,4)=\\Big(\\frac{1}{3\\sqrt{2\\pi}}e^{\\frac{-1}{2.9}{(\\theta-5)^2}}\\Big)\\Big(\\frac{1}{2\\sqrt{2\\pi}}e^{\\frac{-1}{2.4}{(6-\\theta)^2}}\\Big)\\propto e^{\\big({-\\frac{(\\theta-5)^2}{18}}-\\frac{(6-\\theta)^2}{8}\\big)}\\propto \\mathcal{N}(74/13,36/13)$\n",
    "\n",
    "### b)\n",
    "Original Signal $\\theta$ is recieved $n$ times\n",
    "with noise $x_1, x_2,...,x_n$ with sample mean $\\bar{x}$.\\\n",
    "Formulas for normal-normal bayesian update,\\\n",
    "$a=\\frac{1}{{\\sigma_{prior}}^2}=\\frac{1}{9}$ \\\n",
    "$b=\\frac{n}{{\\sigma}^2}=1$ \\\n",
    "${\\mu}_{post}=\\frac{a\\mu_{prior}+b{\\bar{x}}}{a+b}=\\frac{59}{10}$\\\n",
    "${{\\sigma_{post}}^2}=\\frac{1}{a+b}=\\frac{9}{10}$\n",
    "\n",
    "\n",
    "### c)\n",
    "\n",
    "\n",
    "\n",
    "### d)\n",
    "IQ distribution in general population $\\mathcal{N}(100,152)$\n",
    "IQ test score $\\mathcal{N}({IQ}_{true},102)$\n",
    "\n"
   ]
  },
  {
   "cell_type": "markdown",
   "id": "a6d3a291",
   "metadata": {},
   "source": [
    "## Question 3"
   ]
  },
  {
   "cell_type": "markdown",
   "id": "650c36c2",
   "metadata": {},
   "source": [
    "$\\mathcal{N}(\\mu,{\\sigma}^2)$ \\\n",
    "To maximize $$P(y_{1},y_{1}...y_{n}|\\mu,{\\sigma}^2)=\\prod_{i=1}^{n}\\frac{1}{\\sigma \\sqrt{2\\pi}}e^{\\frac{-(y_i-\\mu)^2}{2{\\sigma}^2}}$$\n",
    "MLE on Gaussian distribution:\n",
    "$$\\hat{\\mu}=\\frac{1}{n}\\sum_{i=1}^{n}y_{i}$$\\\n",
    "$$\\hat{\\sigma}^2=\\frac{1}{n}\\sum_{i=1}^{n}(\\hat{\\mu}-y_i)^2$$"
   ]
  },
  {
   "cell_type": "markdown",
   "id": "62f49baa",
   "metadata": {},
   "source": [
    "## Question 4"
   ]
  },
  {
   "cell_type": "code",
   "execution_count": null,
   "id": "a20a1fe7",
   "metadata": {},
   "outputs": [],
   "source": []
  }
 ],
 "metadata": {
  "kernelspec": {
   "display_name": "Python 3 (ipykernel)",
   "language": "python",
   "name": "python3"
  },
  "language_info": {
   "codemirror_mode": {
    "name": "ipython",
    "version": 3
   },
   "file_extension": ".py",
   "mimetype": "text/x-python",
   "name": "python",
   "nbconvert_exporter": "python",
   "pygments_lexer": "ipython3",
   "version": "3.10.9"
  }
 },
 "nbformat": 4,
 "nbformat_minor": 5
}
