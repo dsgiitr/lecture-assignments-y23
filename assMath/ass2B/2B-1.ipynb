{
 "cells": [
  {
   "cell_type": "markdown",
   "id": "40b36a8e",
   "metadata": {},
   "source": [
    "## Question 1\n",
    "### a)\n",
    "The probability distribution $P(y|x)$ defines \"how likely is the label(y) given features\"\\\n",
    "Our priority is to maximize this probabilty or to maximize the accuracy of our prediction.\n",
    "The mean gives us the maximumt probabilty distrib"
   ]
  },
  {
   "cell_type": "markdown",
   "id": "b54d6205",
   "metadata": {},
   "source": [
    "### b)\n",
    "\n",
    "$$P(y|x)=\\mathcal{N}(y;\\mu,{\\sigma})$$\n",
    "$$\\mu=w*x$$\n",
    "$$\\sigma =I$$\n",
    "$$P(y|x)=\\frac{1}{\\sigma\\sqrt{2\\pi}}e^{\\frac{-(Y-W^{T}X)^2}{2{\\sigma}^2}}$$\n",
    "minimize negative log likelihood"
   ]
  },
  {
   "cell_type": "code",
   "execution_count": 164,
   "id": "16b9fdd9",
   "metadata": {},
   "outputs": [
    {
     "name": "stdout",
     "output_type": "stream",
     "text": [
      "[[ 100.           20.        ]\n",
      " [ 200.           26.66666667]\n",
      " [ 300.           33.33333333]\n",
      " [ 400.           40.        ]\n",
      " [ 500.           46.66666667]\n",
      " [ 600.           53.33333333]\n",
      " [ 700.           60.        ]\n",
      " [ 800.           66.66666667]\n",
      " [ 900.           73.33333333]\n",
      " [1000.           80.        ]]\n",
      "[ 880.         1706.66666667 2533.33333333 3360.         4186.66666667\n",
      " 5013.33333333 5840.         6666.66666667 7493.33333333 8320.        ]\n"
     ]
    },
    {
     "data": {
      "text/plain": [
       "array([8., 4.])"
      ]
     },
     "execution_count": 164,
     "metadata": {},
     "output_type": "execute_result"
    }
   ],
   "source": [
    "import numpy as np\n",
    "import matplotlib.pyplot as plt\n",
    "\n",
    "\n",
    "# a dataset with \"n=3\" features and 100 examples\n",
    "x=np.linspace((100,20),(1000,80),10)\n",
    "print(x)\n",
    "weight=np.array([8,4])\n",
    "\n",
    "#creating target values with N(W.X,std_dev)\n",
    "std_dev=0\n",
    "mu=np.matmul(x,weight)\n",
    "y=np.random.normal(mu,std_dev)\n",
    "\n",
    "\n",
    "print(y)\n",
    "\n",
    "# mean=np.dot(x,params)\n",
    "# var=123\n",
    "# np.random.seed(42)\n",
    "# y=np.random.normal(mean,var)\n",
    "x_t=x.transpose()\n",
    "y_t=y.transpose()\n",
    "a=np.linalg.inv(np.matmul(x_t,x))\n",
    "b=np.matmul(x_t,y)\n",
    "params=np.matmul(a,b)\n",
    "\n",
    "\n",
    "        \n",
    "\n",
    "\n",
    "\n",
    "params"
   ]
  },
  {
   "cell_type": "code",
   "execution_count": 142,
   "id": "bfeb61b7",
   "metadata": {},
   "outputs": [
    {
     "ename": "ValueError",
     "evalue": "shapes (100,4) and (100,) not aligned: 4 (dim 1) != 100 (dim 0)",
     "output_type": "error",
     "traceback": [
      "\u001b[0;31m---------------------------------------------------------------------------\u001b[0m",
      "\u001b[0;31mValueError\u001b[0m                                Traceback (most recent call last)",
      "Cell \u001b[0;32mIn[142], line 1\u001b[0m\n\u001b[0;32m----> 1\u001b[0m params\u001b[38;5;241m=\u001b[39m(\u001b[43mnp\u001b[49m\u001b[38;5;241;43m.\u001b[39;49m\u001b[43mdot\u001b[49m\u001b[43m(\u001b[49m\u001b[43mx\u001b[49m\u001b[43m,\u001b[49m\u001b[43my\u001b[49m\u001b[43m)\u001b[49m)\u001b[38;5;241m/\u001b[39mnp\u001b[38;5;241m.\u001b[39mdot(x,x)\n\u001b[1;32m      3\u001b[0m params\n\u001b[1;32m      5\u001b[0m \u001b[38;5;66;03m#minimizing negative log likelihood\u001b[39;00m\n\u001b[1;32m      6\u001b[0m \n\u001b[1;32m      7\u001b[0m \u001b[38;5;66;03m# class linearRegression(x,y,params):\u001b[39;00m\n\u001b[1;32m      8\u001b[0m    \n\u001b[1;32m      9\u001b[0m     \n\u001b[1;32m     10\u001b[0m \u001b[38;5;66;03m#     def _init_:\u001b[39;00m\n",
      "File \u001b[0;32m<__array_function__ internals>:180\u001b[0m, in \u001b[0;36mdot\u001b[0;34m(*args, **kwargs)\u001b[0m\n",
      "\u001b[0;31mValueError\u001b[0m: shapes (100,4) and (100,) not aligned: 4 (dim 1) != 100 (dim 0)"
     ]
    }
   ],
   "source": [
    "\n",
    "params=(np.dot(x,y))/np.dot(x,x)\n",
    "\n",
    "params\n",
    "\n",
    "#minimizing negative log likelihood\n",
    "\n",
    "# class linearRegression(x,y,params):\n",
    "   \n",
    "    \n",
    "#     def _init_:\n",
    "\n",
    "\n",
    "def Covariance(x,y):\n",
    "    mean_x=np.mean(x)\n",
    "    mean_y=np.mean(y)\n",
    "    covar=0.0\n",
    "    \n",
    "    for i in range(len(x)):\n",
    "        covar+=(x-mean_x)(y-mean_y)\n",
    "        \n",
    "    return (covar/len(x))\n",
    "       \n",
    "        "
   ]
  },
  {
   "cell_type": "code",
   "execution_count": null,
   "id": "9a482bfc",
   "metadata": {},
   "outputs": [],
   "source": []
  }
 ],
 "metadata": {
  "kernelspec": {
   "display_name": "Python 3 (ipykernel)",
   "language": "python",
   "name": "python3"
  },
  "language_info": {
   "codemirror_mode": {
    "name": "ipython",
    "version": 3
   },
   "file_extension": ".py",
   "mimetype": "text/x-python",
   "name": "python",
   "nbconvert_exporter": "python",
   "pygments_lexer": "ipython3",
   "version": "3.10.9"
  }
 },
 "nbformat": 4,
 "nbformat_minor": 5
}
