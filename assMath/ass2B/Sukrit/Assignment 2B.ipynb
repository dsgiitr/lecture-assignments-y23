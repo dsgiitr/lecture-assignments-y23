{
 "cells": [
  {
   "cell_type": "code",
   "execution_count": 1,
   "id": "bc7010b0",
   "metadata": {},
   "outputs": [],
   "source": [
    "import numpy as np\n",
    "import pandas as pd\n",
    "import matplotlib.pyplot as plt\n",
    "import seaborn as sns"
   ]
  },
  {
   "cell_type": "markdown",
   "id": "f3814bcc",
   "metadata": {},
   "source": [
    "# Question 1"
   ]
  },
  {
   "cell_type": "markdown",
   "id": "3420827b",
   "metadata": {},
   "source": [
    "## Part A"
   ]
  },
  {
   "cell_type": "code",
   "execution_count": 2,
   "id": "43a428e5",
   "metadata": {},
   "outputs": [
    {
     "data": {
      "text/latex": [
       "\\begin{equation}\n",
       "\\text{The mean of the likelihood probability gives the best point estimate for the target variable given the explanatory variables}\n",
       "\\end{equation}\n",
       "\\begin{equation}\n",
       "\\text{and parameters. This is particularly useful for imputation and prediction, particularly in the absence of any prior}\n",
       "\\end{equation}\n",
       "\\begin{equation}\n",
       "\\text{on the distribution, since the mean gives a consistent, unbiased and efficient estimator consistent, unbiased and efficient}\n",
       "\\end{equation}\n",
       "\\begin{equation}\n",
       "\\text{estimator for any distribution. Further, it gives the lowest expectation value of MSE as follows,}\n",
       "\\end{equation}\n",
       "\\begin{align}\n",
       "\\operatorname{\\mathbb{E}} \\,\\left( \\left(Y - k\\right)^2 \\right)  & = \\operatorname{\\mathbb{E}} \\,\\left( \\left(\\left(Y - \\mu_Y\\right) + \\left(\\mu_Y - k\\right)\\right)^2 \\right) \\\\\n",
       " & = \\operatorname{\\mathbb{E}} \\,\\left( \\left(Y - \\mu_Y\\right)^2 + 2\\left(Y - \\mu_Y\\right)\\left(\\mu_Y - k\\right) + \\left(\\mu_Y - k\\right)^2 \\right) \\\\\n",
       " & = \\sigma_Y^2 + \\left(\\mu_Y - k\\right)^2\n",
       "\\end{align}\n",
       "\\begin{align}\n",
       "\\operatorname{\\mathbb{E}}_{\\min} \\,\\left( \\left(Y - k\\right)^2 \\right)  & = \\sigma_Y^2 \\Leftrightarrow k = \\mu_Y\n",
       "\\end{align}\n"
      ],
      "text/plain": [
       "<IPython.core.display.Latex object>"
      ]
     },
     "metadata": {},
     "output_type": "display_data"
    }
   ],
   "source": [
    "%%latex\n",
    "\\begin{equation}\n",
    "\\text{The mean of the likelihood probability gives the best point estimate for the target variable given the explanatory variables}\n",
    "\\end{equation}\n",
    "\\begin{equation}\n",
    "\\text{and parameters. This is particularly useful for imputation and prediction, particularly in the absence of any prior}\n",
    "\\end{equation}\n",
    "\\begin{equation}\n",
    "\\text{on the distribution, since the mean gives a consistent, unbiased and efficient estimator consistent, unbiased and efficient}\n",
    "\\end{equation}\n",
    "\\begin{equation}\n",
    "\\text{estimator for any distribution. Further, it gives the lowest expectation value of MSE as follows,}\n",
    "\\end{equation}\n",
    "\\begin{align}\n",
    "\\operatorname{\\mathbb{E}} \\,\\left( \\left(Y - k\\right)^2 \\right)  & = \\operatorname{\\mathbb{E}} \\,\\left( \\left(\\left(Y - \\mu_Y\\right) + \\left(\\mu_Y - k\\right)\\right)^2 \\right) \\\\\n",
    " & = \\operatorname{\\mathbb{E}} \\,\\left( \\left(Y - \\mu_Y\\right)^2 + 2\\left(Y - \\mu_Y\\right)\\left(\\mu_Y - k\\right) + \\left(\\mu_Y - k\\right)^2 \\right) \\\\\n",
    " & = \\sigma_Y^2 + \\left(\\mu_Y - k\\right)^2\n",
    "\\end{align}\n",
    "\\begin{align}\n",
    "\\operatorname{\\mathbb{E}}_{\\min} \\,\\left( \\left(Y - k\\right)^2 \\right)  & = \\sigma_Y^2 \\Leftrightarrow k = \\mu_Y\n",
    "\\end{align}"
   ]
  },
  {
   "cell_type": "markdown",
   "id": "3062a870",
   "metadata": {},
   "source": [
    "## Part B"
   ]
  },
  {
   "cell_type": "code",
   "execution_count": 3,
   "id": "abf86bdc",
   "metadata": {},
   "outputs": [
    {
     "data": {
      "text/latex": [
       "\\begin{equation}\n",
       "\\text{The choice of σ, i.e. the variance parameter, is important as it indicates the error in the model, as it relates to the Gaussian noise}\n",
       "\\end{equation}\n",
       "\\begin{equation}\n",
       "\\text{in the data. Here, we consider that X has an extra row with an entry of value one to factor the intercept.}\n",
       "\\end{equation}\n",
       "\\begin{equation}\n",
       "\\text{It also affects the convergence of the model using gradient descent / ascent algorithms.}\n",
       "\\end{equation}\n",
       "\\begin{equation}\n",
       "\\begin{matrix} Y \\sim \\operatorname{\\mathscr{N}}\\left(\\mu, \\sigma^2\\right), & \\mu = X\\cdot w\\end{matrix}\n",
       "\\end{equation}\n",
       "\\begin{equation}\n",
       "Y - w\\cdot X \\sim \\operatorname{\\mathscr{N}}\\left(0, \\sigma^2 \\right)\n",
       "\\end{equation}\n",
       "\\begin{equation}\n",
       "\\text{From here, calculating the likelihood,}\n",
       "\\end{equation}\n",
       "\\begin{equation}\n",
       "\\operatorname{\\mathscr{L}} \\,\\left( Y \\mid X, w\\right) = \\prod_{i=1}^n \\frac{e^{-\\frac{(y_i - x_i \\cdot w)^2}{2\\sigma^2}}}{\\sqrt{2\\pi\\sigma^2}}\n",
       "\\end{equation}\n",
       "\\begin{equation}\n",
       "\\text{From here, the log-likelihood is given as,}\n",
       "\\end{equation}\n",
       "\\begin{equation}\n",
       "\\operatorname{\\mathscr{l}} =  -\\frac{\\sum^n_{i=1}\\left(y_i - x_i \\cdot w\\right)^2}{2\\sigma^2}- \\frac{n}{2} \\ln\\left(2\\pi\\sigma^2\\right)\n",
       "\\end{equation}\n",
       "\\begin{equation}\n",
       "\\text{This can then be maximised using gradient ascent. Its gradient relative to w is,}\n",
       "\\end{equation}\n",
       "\\begin{equation}\n",
       "\\nabla \\operatorname{\\mathscr{l}} =\\cdot\\frac{\\sum^n_{i=1}  x_i^T\\left(y_i - x_i \\cdot w\\right)}{\\sigma^2}\n",
       "\\end{equation}\n"
      ],
      "text/plain": [
       "<IPython.core.display.Latex object>"
      ]
     },
     "metadata": {},
     "output_type": "display_data"
    }
   ],
   "source": [
    "%%latex\n",
    "\\begin{equation}\n",
    "\\text{The choice of σ, i.e. the variance parameter, is important as it indicates the error in the model, as it relates to the Gaussian noise}\n",
    "\\end{equation}\n",
    "\\begin{equation}\n",
    "\\text{in the data. Here, we consider that X has an extra row with an entry of value one to factor the intercept.}\n",
    "\\end{equation}\n",
    "\\begin{equation}\n",
    "\\text{It also affects the convergence of the model using gradient descent / ascent algorithms.}\n",
    "\\end{equation}\n",
    "\\begin{equation}\n",
    "\\begin{matrix} Y \\sim \\operatorname{\\mathscr{N}}\\left(\\mu, \\sigma^2\\right), & \\mu = X\\cdot w\\end{matrix}\n",
    "\\end{equation}\n",
    "\\begin{equation}\n",
    "Y - w\\cdot X \\sim \\operatorname{\\mathscr{N}}\\left(0, \\sigma^2 \\right)\n",
    "\\end{equation}\n",
    "\\begin{equation}\n",
    "\\text{From here, calculating the likelihood,}\n",
    "\\end{equation}\n",
    "\\begin{equation}\n",
    "\\operatorname{\\mathscr{L}} \\,\\left( Y \\mid X, w\\right) = \\prod_{i=1}^n \\frac{e^{-\\frac{(y_i - x_i \\cdot w)^2}{2\\sigma^2}}}{\\sqrt{2\\pi\\sigma^2}}\n",
    "\\end{equation}\n",
    "\\begin{equation}\n",
    "\\text{From here, the log-likelihood is given as,}\n",
    "\\end{equation}\n",
    "\\begin{equation}\n",
    "\\operatorname{\\mathscr{l}} =  -\\frac{\\sum^n_{i=1}\\left(y_i - x_i \\cdot w\\right)^2}{2\\sigma^2}- \\frac{n}{2} \\ln\\left(2\\pi\\sigma^2\\right)\n",
    "\\end{equation}\n",
    "\\begin{equation}\n",
    "\\text{This can then be maximised using gradient ascent. Its gradient relative to w is,}\n",
    "\\end{equation}\n",
    "\\begin{equation}\n",
    "\\nabla \\operatorname{\\mathscr{l}} =\\cdot\\frac{\\sum^n_{i=1}  x_i^T\\left(y_i - x_i \\cdot w\\right)}{\\sigma^2}\n",
    "\\end{equation}"
   ]
  },
  {
   "cell_type": "code",
   "execution_count": 4,
   "id": "986dc5dd",
   "metadata": {},
   "outputs": [
    {
     "name": "stdout",
     "output_type": "stream",
     "text": [
      "<class 'pandas.core.frame.DataFrame'>\n",
      "RangeIndex: 96453 entries, 0 to 96452\n",
      "Data columns (total 8 columns):\n",
      " #   Column                    Non-Null Count  Dtype  \n",
      "---  ------                    --------------  -----  \n",
      " 0   Temperature (C)           96453 non-null  float64\n",
      " 1   Apparent Temperature (C)  96453 non-null  float64\n",
      " 2   Humidity                  96453 non-null  float64\n",
      " 3   Wind Speed (km/h)         96453 non-null  float64\n",
      " 4   Wind Bearing (degrees)    96453 non-null  float64\n",
      " 5   Visibility (km)           96453 non-null  float64\n",
      " 6   Loud Cover                96453 non-null  float64\n",
      " 7   Pressure (millibars)      96453 non-null  float64\n",
      "dtypes: float64(8)\n",
      "memory usage: 5.9 MB\n"
     ]
    }
   ],
   "source": [
    "train = pd.read_csv('Datasets/Weather History (Linear Regression).csv')\n",
    "for col in train.columns :\n",
    "    if col == 'Formatted Date' or col == 'Summary' or col == 'Precip Type' or col ==  'Daily Summary':\n",
    "        train.drop(col, axis = 1, inplace = True)\n",
    "train.info()"
   ]
  },
  {
   "cell_type": "code",
   "execution_count": 5,
   "id": "cad4c7ba",
   "metadata": {},
   "outputs": [],
   "source": [
    "X = train.copy(deep = True)\n",
    "Y = train.copy(deep = True)\n",
    "for col in train.columns :\n",
    "    if col == 'Apparent Temperature (C)' :\n",
    "        X.drop(col, axis = 1, inplace = True)\n",
    "    else :\n",
    "        Y.drop(col, axis = 1, inplace = True)\n",
    "X.drop('Loud Cover', axis = 1, inplace = True)\n",
    "\n",
    "mu = np.zeros((X.shape[1] + 1,1))\n",
    "std = 1\n",
    "alpha = 0.001\n",
    "iterations = 100000\n",
    "\n",
    "def linear_regression(X, Y, mu, sigma, iterations, alpha) :\n",
    "    mean_x = np.empty(X.shape[1])\n",
    "    std_x = np.empty(X.shape[1])\n",
    "    i = 0\n",
    "    j = 0\n",
    "    for col in X.columns:\n",
    "        mean_x[i]=np.mean(X[col])\n",
    "        std_x[i] = np.std(X[col])\n",
    "        i+=1\n",
    "    for col in X.columns:\n",
    "        col_del = X[col]\n",
    "        col_del = (col_del - mean_x[j])/std_x[j]\n",
    "        X[col] = col_del\n",
    "        j+=1\n",
    "    mean_y = np.empty(Y.shape[1])\n",
    "    std_y = np.empty(Y.shape[1])\n",
    "    i = 0\n",
    "    j = 0\n",
    "    for col in Y.columns:\n",
    "        mean_y[i]=np.mean(Y[col])\n",
    "        std_y[i] = np.std(Y[col])\n",
    "        i+=1\n",
    "    for col in Y.columns:\n",
    "        col_del = Y[col]\n",
    "        col_del = (col_del - mean_y[j])/std_y[j]\n",
    "        Y[col] = col_del\n",
    "        j+=1\n",
    "    n = len(X)\n",
    "    ones = np.ones(len(X))\n",
    "    X['ones'] = ones\n",
    "    Xt = X.to_numpy()\n",
    "    Yt = Y.to_numpy()    \n",
    "    w = mu\n",
    "    for i in range(iterations) :\n",
    "        w = w + alpha/n * (Xt.T @ (Yt - Xt@w))/sigma**2\n",
    "    X.drop('ones', axis = 1, inplace = True)\n",
    "    i = 0\n",
    "    for cy in Y.columns :\n",
    "        intercept_residual = mean_y[i]\n",
    "        j = 0\n",
    "        for cx in X.columns:\n",
    "            if j == X.shape[1] :\n",
    "                j += 1\n",
    "                continue\n",
    "            else :\n",
    "                w[j][i]=w[j][i]*std_y[i]/std_x[j]\n",
    "                intercept_residual += -mean_x[j]*w[j][i]\n",
    "                j += 1\n",
    "        w[X.shape[1]][i] *= std_y[i]\n",
    "        w[X.shape[1]][i] += intercept_residual\n",
    "        i += 1         \n",
    "    return w"
   ]
  },
  {
   "cell_type": "code",
   "execution_count": 6,
   "id": "1ed66d84",
   "metadata": {},
   "outputs": [
    {
     "name": "stdout",
     "output_type": "stream",
     "text": [
      "The optimal parameters are :\n",
      "[[ 1.12559725e+00]\n",
      " [ 1.03177793e+00]\n",
      " [-9.56567814e-02]\n",
      " [ 5.31492999e-04]\n",
      " [-8.15209127e-04]\n",
      " [ 2.00142626e-04]\n",
      " [-2.59251751e+00]]\n"
     ]
    }
   ],
   "source": [
    "params = linear_regression(X, Y, mu, std, iterations, alpha)\n",
    "print('The optimal parameters are :')\n",
    "print(params)"
   ]
  },
  {
   "cell_type": "markdown",
   "id": "83dafefa",
   "metadata": {},
   "source": [
    "## Part C"
   ]
  },
  {
   "cell_type": "code",
   "execution_count": 7,
   "id": "6ae03d5c",
   "metadata": {},
   "outputs": [
    {
     "data": {
      "text/latex": [
       "\\begin{equation}\n",
       "\\text{Similar to the previous linear regression, a generalised linear model assumes that Y depends on some function of X·w with}\n",
       "\\end{equation}\n",
       "\\begin{equation}\n",
       "\\text{some specified distribution from the exponential family (which includes many common distributions), a link function and}\n",
       "\\end{equation}\n",
       "\\begin{equation}\n",
       "\\text{a predictor. The weights themselves are determined by maximising the likehood (MLE estimation) or using a Bayesian prior}\n",
       "\\end{equation}\n",
       "\\begin{equation}\n",
       "\\text{(MAP estimation). One can develop a canonical GLM for a Poisson distribution as follows,}\n",
       "\\end{equation}\n",
       "\\begin{equation}\n",
       "\\begin{matrix} Y \\sim \\operatorname{Poisson}\\left(\\lambda\\right), & \\lambda = e^{X\\cdot \\beta}\\end{matrix}\n",
       "\\end{equation}\n",
       "\\begin{equation}\n",
       "\\text{From here, calculating the likelihood,}\n",
       "\\end{equation}\n",
       "\\begin{equation}\n",
       "\\operatorname{\\mathscr{L}} \\,\\left( Y \\mid X, \\beta\\right) = \\prod_{i=1}^n e^{-e^{x_i\\cdot\\beta}} \\cdot\\frac{e^{y_ix_i\\cdot\\beta}}{y_i!}\n",
       "\\end{equation}\n",
       "\\begin{equation}\n",
       "\\text{From here, the log-likelihood is given as,}\n",
       "\\end{equation}\n",
       "\\begin{equation}\n",
       "\\operatorname{\\mathscr{l}} =  \\sum^n_{i=1}\\left(y_ix_i\\cdot\\beta - e^{x_i\\cdot\\beta} - \\ln\\left(y! \\right)\\right)\n",
       "\\end{equation}\n",
       "\\begin{equation}\n",
       "\\text{This can then be maximised using gradient ascent. Its gradient relative to β is,}\n",
       "\\end{equation}\n",
       "\\begin{equation}\n",
       "\\nabla \\operatorname{\\mathscr{l}} = \\sum^n_{i = 1}x_i^T(y_i -  e^{x_i\\cdot\\beta})\n",
       "\\end{equation}\n"
      ],
      "text/plain": [
       "<IPython.core.display.Latex object>"
      ]
     },
     "metadata": {},
     "output_type": "display_data"
    }
   ],
   "source": [
    "%%latex\n",
    "\\begin{equation}\n",
    "\\text{Similar to the previous linear regression, a generalised linear model assumes that Y depends on some function of X·w with}\n",
    "\\end{equation}\n",
    "\\begin{equation}\n",
    "\\text{some specified distribution from the exponential family (which includes many common distributions), a link function and}\n",
    "\\end{equation}\n",
    "\\begin{equation}\n",
    "\\text{a predictor. The weights themselves are determined by maximising the likehood (MLE estimation) or using a Bayesian prior}\n",
    "\\end{equation}\n",
    "\\begin{equation}\n",
    "\\text{(MAP estimation). One can develop a canonical GLM for a Poisson distribution as follows,}\n",
    "\\end{equation}\n",
    "\\begin{equation}\n",
    "\\begin{matrix} Y \\sim \\operatorname{Poisson}\\left(\\lambda\\right), & \\lambda = e^{X\\cdot \\beta}\\end{matrix}\n",
    "\\end{equation}\n",
    "\\begin{equation}\n",
    "\\text{From here, calculating the likelihood,}\n",
    "\\end{equation}\n",
    "\\begin{equation}\n",
    "\\operatorname{\\mathscr{L}} \\,\\left( Y \\mid X, \\beta\\right) = \\prod_{i=1}^n e^{-e^{x_i\\cdot\\beta}} \\cdot\\frac{e^{y_ix_i\\cdot\\beta}}{y_i!}\n",
    "\\end{equation}\n",
    "\\begin{equation}\n",
    "\\text{From here, the log-likelihood is given as,}\n",
    "\\end{equation}\n",
    "\\begin{equation}\n",
    "\\operatorname{\\mathscr{l}} =  \\sum^n_{i=1}\\left(y_ix_i\\cdot\\beta - e^{x_i\\cdot\\beta} - \\ln\\left(y! \\right)\\right)\n",
    "\\end{equation}\n",
    "\\begin{equation}\n",
    "\\text{This can then be maximised using gradient ascent. Its gradient relative to β is,}\n",
    "\\end{equation}\n",
    "\\begin{equation}\n",
    "\\nabla \\operatorname{\\mathscr{l}} = \\sum^n_{i = 1}x_i^T(y_i -  e^{x_i\\cdot\\beta})\n",
    "\\end{equation}"
   ]
  },
  {
   "cell_type": "code",
   "execution_count": 8,
   "id": "6265caf0",
   "metadata": {},
   "outputs": [
    {
     "name": "stdout",
     "output_type": "stream",
     "text": [
      "<class 'pandas.core.frame.DataFrame'>\n",
      "RangeIndex: 210 entries, 0 to 209\n",
      "Data columns (total 8 columns):\n",
      " #   Column               Non-Null Count  Dtype  \n",
      "---  ------               --------------  -----  \n",
      " 0   High Temp (°F)       210 non-null    float64\n",
      " 1   Low Temp (°F)        210 non-null    float64\n",
      " 2   Precipitation        210 non-null    object \n",
      " 3   Brooklyn Bridge      210 non-null    float64\n",
      " 4   Manhattan Bridge     210 non-null    int64  \n",
      " 5   Williamsburg Bridge  210 non-null    float64\n",
      " 6   Queensboro Bridge    210 non-null    float64\n",
      " 7   Total                210 non-null    int64  \n",
      "dtypes: float64(5), int64(2), object(1)\n",
      "memory usage: 13.2+ KB\n"
     ]
    }
   ],
   "source": [
    "train = pd.read_csv('Datasets/NYC Bicycle Counts (Poisson Regression).csv')\n",
    "for col in train.columns :\n",
    "    if col == 'Date' or col == 'Day' or col == 'Unnamed: 0' or col ==  'Daily Summary':\n",
    "        train.drop(col, axis = 1, inplace = True)\n",
    "train.info()"
   ]
  },
  {
   "cell_type": "code",
   "execution_count": 9,
   "id": "f0cfcc8b",
   "metadata": {},
   "outputs": [],
   "source": [
    "X = train.copy(deep = True)\n",
    "Y = train.copy(deep = True)\n",
    "for col in train.columns :\n",
    "    if col == 'High Temp (°F)' or col == 'Low Temp (°F)' or  col == 'Precipitation':\n",
    "        Y.drop(col, axis = 1, inplace = True)\n",
    "    else :\n",
    "        X.drop(col, axis = 1, inplace = True)\n",
    "X['Precipitation'] = X['Precipitation'].map(lambda x : x.rstrip(' (S)')).replace('T', '0').astype(float)\n",
    "\n",
    "alpha = 0.001\n",
    "iterations = 100000\n",
    "\n",
    "def poisson_regression(X, Y, iterations, alpha) :\n",
    "    mu = np.zeros((X.shape[1],1))\n",
    "    mean_x = np.empty(X.shape[1])\n",
    "    std_x = np.empty(X.shape[1])\n",
    "    i = 0\n",
    "    j = 0\n",
    "    for col in X.columns:\n",
    "        mean_x[i]=np.mean(X[col])\n",
    "        std_x[i] = np.std(X[col])\n",
    "        i+=1\n",
    "    for col in X.columns:\n",
    "        col_del = X[col]\n",
    "        col_del = (col_del - mean_x[j])/std_x[j]\n",
    "        X[col] = col_del\n",
    "        j+=1\n",
    "    scale_y = np.empty(Y.shape[1])\n",
    "    i = 0\n",
    "    j = 0\n",
    "    for col in Y.columns:\n",
    "        scale_y[i] = np.std(Y[col])\n",
    "        i += 1\n",
    "    for col in Y.columns:\n",
    "        col_del = Y[col]\n",
    "        col_del = col_del/scale_y[j]\n",
    "        Y[col] = col_del\n",
    "        j+=1\n",
    "    n = len(X)\n",
    "    mu = np.zeros((X.shape[1] + 1,Y.shape[1]))\n",
    "    ones = np.ones(n)\n",
    "    X['ones'] = ones\n",
    "    Xt = X.to_numpy()\n",
    "    Yt = Y.to_numpy()\n",
    "    w = mu\n",
    "    for i in range(iterations) :\n",
    "        w = w + alpha/n * (Xt.T @ (Yt - np.exp(Xt@w)))\n",
    "    X.drop('ones', axis = 1, inplace = True)\n",
    "    i = 0\n",
    "    for cy in Y.columns :\n",
    "        intercept_residual = np.log(scale_y[i])\n",
    "        j = 0\n",
    "        for cx in X.columns:\n",
    "            if j == X.shape[1] :\n",
    "                j += 1\n",
    "                continue\n",
    "            else :\n",
    "                w[j][i] = w[j][i]/std_x[j]\n",
    "                intercept_residual += -mean_x[j]*w[j][i]\n",
    "                j += 1\n",
    "        w[X.shape[1]][i] += intercept_residual\n",
    "        i += 1\n",
    "    return w"
   ]
  },
  {
   "cell_type": "code",
   "execution_count": 10,
   "id": "2ebca558",
   "metadata": {},
   "outputs": [
    {
     "name": "stdout",
     "output_type": "stream",
     "text": [
      "The optimal parameters are as follows :\n",
      "[ 0.02877946 -0.00804597 -2.7674503   6.41582874]\n",
      "[ 2.61190563e-02 -6.10145507e-03 -2.60865181e+00  7.06707605e+00]\n",
      "[ 2.31629049e-02 -2.67671623e-03 -2.01861648e+00  7.25643640e+00]\n",
      "[ 2.09896116e-02 -5.30222912e-03 -1.77808542e+00  7.14141535e+00]\n",
      "[ 2.44262506e-02 -5.15370672e-03 -2.21842839e+00  8.39636597e+00]\n"
     ]
    }
   ],
   "source": [
    "params = poisson_regression(X, Y, iterations, alpha)\n",
    "print('The optimal parameters are as follows :')\n",
    "print(params[:,0])\n",
    "print(params[:,1])\n",
    "print(params[:,2])\n",
    "print(params[:,3])\n",
    "print(params[:,4])"
   ]
  },
  {
   "cell_type": "markdown",
   "id": "d01632e3",
   "metadata": {},
   "source": [
    "# Question 2"
   ]
  },
  {
   "cell_type": "code",
   "execution_count": 11,
   "id": "d8e013aa",
   "metadata": {
    "scrolled": true
   },
   "outputs": [
    {
     "name": "stdout",
     "output_type": "stream",
     "text": [
      "<class 'pandas.core.frame.DataFrame'>\n",
      "RangeIndex: 100000 entries, 0 to 99999\n",
      "Data columns (total 2 columns):\n",
      " #   Column  Non-Null Count   Dtype  \n",
      "---  ------  --------------   -----  \n",
      " 0   x       100000 non-null  float64\n",
      " 1   y       100000 non-null  float64\n",
      "dtypes: float64(2)\n",
      "memory usage: 1.5 MB\n",
      "<class 'pandas.core.frame.DataFrame'>\n",
      "RangeIndex: 100000 entries, 0 to 99999\n",
      "Data columns (total 2 columns):\n",
      " #   Column  Non-Null Count   Dtype  \n",
      "---  ------  --------------   -----  \n",
      " 0   x       100000 non-null  float64\n",
      " 1   y       100000 non-null  float64\n",
      "dtypes: float64(2)\n",
      "memory usage: 1.5 MB\n",
      "<class 'pandas.core.frame.DataFrame'>\n",
      "RangeIndex: 100000 entries, 0 to 99999\n",
      "Data columns (total 2 columns):\n",
      " #   Column  Non-Null Count   Dtype  \n",
      "---  ------  --------------   -----  \n",
      " 0   x       100000 non-null  float64\n",
      " 1   y       100000 non-null  float64\n",
      "dtypes: float64(2)\n",
      "memory usage: 1.5 MB\n",
      "<class 'pandas.core.frame.DataFrame'>\n",
      "RangeIndex: 1000 entries, 0 to 999\n",
      "Data columns (total 2 columns):\n",
      " #   Column  Non-Null Count  Dtype  \n",
      "---  ------  --------------  -----  \n",
      " 0   x       1000 non-null   float64\n",
      " 1   y       1000 non-null   float64\n",
      "dtypes: float64(2)\n",
      "memory usage: 15.8 KB\n",
      "<class 'pandas.core.frame.DataFrame'>\n",
      "RangeIndex: 1000 entries, 0 to 999\n",
      "Data columns (total 2 columns):\n",
      " #   Column  Non-Null Count  Dtype  \n",
      "---  ------  --------------  -----  \n",
      " 0   x       1000 non-null   float64\n",
      " 1   y       1000 non-null   float64\n",
      "dtypes: float64(2)\n",
      "memory usage: 15.8 KB\n",
      "<class 'pandas.core.frame.DataFrame'>\n",
      "RangeIndex: 1000 entries, 0 to 999\n",
      "Data columns (total 2 columns):\n",
      " #   Column  Non-Null Count  Dtype  \n",
      "---  ------  --------------  -----  \n",
      " 0   x       1000 non-null   float64\n",
      " 1   y       1000 non-null   float64\n",
      "dtypes: float64(2)\n",
      "memory usage: 15.8 KB\n"
     ]
    }
   ],
   "source": [
    "train_A = pd.read_csv('Datasets/train_set_A.csv')\n",
    "train_B = pd.read_csv('Datasets/train_set_B.csv')\n",
    "train_C = pd.read_csv('Datasets/train_set_C.csv')\n",
    "test_A = pd.read_csv('Datasets/test_set_A.csv')\n",
    "test_B = pd.read_csv('Datasets/test_set_B.csv')\n",
    "test_C = pd.read_csv('Datasets/test_set_C.csv')\n",
    "train_A.info()\n",
    "train_B.info()\n",
    "train_C.info()\n",
    "test_A.info()\n",
    "test_B.info()\n",
    "test_C.info()"
   ]
  },
  {
   "cell_type": "code",
   "execution_count": 12,
   "id": "b95808b4",
   "metadata": {},
   "outputs": [
    {
     "data": {
      "text/plain": [
       "array([[546.88915615],\n",
       "       [797.89902128],\n",
       "       [820.4018799 ],\n",
       "       ...,\n",
       "       [125.77389304],\n",
       "       [436.97434321],\n",
       "       [323.18838266]])"
      ]
     },
     "metadata": {},
     "output_type": "display_data"
    }
   ],
   "source": [
    "from sklearn.linear_model import LinearRegression as linreg\n",
    "linregA = linreg().fit(train_A['x'].values.reshape(-1,1), train_A['y'])\n",
    "linregB = linreg().fit(train_B['x'].values.reshape(-1,1), train_B['y'])\n",
    "linregC = linreg().fit(train_C['x'].values.reshape(-1,1), train_C['y'])\n",
    "display(train_C['x'].values.reshape(-1,1))"
   ]
  },
  {
   "cell_type": "code",
   "execution_count": 13,
   "id": "8558b817",
   "metadata": {},
   "outputs": [
    {
     "name": "stdout",
     "output_type": "stream",
     "text": [
      "The R2 score and MSE of A as the training dataset is 0.9999825266186544 and 22.25770734371432, respectively, with A as the testing dataset\n",
      "The R2 score and MSE of A as the training dataset is 0.9999979889763616 and 2.5616550522774424, respectively, with B as the testing dataset\n",
      "The R2 score and MSE of A as the training dataset is 0.9999999509680355 and 0.062457236803281115, respectively, with C as the testing dataset\n",
      "The R2 score and MSE of B as the training dataset is 0.9999743036053634 and 32.73219379378818, respectively, with A as the testing dataset\n",
      "The R2 score and MSE of B as the training dataset is 1.0 and 1.9577195262268569e-25, respectively, with B as the testing dataset\n",
      "The R2 score and MSE of B as the training dataset is 0.999997947816513 and 2.6140814129669656, respectively, with C as the testing dataset\n",
      "The R2 score and MSE of C as the training dataset is 0.9999873162659758 and 16.156746682235898, respectively, with A as the testing dataset\n",
      "The R2 score and MSE of C as the training dataset is 0.9999876165832545 and 15.774197648433699, respectively, with B as the testing dataset\n",
      "The R2 score and MSE of C as the training dataset is 0.9999955254183476 and 5.699794881411264, respectively, with C as the testing dataset\n"
     ]
    }
   ],
   "source": [
    "from sklearn.metrics import mean_squared_error as mse\n",
    "from sklearn.metrics import r2_score as rs\n",
    "y_AA_pred = linregA.predict(test_A['x'].values.reshape(-1,1))\n",
    "print('The R2 score and MSE of A as the training dataset is ' + str(rs(y_AA_pred, test_A['y'])) + ' and ' + str(mse(y_AA_pred, test_A['y']))+  ', respectively, with A as the testing dataset')\n",
    "y_AB_pred = linregA.predict(test_B['x'].values.reshape(-1,1))\n",
    "print('The R2 score and MSE of A as the training dataset is ' + str(rs(y_AB_pred, test_B['y'])) + ' and ' + str(mse(y_AB_pred, test_B['y']))+  ', respectively, with B as the testing dataset')\n",
    "y_AC_pred = linregA.predict(test_C['x'].values.reshape(-1,1))\n",
    "print('The R2 score and MSE of A as the training dataset is ' + str(rs(y_AC_pred, test_C['y'])) + ' and ' + str(mse(y_AC_pred, test_C['y']))+  ', respectively, with C as the testing dataset')\n",
    "y_BA_pred = linregB.predict(test_A['x'].values.reshape(-1,1))\n",
    "print('The R2 score and MSE of B as the training dataset is ' + str(rs(y_BA_pred, test_A['y'])) + ' and ' + str(mse(y_BA_pred, test_A['y']))+  ', respectively, with A as the testing dataset')\n",
    "y_BB_pred = linregB.predict(test_B['x'].values.reshape(-1,1))\n",
    "print('The R2 score and MSE of B as the training dataset is ' + str(rs(y_BB_pred, test_B['y'])) + ' and ' + str(mse(y_BB_pred, test_B['y']))+  ', respectively, with B as the testing dataset')\n",
    "y_BC_pred = linregB.predict(test_C['x'].values.reshape(-1,1))\n",
    "print('The R2 score and MSE of B as the training dataset is ' + str(rs(y_BC_pred, test_C['y'])) + ' and ' + str(mse(y_BC_pred, test_C['y']))+  ', respectively, with C as the testing dataset')\n",
    "y_CA_pred = linregC.predict(test_A['x'].values.reshape(-1,1))\n",
    "print('The R2 score and MSE of C as the training dataset is ' + str(rs(y_CA_pred, test_A['y'])) + ' and ' + str(mse(y_CA_pred, test_A['y']))+  ', respectively, with A as the testing dataset')\n",
    "y_CB_pred = linregC.predict(test_B['x'].values.reshape(-1,1))\n",
    "print('The R2 score and MSE of C as the training dataset is ' + str(rs(y_CB_pred, test_B['y'])) + ' and ' + str(mse(y_CB_pred, test_B['y']))+  ', respectively, with B as the testing dataset')\n",
    "y_CC_pred = linregC.predict(test_C['x'].values.reshape(-1,1))\n",
    "print('The R2 score and MSE of C as the training dataset is ' + str(rs(y_CC_pred, test_C['y'])) + ' and ' + str(mse(y_CC_pred, test_C['y']))+  ', respectively, with C as the testing dataset')"
   ]
  },
  {
   "cell_type": "code",
   "execution_count": 14,
   "id": "682453b4",
   "metadata": {},
   "outputs": [
    {
     "name": "stdout",
     "output_type": "stream",
     "text": [
      "From here, it can the pair of B as both the training and testing dataset is the actual distribution (R2 score approximately one and very negligible MSE compared to the other values). However, all the test and train test datasets are very close to this actual distribution which can be inferred from their R2 scores being very close to one.\n"
     ]
    },
    {
     "data": {
      "image/png": "[encoded data removed]",
      "text/plain": [
       "<Figure size 640x480 with 1 Axes>"
      ]
     },
     "metadata": {},
     "output_type": "display_data"
    }
   ],
   "source": [
    "print('From here, it can the pair of B as both the training and testing dataset is the actual distribution (R2 score approximately one and very negligible MSE compared to the other values). However, all the test and train test datasets are very close to this actual distribution which can be inferred from their R2 scores being very close to one.')\n",
    "x_axis = ['AA', 'AB', 'AC', 'BA', 'BB', 'BC', 'CA', 'CB', 'CC']\n",
    "y_axis = [mse(y_AA_pred, test_A['y']), mse(y_AB_pred, test_B['y']), mse(y_AC_pred, test_C['y']), mse(y_BA_pred, test_A['y']), mse(y_BB_pred, test_B['y']), mse(y_BC_pred, test_C['y']), mse(y_CA_pred, test_A['y']), mse(y_CB_pred, test_B['y']), mse(y_CC_pred, test_C['y'])]\n",
    "plt.plot(x_axis, y_axis, 'r+', linestyle = 'None')\n",
    "plt.title(\"Mean Squared Error of the Train and Test Pairs\")\n",
    "plt.xlabel(\"Train-Test Pair\")\n",
    "plt.ylabel(\"MSE\")\n",
    "plt.show()"
   ]
  },
  {
   "cell_type": "markdown",
   "id": "d0f4db99",
   "metadata": {},
   "source": [
    "# Question 3"
   ]
  },
  {
   "cell_type": "code",
   "execution_count": 15,
   "id": "6a37eca2",
   "metadata": {},
   "outputs": [],
   "source": [
    "train = pd.read_csv('Datasets/Social Network Ads (Logistic Regression).csv')\n",
    "train.drop('User ID', axis = 1, inplace = True)\n",
    "train.drop('Gender', axis = 1, inplace = True)\n",
    "train.info\n",
    "mean = np.empty(train.shape[1] - 1)\n",
    "std = np.empty(train.shape[1] - 1)\n",
    "i = 0\n",
    "j = 0\n",
    "for col in train.columns:\n",
    "    if col == 'Purchased' :\n",
    "        continue\n",
    "    else :\n",
    "        mean[i]=np.mean(train[col])\n",
    "        std[i] = np.std(train[col])\n",
    "        i+=1\n",
    "for col in train.columns:\n",
    "    if col == 'Purchased' :\n",
    "        continue\n",
    "    else :\n",
    "        col_del = train[col]\n",
    "        col_del = (col_del - mean[j])/std[j]\n",
    "        train[col] = col_del\n",
    "        j+=1"
   ]
  },
  {
   "cell_type": "code",
   "execution_count": 16,
   "id": "f1c628e7",
   "metadata": {},
   "outputs": [],
   "source": [
    "params = np.array([[0], [0], [0]])\n",
    "alphab = 0.001\n",
    "iterationsb = 100000\n",
    "Yb = train.copy(deep = True)\n",
    "Xb = train.copy(deep = True)\n",
    "ones = np.ones(len(train))\n",
    "for col in train.columns :\n",
    "    if col == 'Purchased' :\n",
    "        Xb.drop(col, axis = 1, inplace = True)\n",
    "    else :\n",
    "        Yb.drop(col, axis = 1, inplace = True)\n",
    "Xb['ones'] = ones\n",
    "\n",
    "def sigmoid(x) :\n",
    "    return 1/(1 + np.exp(-x))\n",
    "def cost_fun(X,Y,params) :\n",
    "    n = len(X)\n",
    "    Z = sigmoid(X @ params)\n",
    "    cost = (1/n) * (-(Y).T@np.log(Z)-(1-Y).T@np.log(1 - Z))\n",
    "    return cost\n",
    "def batch_grad_desc(X, Y, params, alpha, iterations) :\n",
    "    n = len(X)\n",
    "    cost = np.zeros(iterations)\n",
    "    for i in range(iterations) :\n",
    "        params = params - alpha/n * (X.T @ (sigmoid(X@params) - Y))\n",
    "        cost[i] = cost_fun(X,Y,params)\n",
    "    return (cost, params)\n",
    "\n",
    "Xf = Xb.copy(deep = True)\n",
    "Yf = Yb.copy(deep = True)\n",
    "iterationsf = 100\n",
    "def Fischer_scoring (X, Y, params, iterations) :\n",
    "    n = len(X)\n",
    "    cost = np.zeros(iterations)\n",
    "    h = sigmoid(X @ params)\n",
    "    P = h @ (np.ones_like(h) - h).T\n",
    "    W = np.matrix(np.diag(P[:, 0]))\n",
    "    I = X.T @ W @ X\n",
    "    U = X.T @ (Y - h)\n",
    "    for i in range(iterations) :\n",
    "        params = params + I.I @ U\n",
    "        h = sigmoid(X @ params)\n",
    "        P = h @ (np.ones_like(h) - h).T\n",
    "        W = np.matrix(np.diag(np.ravel(P[:,0])))\n",
    "        I = X.T @ W @ X\n",
    "        U = X.T @ (Y - h)\n",
    "        cost[i] = cost_fun(X,Y,params)\n",
    "    return (cost, params)\n",
    "\n",
    "Xt = Xb.copy(deep = True)\n",
    "Yt = Yb.copy(deep = True)\n",
    "Xt.drop('ones', axis = 1, inplace = True)\n",
    "from sklearn.linear_model import LogisticRegression\n",
    "LR = LogisticRegression(penalty = 'none')  "
   ]
  },
  {
   "cell_type": "code",
   "execution_count": 17,
   "id": "f43991c4",
   "metadata": {},
   "outputs": [
    {
     "name": "stdout",
     "output_type": "stream",
     "text": [
      "The initial cost is :  0.6931471805599453\n",
      "The optimal parameters through batch gradient descent are [2.378407606179591 1.190412077373626 -1.1125580455623822]\n",
      "The optimal parameters through Fischer scoring are [2.4436974536826996 1.222071507282907 -1.1380460094357805]\n",
      "The optimal parameters as per sklearn are [2.4445793893237693 1.222581754975078 -1.1381223693272149]\n"
     ]
    },
    {
     "data": {
      "image/png": "[encoded data removed]",
      "text/plain": [
       "<Figure size 640x480 with 1 Axes>"
      ]
     },
     "metadata": {},
     "output_type": "display_data"
    },
    {
     "data": {
      "image/png": "[encoded data removed]",
      "text/plain": [
       "<Figure size 640x480 with 1 Axes>"
      ]
     },
     "metadata": {},
     "output_type": "display_data"
    },
    {
     "name": "stdout",
     "output_type": "stream",
     "text": [
      "One can infer that batch gradient descent has a slower convergence than Fischer scoring, since the former took 1000 times more iterations, however, computationally, both have the same time complexity of O(kn^2) where k is the number of iterations and n the number of samples.\n"
     ]
    }
   ],
   "source": [
    "initial_cost = cost_fun(Xb.to_numpy(), Yb.to_numpy(), params)\n",
    "print('The initial cost is : ', float(initial_cost))\n",
    "(costb, paramsb) = batch_grad_desc(Xb.to_numpy(), Yb.to_numpy(), params, alphab, iterationsb)\n",
    "print(\"The optimal parameters through batch gradient descent are [\" + str(float(paramsb[0][0])) + \" \" + str(float(paramsb[1][0])) + \" \" + str(float(paramsb[2][0])) + \"]\")\n",
    "(costf, paramsf) = Fischer_scoring(Xf.to_numpy(), Yf.to_numpy(), params, iterationsf)\n",
    "print(\"The optimal parameters through Fischer scoring are [\" + str(float(paramsf[0][0])) + \" \" + str(float(paramsf[1][0])) + \" \" + str(float(paramsf[2][0])) + \"]\")\n",
    "LR.fit(Xt,Yt.values.ravel())\n",
    "print(\"The optimal parameters as per sklearn are [\" + str(LR.coef_[0][0]) + \" \" + str(LR.coef_[0][1]) + \" \" + str(float(LR.intercept_)) + \"]\")\n",
    "plt.figure()\n",
    "plt.plot(range(len(costb)), costb, 'r')\n",
    "plt.title(\"Convergence of Cost Function for Batch Gradient Descent\")\n",
    "plt.xlabel(\"Number of Iterations\")\n",
    "plt.ylabel(\"Cost\")\n",
    "plt.show()\n",
    "plt.figure()\n",
    "plt.plot(range(len(costf)), costf, 'r')\n",
    "plt.title(\"Convergence of Cost Function for Fischer Scoring\")\n",
    "plt.xlabel(\"Number of Iterations\")\n",
    "plt.ylabel(\"Cost\")\n",
    "plt.show()\n",
    "print(\"One can infer that batch gradient descent has a slower convergence than Fischer scoring, since the former took 1000 times more iterations, however, computationally, both have the same time complexity of O(kn^2) where k is the number of iterations and n the number of samples.\")"
   ]
  },
  {
   "cell_type": "markdown",
   "id": "c9bb8a76",
   "metadata": {},
   "source": [
    "# Question 4"
   ]
  },
  {
   "cell_type": "code",
   "execution_count": 18,
   "id": "6d41e205",
   "metadata": {},
   "outputs": [
    {
     "data": {
      "text/latex": [
       "\\begin{equation}\n",
       "\\text{For the first case, both types of models will converge. Depending on the data, however, the inflexible model may underfit}\n",
       "\\end{equation}\n",
       "\\begin{equation}\n",
       "\\text{while the flexible model may overfit based on the bias-variance tradeoff. It is better suited to use the inflexible models.}\n",
       "\\end{equation}\n",
       "\\begin{equation}\n",
       "\\text{For instance, with a linear trend in the data, if one uses an inflexible model like linear regression, that would capture the}\n",
       "\\end{equation}\n",
       "\\begin{equation}\n",
       "\\text{distribution well, while a flexible model like splines would lead to overfitting}\n",
       "\\end{equation}\n",
       "\\begin{equation}\n",
       "\\end{equation}\n",
       "\\begin{equation}\n",
       "\\text{In the second case, while both models have a lower chance of convergence due to less data (underfitting side,}\n",
       "\\end{equation}\n",
       "\\begin{equation}\n",
       "\\text{in the bias-variance tradeoff), the inflexible model will perform better. Here, the inflexible model could weakly}\n",
       "\\end{equation}\n",
       "\\begin{equation}\n",
       "\\text{capture the trend, while the flexible model would still be trying to converge}\n",
       "\\end{equation}\n",
       "\\begin{equation}\n",
       "\\end{equation}\n",
       "\\begin{equation}\n",
       "\\text{For the last part, it is expected that the flexible model would perform better than the inflexible model, since the flexible model}\n",
       "\\end{equation}\n",
       "\\begin{equation}\n",
       "\\text{will be able to capture more of the non-linear relationship. In terms of the bias-variance tradeoff, it is expected that the inflexible}\n",
       "\\end{equation}\n",
       "\\begin{equation}\n",
       "\\text{model will be underfitting while the other one could give an optimal fit. This can be understood by assuming an exponential relation}\n",
       "\\end{equation}\n",
       "\\begin{equation}\n",
       "\\text{between the independent and dependent variables. While an inflexible model, like say linear regression, will capture the general}\n",
       "\\end{equation}\n",
       "\\begin{equation}\n",
       "\\text{trend, it will have higher error while a flexible model, like say polynomial regression will capture the distribution better.}\n",
       "\\end{equation}\n"
      ],
      "text/plain": [
       "<IPython.core.display.Latex object>"
      ]
     },
     "metadata": {},
     "output_type": "display_data"
    }
   ],
   "source": [
    "%%latex\n",
    "\\begin{equation}\n",
    "\\text{For the first case, both types of models will converge. Depending on the data, however, the inflexible model may underfit}\n",
    "\\end{equation}\n",
    "\\begin{equation}\n",
    "\\text{while the flexible model may overfit based on the bias-variance tradeoff. It is better suited to use the inflexible models.}\n",
    "\\end{equation}\n",
    "\\begin{equation}\n",
    "\\text{For instance, with a linear trend in the data, if one uses an inflexible model like linear regression, that would capture the}\n",
    "\\end{equation}\n",
    "\\begin{equation}\n",
    "\\text{distribution well, while a flexible model like splines would lead to overfitting}\n",
    "\\end{equation}\n",
    "\\begin{equation}\n",
    "\\end{equation}\n",
    "\\begin{equation}\n",
    "\\text{In the second case, while both models have a lower chance of convergence due to less data (underfitting side,}\n",
    "\\end{equation}\n",
    "\\begin{equation}\n",
    "\\text{in the bias-variance tradeoff), the inflexible model will perform better. Here, the inflexible model could weakly}\n",
    "\\end{equation}\n",
    "\\begin{equation}\n",
    "\\text{capture the trend, while the flexible model would still be trying to converge}\n",
    "\\end{equation}\n",
    "\\begin{equation}\n",
    "\\end{equation}\n",
    "\\begin{equation}\n",
    "\\text{For the last part, it is expected that the flexible model would perform better than the inflexible model, since the flexible model}\n",
    "\\end{equation}\n",
    "\\begin{equation}\n",
    "\\text{will be able to capture more of the non-linear relationship. In terms of the bias-variance tradeoff, it is expected that the inflexible}\n",
    "\\end{equation}\n",
    "\\begin{equation}\n",
    "\\text{model will be underfitting while the other one could give an optimal fit. This can be understood by assuming an exponential relation}\n",
    "\\end{equation}\n",
    "\\begin{equation}\n",
    "\\text{between the independent and dependent variables. While an inflexible model, like say linear regression, will capture the general}\n",
    "\\end{equation}\n",
    "\\begin{equation}\n",
    "\\text{trend, it will have higher error while a flexible model, like say polynomial regression will capture the distribution better.}\n",
    "\\end{equation}"
   ]
  }
 ],
 "metadata": {
  "kernelspec": {
   "display_name": "Python 3 (ipykernel)",
   "language": "python",
   "name": "python3"
  },
  "language_info": {
   "codemirror_mode": {
    "name": "ipython",
    "version": 3
   },
   "file_extension": ".py",
   "mimetype": "text/x-python",
   "name": "python",
   "nbconvert_exporter": "python",
   "pygments_lexer": "ipython3",
   "version": "3.9.13"
  }
 },
 "nbformat": 4,
 "nbformat_minor": 5
}
