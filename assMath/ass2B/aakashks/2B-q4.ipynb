{
 "cells": [
  {
   "attachments": {},
   "cell_type": "markdown",
   "metadata": {},
   "source": [
    "Q4\n",
    "\n",
    "A. flexible\n",
    "- larger datasets would have complex patterns which need a more flexible model\n",
    "- the variance of a flexible model will be much less for such a data\n",
    "- inflexible model will have high bias\n",
    "\n",
    "B. inflexible\n",
    "- in such a data flexible models are likely to overfit\n",
    "- inflexible model will generalize well and not overfit\n",
    "- flexible model will have high variance\n",
    "\n",
    "C. flexible\n",
    "- non-linear data will need complex and flexible methods\n",
    "- infexible models will have high bias"
   ]
  }
 ],
 "metadata": {
  "kernelspec": {
   "display_name": "myEnv",
   "language": "python",
   "name": "python3"
  },
  "language_info": {
   "codemirror_mode": {
    "name": "ipython",
    "version": 3
   },
   "file_extension": ".py",
   "mimetype": "text/x-python",
   "name": "python",
   "nbconvert_exporter": "python",
   "pygments_lexer": "ipython3",
   "version": "3.11.3"
  },
  "orig_nbformat": 4
 },
 "nbformat": 4,
 "nbformat_minor": 2
}
