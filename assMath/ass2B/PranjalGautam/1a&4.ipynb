{
 "cells": [
  {
   "attachments": {},
   "cell_type": "markdown",
   "metadata": {},
   "source": [
    "## 1a\n",
    "When we talk about $p(y|x)$, we need to find some estimate of y given the different values of x. We can achieve this by using the mean of $p(y|x)$ (the expectation of y given x) to find out the most likely value of y given the input x. It acts as a n unbiased and consistent estimator of the true mean."
   ]
  },
  {
   "attachments": {},
   "cell_type": "markdown",
   "metadata": {},
   "source": [
    "## 4\n",
    "### a.\n",
    "When we have a lot of data points to work with and the number of predictors is small, a flexible statistical learning  method is expected to perform better than an inflexible one. As the number of data points is large, it can easily find the true pattern and any noise can easily be offset by the number of samples. However, it might overfit the trainset and fail to provide accurate predictions on new data. We expect the model to have low bias (high if the model was overfit to the training set) and rvery low variance.\n",
    "### b.\n",
    "When the number of points are small, it generally becomes harder for flexible learning models to provide reliable results, they might not be able to estimate the true values and might overfit to the data very quickly. It becomes very hard to estimate the true values because the model will be much more prone to noise in the data due to the high number of predictors. We expect the model to have high bias and low variance.\n",
    "### c.\n",
    "If the relationship between the predictors and response variable is highly non linear and complex, we expect a flexible model to work better than an inflexible one. Flexible models are generally better at recogonising more complex relationships, and can use approximation to get a decent estimate of the response. Considering the biar variance tradeoff, we expect the model to be able to find the patterns and thus have a relatively low bias (again if we assume the model is not fitting the training set) however the variance in the predictions might be higher due to the complex nature of the model."
   ]
  }
 ],
 "metadata": {
  "language_info": {
   "name": "python"
  },
  "orig_nbformat": 4
 },
 "nbformat": 4,
 "nbformat_minor": 2
}
