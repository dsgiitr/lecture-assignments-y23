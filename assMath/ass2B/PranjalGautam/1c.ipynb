{
 "cells": [
  {
   "cell_type": "code",
   "execution_count": 2,
   "metadata": {},
   "outputs": [],
   "source": [
    "import numpy as np"
   ]
  },
  {
   "cell_type": "code",
   "execution_count": 3,
   "metadata": {},
   "outputs": [],
   "source": [
    "list2=np.random.exponential(20,100)"
   ]
  },
  {
   "cell_type": "code",
   "execution_count": 4,
   "metadata": {},
   "outputs": [],
   "source": [
    "list1=np.random.normal(0,0.5,100)"
   ]
  },
  {
   "cell_type": "code",
   "execution_count": 5,
   "metadata": {},
   "outputs": [],
   "source": [
    "list1+=list2\n",
    "list1.sort()\n",
    "# list1 is our final database where x follows some exponential distribution E(theta)\n",
    "# we will estimate theta using gradient descent"
   ]
  },
  {
   "cell_type": "code",
   "execution_count": 6,
   "metadata": {},
   "outputs": [],
   "source": [
    "# y=(1/b)e^(-x/b), take 1/b as w,\n",
    "#y=prod(we^(-wxi))\n",
    "#log(y)=sum(log(w)-wxi)\n",
    "#dlog(y)/dw=n/w-sum(xi)\n",
    "#we use this as the loss function for gradient descent\n",
    "#Now we define the function\n",
    "def gradient_descent(x,w,L):\n",
    "    grad_w=-len(x)/w\n",
    "    for i in x:\n",
    "        grad_w+=i\n",
    "    if(grad_w<0):\n",
    "        L*=10\n",
    "    return max(w-grad_w*L,0.0001)"
   ]
  },
  {
   "cell_type": "code",
   "execution_count": 7,
   "metadata": {},
   "outputs": [],
   "source": [
    "w=1 #initial value\n",
    "L=0.00001 #learning rate\n",
    "epochs=100000"
   ]
  },
  {
   "cell_type": "code",
   "execution_count": 8,
   "metadata": {},
   "outputs": [],
   "source": [
    "for i in range(epochs):\n",
    "    w=gradient_descent(list1,w,L)"
   ]
  },
  {
   "cell_type": "code",
   "execution_count": 9,
   "metadata": {},
   "outputs": [
    {
     "data": {
      "text/plain": [
       "0.05008954922152509"
      ]
     },
     "execution_count": 9,
     "metadata": {},
     "output_type": "execute_result"
    }
   ],
   "source": [
    "w"
   ]
  },
  {
   "cell_type": "markdown",
   "metadata": {},
   "source": [
    "### Here is a list of theta and w(predicted value of 1/theta)\n",
    "$\\theta\\space\\space\\space\\space\\space\\space\\space\\space\\space\\space w$\\\n",
    "$10\\space\\space\\space\\space\\space\\space\\space 0.09462341857288536$\\\n",
    "$0.1 \\space\\space\\space\\space\\space 9.130099007007797$\\\n",
    "$0.2\\space\\space\\space\\space\\space 4.922704924280886$\\\n",
    "$5\\space\\space\\space\\space\\space\\space\\space\\space 0.19044194086134064$\\\n",
    "for the final test using a high theta and some noise\\\n",
    "$20\\space\\space\\space\\space\\space 0.045793632194344173$"
   ]
  }
 ],
 "metadata": {
  "kernelspec": {
   "display_name": "Python 3",
   "language": "python",
   "name": "python3"
  },
  "language_info": {
   "codemirror_mode": {
    "name": "ipython",
    "version": 3
   },
   "file_extension": ".py",
   "mimetype": "text/x-python",
   "name": "python",
   "nbconvert_exporter": "python",
   "pygments_lexer": "ipython3",
   "version": "3.11.1"
  },
  "orig_nbformat": 4
 },
 "nbformat": 4,
 "nbformat_minor": 2
}
