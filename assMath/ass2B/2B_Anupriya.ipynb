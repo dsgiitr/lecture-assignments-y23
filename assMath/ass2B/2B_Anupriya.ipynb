{
  "cells": [
    {
      "cell_type": "markdown",
      "metadata": {
        "id": "xdivz28Z6L02"
      },
      "source": [
        "### __Assigment 2B__\n",
        "#### __Question 1(a)__\n",
        "\n",
        "For a given distribution $p(y|x)$ that is the distribution of the outcome $y$ given the data $x$, we usually estimate mean because mean gives us the expected value of $y$ given a certain $x$. It helps us realise the central value around which we can expect $y$ to be."
      ]
    },
    {
      "cell_type": "markdown",
      "metadata": {
        "id": "SqIZ6ebklw1G"
      },
      "source": [
        "####__Question 1(b)__\n",
        "So, for vanilla linear regression, we have the following if $\\hat{y}$ is the predicted outcome by the model and $textbf{w}$ is the vector of parameters (weights) then,\n",
        "\n",
        "$\\hat{y}= \\textbf{w}^\\textbf{T}.\\textbf{x}$\n",
        "\n",
        "So our task is to be able to define such a $\\hat{y}$, or in other words, find the required $\\textbf{w}$. Since this is vanilla linear regression, there is just one independent variable $x$, hence just one parameter (weight), $w$.\n",
        "To do so, we'll be using MSE here, so,\n",
        "\n",
        "$\\nabla_wMSE_{train}=0 $, which ultimately gives,\n",
        "\n",
        "$w=(X^TX)^{-1}X^Ty$\n",
        "\n",
        "after some linear algebra jazz that is too much to type here (from Goodfellow page 108,109)\n",
        "\n",
        "where, for us, $X$ is the design matrix (which, in our simple case is just the transpose of the vector $\\textbf{x}$ itself since there is just one value of x per training dataset pair, $X=[-x^T-]$) and $y$ is a vector of all target values from the training set. So, one thing to note is that $X^TX$ is just a single value and it's inverse is simply $\\frac{1}{X^TX}$.\n",
        "\n",
        "Now, we've been given that $p(y|x) \\sim N(y:\\mu,\\sigma)$ where $\\mu=w*x$ and $\\sigma=I$.\n",
        "\n",
        "So, assuming we generate a dataset that follows such a distribution, we need $x$, which will just be a bunch of single values from a distribution (not specified, could be anything we want so let's take $N(0,1)$, we need a true value of $w$ that we will decide randomly and we need to find the corresponding $y$ which has a mean vector $w*x$ and covariance matrix (size n*n) equal to $I$, which will give us our required dataset. After this, we can use the above relation to estimate $w$ and that should be close to the true value of $w$.\n",
        "\n",
        "We could, like before, just define the loss function and minimise it using Scipy. So. we'll also try that."
      ]
    },
    {
      "cell_type": "code",
      "execution_count": null,
      "metadata": {
        "colab": {
          "base_uri": "https://localhost:8080/"
        },
        "id": "CpnDWH9DLg6K",
        "outputId": "54aa8b31-dd50-450f-8e72-912bd98cc6b5"
      },
      "outputs": [
        {
          "name": "stdout",
          "output_type": "stream",
          "text": [
            "True value of parameter:  0.39942218451390976\n",
            "Estimated value of parameter, thanks to MSE:  0.38803774521035544\n",
            "Estimated value of parameter, thanks to Scipy:  0.388037742515314\n"
          ]
        }
      ],
      "source": [
        "import numpy as np\n",
        "from numpy import random\n",
        "\n",
        "n=1000\n",
        "x_mean=0\n",
        "x_sd=1\n",
        "X=np.random.normal(x_mean,x_sd,size=n)\n",
        "\"\"\"\n",
        "shape = 1000\n",
        "value = 1\n",
        "x_b = np.empty(shape, dtype=np.int)\n",
        "x_b.fill(value)\n",
        "X=np.column_stack((x, x_b))\n",
        "\n",
        "#print(X.shape) # matrix\n",
        "\"\"\"\n",
        "true_w=random.rand() # could be whatever we want technically\n",
        "print(\"True value of parameter: \",true_w)\n",
        "\n",
        "y_mean=true_w*X\n",
        "y_covariance=np.eye(n)\n",
        "y = np.random.multivariate_normal(y_mean, y_covariance)\n",
        "#print(y.shape) # also a vector\n",
        "\n",
        "#estimated_w=(np.linalg.inv(X.dot(X.T))).dot((X.T).dot(y))\n",
        "\n",
        "estimated_w=(np.power(X.dot(X.T),-1))*((X.T).dot(y))\n",
        "print(\"Estimated value of parameter, thanks to MSE: \",estimated_w)\n",
        "\n",
        "# hence we can now use the line y=w*x for our vanilla linear regression model\n",
        "\n",
        "# however, we should be able to solve for w without doing all the math, so let's try that\n",
        "\n",
        "from scipy.optimize import minimize\n",
        "\n",
        "def loss(w,X,y):\n",
        "  J=0\n",
        "  for i in range(n):\n",
        "    J+=0.5*(np.power((w*X[i]-y[i]),2))\n",
        "  return J\n",
        "initialparameters=1\n",
        "result = minimize(loss, initialparameters, args=(X,y), method='L-BFGS-B')\n",
        "estimated__w=result.x\n",
        "print(\"Estimated value of parameter, thanks to Scipy: \",estimated__w[0])\n",
        "\n"
      ]
    },
    {
      "cell_type": "markdown",
      "metadata": {
        "id": "zJ1STkI_RQfc"
      },
      "source": [
        "The choice of sigma here, that is the covariance, is basically telling us how varied our measurements are. So, in our final objective, which was minimising the squared error term, sigma is not exactly doing anything. The given value of sigma is just for generating the dataset we need. While applying MSE and minimising the function to obtain the corresponding $w$, we didn't really need sigma. So, parameterising sigma is not exactly going to do anything.\n",
        "\n",
        "Yes however, when we observe our predictions, then calculating it's sigma and comparing it to the true sigma can tell us how varied our predictions are."
      ]
    },
    {
      "cell_type": "markdown",
      "metadata": {
        "id": "eEvyl1JBREZf"
      },
      "source": [
        "#### __Question 1(c)__\n",
        "Having an exponential family distribution means the superpower of being able to appl GLMs (generalised linear models). Exponential families have distribution functions of the form,\n",
        "\n",
        "$f(x)=b(y)e^{\\eta^TT(y)-a(\\eta)}$\n",
        "\n",
        "So, let's choose Poisson distribution. We wanna obtain $b(y), T(y), a(\\eta)$ and $\\eta$ itself by observing the poisson distribution function,\n",
        "\n",
        "$f(x)=\\frac{\\lambda^y.e^{(-\\lambda)}}{y!}$, which can be rewritten as\n",
        "\n",
        "$f(x)=e^{y.ln(\\lambda)-\\lambda-ln(y!)}$\n",
        "\n",
        "So,\n",
        "\n",
        "$\\eta=ln(\\lambda)$ and $T(y)=y$, at least that is easy to see.\n",
        "\n",
        "Further for poisson distribution, $\\mu=\\lambda$ and $\\sigma^2=\\lambda$\n",
        "\n",
        "Now, to construct a GLM, we want to predict the expected value of $T(y)$ given $x$. So, we are looking for a prediction $h(x)=E(y|x)$. Further $\\eta$ and $x$ are related by $\\eta=w^Tx$, where $w$ is our unknown parameter.\n",
        "\n",
        "Here, $h(x)=E(y|x)=\\mu=\\lambda=w^Tx$\n",
        "\n",
        "The problem is that, by definition and usage, $\\lambda$ is always greater than or equal to $0$ and a linear relationship like $\\lambda=w^Tx$ doesn't seem nice.So, instead, we can use the relationship,\n",
        "\n",
        "$ln(\\lambda_i)=w^Tx$\n",
        "\n",
        "$=\n",
        "\\begin{pmatrix}\n",
        "w_0\\;w_1\n",
        "\\end{pmatrix}\n",
        "\\times\n",
        "\\begin{pmatrix}\n",
        "1\\\\\n",
        "x_i\n",
        "\\end{pmatrix}\n",
        "$\n",
        "\n",
        "Such that, $\\lambda_i=e^{w_0+w_1x_i}$\n",
        "\n",
        "So, what we are trying to estimate are these unknown parameters with the help of this relationship between $\\lambda$, $w$ and $x$.\n",
        "We need to define a loss function, then minimise it to get the desired unknown parameters. Again, problem is that this is no more gaussian! But we do know that we get the same results by minimising loss function as we do by maximising the likelihood function. So, we'll have to go by that approach.\n",
        "Ultimately, we'll be minimising the negative log-likelihood function, so in a way, that's going to be like our loss function.\n"
      ]
    },
    {
      "cell_type": "code",
      "execution_count": null,
      "metadata": {
        "colab": {
          "base_uri": "https://localhost:8080/"
        },
        "id": "tUOV4XHosr0_",
        "outputId": "c0b4aee4-a5df-44bb-a735-187641bc8f98"
      },
      "outputs": [
        {
          "name": "stdout",
          "output_type": "stream",
          "text": [
            "True value of parameters:  0.5468524318685486 , 0.9830005256800832\n",
            "Estimated value of parameter, thanks to Scipy:  0.49062509412517374 , 1.0114374335545537\n"
          ]
        }
      ],
      "source": [
        "import numpy as np\n",
        "from numpy import random\n",
        "\n",
        "def log_likelihood_poisson(w,X,y):\n",
        "  L=0\n",
        "  for i in range(1000):\n",
        "    c=np.exp(w[0]+w[1]*X[i])\n",
        "    p=c-y[i]*(np.log(c))\n",
        "    L+=p\n",
        "  return L\n",
        "\n",
        "# Let's generate a simple dataset corresponding to all the above stuff\n",
        "n=1000\n",
        "X=np.random.randn(n)\n",
        "w_0=random.rand() # could be whatever we want technically\n",
        "w_1=random.rand()\n",
        "print(\"True value of parameters: \",w_0,\",\",w_1)\n",
        "lambda_i=np.exp(w_0+w_1*X)\n",
        "y=np.random.poisson(lambda_i)\n",
        "\n",
        "\n",
        "initialparameters=np.array([1,1]) # let's say\n",
        "result = minimize(log_likelihood_poisson, initialparameters, args=(X,y), method='L-BFGS-B')\n",
        "estimated__w=result.x\n",
        "print(\"Estimated value of parameter, thanks to Scipy: \",estimated__w[0], \",\",estimated__w[1])\n",
        "\n"
      ]
    },
    {
      "cell_type": "markdown",
      "metadata": {
        "id": "Zn0Xk9m938r5"
      },
      "source": [
        "#### __Question 2__\n",
        "\n",
        "Firstly, the dataset is on my drive so path should be changed accordingly in order to run this code.\n"
      ]
    },
    {
      "cell_type": "code",
      "execution_count": null,
      "metadata": {
        "colab": {
          "base_uri": "https://localhost:8080/"
        },
        "id": "WYDvdI2D3u9h",
        "outputId": "c58e9675-6f83-470e-bec5-3b4a87391795"
      },
      "outputs": [
        {
          "name": "stdout",
          "output_type": "stream",
          "text": [
            "Mounted at /content/drive\n"
          ]
        }
      ],
      "source": [
        "from google.colab import drive\n",
        "drive.mount('/content/drive')"
      ]
    },
    {
      "cell_type": "code",
      "execution_count": null,
      "metadata": {
        "colab": {
          "base_uri": "https://localhost:8080/",
          "height": 1000
        },
        "id": "ExqUDGVV-HO2",
        "outputId": "60cbaf3a-0bc3-46a5-ca55-e2662f2564ea"
      },
      "outputs": [
        {
          "name": "stdout",
          "output_type": "stream",
          "text": [
            "Mean Squared Error (MODEL A) (Test Set A): 22.25770734371434\n",
            "Mean Squared Error (MODEL A) (Test Set B): 2.5616550522775925\n",
            "Mean Squared Error (MODEL A) (Test Set C): 0.062457236803248974\n",
            "Mean Squared Error (MODEL B) (Test Set A): 32.73219379378818\n",
            "Mean Squared Error (MODEL B) (Test Set B): 1.9577195262268569e-25\n",
            "Mean Squared Error (MODEL B) (Test Set C): 2.6140814129669656\n",
            "Mean Squared Error (MODEL C) (Test Set A): 16.15674668223636\n",
            "Mean Squared Error (MODEL C) (Test Set B): 15.774197648432851\n",
            "Mean Squared Error (MODEL C) (Test Set C): 5.699794881410673\n",
            "Minimum error:  1.9577195262268569e-25\n"
          ]
        },
        {
          "data": {
            "image/png": "[encoded data removed]",
            "text/plain": [
              "<Figure size 1000x600 with 1 Axes>"
            ]
          },
          "metadata": {},
          "output_type": "display_data"
        },
        {
          "name": "stdout",
          "output_type": "stream",
          "text": [
            "Error Distribution (MODEL A) (Test Set A): Mean = 22.25770734371434 Standard Deviation = 53.96589716508258\n",
            "Error Distribution (MODEL A) (Test Set B): Mean = 2.5616550522775925 Standard Deviation = 0.0022966488099699024\n",
            "Error Distribution (MODEL A) (Test Set C): Mean = 0.062457236803248974 Standard Deviation = 0.08652385376675549\n"
          ]
        },
        {
          "data": {
            "image/png": "[encoded data removed]",
            "text/plain": [
              "<Figure size 1000x600 with 1 Axes>"
            ]
          },
          "metadata": {},
          "output_type": "display_data"
        },
        {
          "name": "stdout",
          "output_type": "stream",
          "text": [
            "Error Distribution (MODEL B) (Test Set A): Mean = 32.73219379378818 Standard Deviation = 65.61751153849882\n",
            "Error Distribution (MODEL B) (Test Set B): Mean = 1.9577195262268569e-25 Standard Deviation = 1.892899978318431e-25\n",
            "Error Distribution (MODEL B) (Test Set C): Mean = 2.6140814129669656 Standard Deviation = 0.8034601498911891\n"
          ]
        },
        {
          "data": {
            "image/png": "[encoded data removed]",
            "text/plain": [
              "<Figure size 1000x600 with 1 Axes>"
            ]
          },
          "metadata": {},
          "output_type": "display_data"
        },
        {
          "name": "stdout",
          "output_type": "stream",
          "text": [
            "Error Distribution (MODEL C) (Test Set A): Mean = 16.15674668223636 Standard Deviation = 38.162560581973146\n",
            "Error Distribution (MODEL C) (Test Set B): Mean = 15.774197648432851 Standard Deviation = 0.03993390753228745\n",
            "Error Distribution (MODEL C) (Test Set C): Mean = 5.699794881410673 Standard Deviation = 1.1902720177778146\n"
          ]
        }
      ],
      "source": [
        "import numpy as np\n",
        "import pandas as pd\n",
        "from sklearn.linear_model import LinearRegression\n",
        "from sklearn.metrics import mean_squared_error\n",
        "import matplotlib.pyplot as plt\n",
        "\n",
        "ds_trainA = pd.read_csv('/content/drive/MyDrive/Q2/train_set_A.csv')\n",
        "ds_trainB = pd.read_csv('/content/drive/MyDrive/Q2/train_set_B.csv')\n",
        "ds_trainC = pd.read_csv('/content/drive/MyDrive/Q2/train_set_C.csv')\n",
        "ds_testA = pd.read_csv('/content/drive/MyDrive/Q2/test_set_A.csv')\n",
        "ds_testB = pd.read_csv('/content/drive/MyDrive/Q2/test_set_B.csv')\n",
        "ds_testC = pd.read_csv('/content/drive/MyDrive/Q2/test_set_C.csv')\n",
        "\n",
        "x_train_A, y_train_A = ds_trainA[['x']], ds_trainA['y']\n",
        "x_train_B, y_train_B = ds_trainB[['x']], ds_trainB['y']\n",
        "x_train_C, y_train_C = ds_trainC[['x']], ds_trainC['y']\n",
        "x_test_A, y_test_A = ds_testA[['x']], ds_testA['y']\n",
        "x_test_B, y_test_B = ds_testB[['x']], ds_testB['y']\n",
        "x_test_C, y_test_C = ds_testC[['x']], ds_testC['y']\n",
        "\n",
        "model_A = LinearRegression().fit(x_train_A, y_train_A)\n",
        "model_B = LinearRegression().fit(x_train_B, y_train_B)\n",
        "model_C = LinearRegression().fit(x_train_C, y_train_C)\n",
        "\n",
        "\n",
        "# now since it's not necessary for train set A and test set A to come from the same distribution\n",
        "# in order to find the actual data distribution, we'll have to see which train and test set pair\n",
        "# has the least MSE, that pair would be the one coming from the actual distribution\n",
        "\n",
        "mse_AA= mean_squared_error(y_test_A, model_A.predict(x_test_A))\n",
        "mse_AB= mean_squared_error(y_test_B, model_A.predict(x_test_A))\n",
        "mse_AC= mean_squared_error(y_test_C, model_A.predict(x_test_A))\n",
        "\n",
        "mse_BA = mean_squared_error(y_test_A, model_B.predict(x_test_B))\n",
        "mse_BB = mean_squared_error(y_test_B, model_B.predict(x_test_B))\n",
        "mse_BC = mean_squared_error(y_test_C, model_B.predict(x_test_B))\n",
        "\n",
        "mse_CA = mean_squared_error(y_test_A, model_C.predict(x_test_C))\n",
        "mse_CB = mean_squared_error(y_test_B, model_C.predict(x_test_C))\n",
        "mse_CC = mean_squared_error(y_test_C, model_C.predict(x_test_C))\n",
        "\n",
        "print(\"Mean Squared Error (MODEL A) (Test Set A):\", mse_AA)\n",
        "print(\"Mean Squared Error (MODEL A) (Test Set B):\", mse_AB)\n",
        "print(\"Mean Squared Error (MODEL A) (Test Set C):\", mse_AC)\n",
        "\n",
        "print(\"Mean Squared Error (MODEL B) (Test Set A):\", mse_BA)\n",
        "print(\"Mean Squared Error (MODEL B) (Test Set B):\", mse_BB)\n",
        "print(\"Mean Squared Error (MODEL B) (Test Set C):\", mse_BC)\n",
        "\n",
        "print(\"Mean Squared Error (MODEL C) (Test Set A):\", mse_CA)\n",
        "print(\"Mean Squared Error (MODEL C) (Test Set B):\", mse_CB)\n",
        "print(\"Mean Squared Error (MODEL C) (Test Set C):\", mse_CC)\n",
        "\n",
        "errors=np.array([mse_AA,mse_AB,mse_AC,mse_BA,mse_BB,mse_BC,mse_CA,mse_CB,mse_CC])\n",
        "min_error=np.min(errors)\n",
        "print(\"Minimum error: \",min_error)\n",
        "\n",
        "# clearly it's train and test set B that comes from the original distribution\n",
        "\n",
        "# now let's plot stuff\n",
        "\n",
        "error_AA = np.power((y_test_A - model_A.predict(x_test_A)),2)\n",
        "error_AB = np.power((y_test_B - model_A.predict(x_test_B)),2)\n",
        "error_AC = np.power((y_test_C - model_A.predict(x_test_C)),2)\n",
        "\n",
        "error_BA = np.power((y_test_A - model_B.predict(x_test_A)),2)\n",
        "error_BB = np.power((y_test_B - model_B.predict(x_test_B)),2)\n",
        "error_BC = np.power((y_test_C - model_B.predict(x_test_C)),2)\n",
        "\n",
        "error_CA = np.power((y_test_A - model_C.predict(x_test_A)),2)\n",
        "error_CB = np.power((y_test_B - model_C.predict(x_test_B)),2)\n",
        "error_CC = np.power((y_test_C - model_C.predict(x_test_C)),2)\n",
        "\n",
        "\n",
        "# model A\n",
        "plt.figure(figsize=(10, 6))\n",
        "plt.hist(error_AA, bins='auto', alpha=0.7, label='Test Set A')\n",
        "plt.hist(error_AB, bins='auto', alpha=0.7, label='Test Set B')\n",
        "plt.hist(error_AC, bins='auto', alpha=0.7, label='Test Set C')\n",
        "plt.xlabel('Error')\n",
        "plt.ylabel('Frequency')\n",
        "plt.title('Error Distribution Model A')\n",
        "plt.legend()\n",
        "plt.show()\n",
        "\n",
        "distribution_AA = np.mean(error_AA), np.std(error_AA)\n",
        "distribution_AB = np.mean(error_AB), np.std(error_AB)\n",
        "distribution_AC = np.mean(error_AC), np.std(error_AC)\n",
        "\n",
        "print(\"Error Distribution (MODEL A) (Test Set A): Mean =\", distribution_AA[0], \"Standard Deviation =\", distribution_AA[1])\n",
        "print(\"Error Distribution (MODEL A) (Test Set B): Mean =\", distribution_AB[0], \"Standard Deviation =\", distribution_AB[1])\n",
        "print(\"Error Distribution (MODEL A) (Test Set C): Mean =\", distribution_AC[0], \"Standard Deviation =\", distribution_AC[1])\n",
        "\n",
        "# model B\n",
        "\n",
        "plt.figure(figsize=(10, 6))\n",
        "plt.hist(error_BA, bins='auto', alpha=0.7, label='Test Set A')\n",
        "plt.hist(error_BB, bins='auto', alpha=0.7, label='Test Set B')\n",
        "plt.hist(error_BC, bins='auto', alpha=0.7, label='Test Set C')\n",
        "plt.xlabel('Error')\n",
        "plt.ylabel('Frequency')\n",
        "plt.title('Error Distribution Model B')\n",
        "plt.legend()\n",
        "plt.show()\n",
        "\n",
        "distribution_BA = np.mean(error_BA), np.std(error_BA)\n",
        "distribution_BB = np.mean(error_BB), np.std(error_BB)\n",
        "distribution_BC = np.mean(error_BC), np.std(error_BC)\n",
        "\n",
        "print(\"Error Distribution (MODEL B) (Test Set A): Mean =\", distribution_BA[0], \"Standard Deviation =\", distribution_BA[1])\n",
        "print(\"Error Distribution (MODEL B) (Test Set B): Mean =\", distribution_BB[0], \"Standard Deviation =\", distribution_BB[1])\n",
        "print(\"Error Distribution (MODEL B) (Test Set C): Mean =\", distribution_BC[0], \"Standard Deviation =\", distribution_BC[1])\n",
        "\n",
        "# model C\n",
        "\n",
        "plt.figure(figsize=(10, 6))\n",
        "plt.hist(error_CA, bins='auto', alpha=0.7, label='Test Set A')\n",
        "plt.hist(error_CB, bins='auto', alpha=0.7, label='Test Set B')\n",
        "plt.hist(error_CC, bins='auto', alpha=0.7, label='Test Set C')\n",
        "plt.xlabel('Error')\n",
        "plt.ylabel('Frequency')\n",
        "plt.title('Error Distribution Model C')\n",
        "plt.legend()\n",
        "plt.show()\n",
        "\n",
        "distribution_CA = np.mean(error_CA), np.std(error_CA)\n",
        "distribution_CB = np.mean(error_CB), np.std(error_CB)\n",
        "distribution_CC = np.mean(error_CC), np.std(error_CC)\n",
        "\n",
        "print(\"Error Distribution (MODEL C) (Test Set A): Mean =\", distribution_CA[0], \"Standard Deviation =\", distribution_CA[1])\n",
        "print(\"Error Distribution (MODEL C) (Test Set B): Mean =\", distribution_CB[0], \"Standard Deviation =\", distribution_CB[1])\n",
        "print(\"Error Distribution (MODEL C) (Test Set C): Mean =\", distribution_CC[0], \"Standard Deviation =\", distribution_CC[1])\n",
        "\n",
        "# by comparing each of the parameters, we can see how mean and standard deviation are also lowest for train and test set B pair.\n",
        "# test set A always has the highest error for each model\n",
        "# further, test set A gives least error on model C, test set B on model B and test set C on model A\n",
        "# we can see the second least error is for model A on test set C\n",
        "\n",
        "# We can observe these plots and see how they're different, however I can't see what vital information we can obtain from this"
      ]
    },
    {
      "cell_type": "markdown",
      "metadata": {
        "id": "h-IYfEDyUQ7e"
      },
      "source": [
        "#### __Question 3__\n",
        "\n"
      ]
    },
    {
      "cell_type": "code",
      "execution_count": 125,
      "metadata": {
        "colab": {
          "base_uri": "https://localhost:8080/"
        },
        "id": "E9xIHA5vhr7y",
        "outputId": "3d385032-ad88-4d29-b05f-7e0c33c19529"
      },
      "outputs": [
        {
          "output_type": "stream",
          "name": "stdout",
          "text": [
            "True weights are, w0=  4  and w1=  3\n",
            "Maximum iterations reached.\n",
            "Weights estimated by Batch Gradient Descent are, w0=  3.114909961958382  and w1=  22.272814185384274\n",
            "Converged in  1  iterations.\n",
            "Weights estimated by Fisher Scoring are, w0=  2.501166396975581  and w1=  0.3212582200477815\n"
          ]
        }
      ],
      "source": [
        "from os import waitstatus_to_exitcode\n",
        "import numpy as np\n",
        "import matplotlib.pyplot as plt\n",
        "from sklearn.linear_model import LogisticRegression\n",
        "\n",
        "\n",
        "n=1000\n",
        "f=1\n",
        "x=np.random.normal(0, 1, (n,f))\n",
        "w0=4\n",
        "w1=3\n",
        "w=np.array([w0,w1])\n",
        "x_b=np.ones(n)\n",
        "x_new=np.column_stack((x_b,x))\n",
        "z=np.dot(x_new,w)\n",
        "p=1 / (1 + np.exp(-z))\n",
        "y=np.random.binomial(1, p)\n",
        "print(\"True weights are, w0= \",w0,\" and w1= \",w1)\n",
        "\n",
        "\n",
        "def loglikelihood(w0,w1,x,y):\n",
        "  LL=0\n",
        "  m=x.shape[0]\n",
        "  for i in range(m):\n",
        "    z=w0+w1*x[i]\n",
        "    p=1/(1+np.exp(-z))\n",
        "    LL+=y[i]*(np.log(p))+(1-y[i])*(np.log(1-p))\n",
        "  return LL\n",
        "\n",
        "def cost_function(w0,w1,x, y):\n",
        "  m=x.shape[0]\n",
        "  C=0\n",
        "  for i in range(m):\n",
        "    z=w0+w1*x[i]\n",
        "    p=1 / (1 + np.exp(-z))\n",
        "    C+= np.power((p-y[i]),2)\n",
        "  return C\n",
        "\n",
        "def batchgradientdescent(w0,w1,x,y,l,i,c):\n",
        "  converged=False\n",
        "  i_current=0\n",
        "  m=x.shape[0]\n",
        "  m=x.shape[0]\n",
        "  J=0\n",
        "  for i in range(m):\n",
        "    z__=w0+w1*x[i]\n",
        "    p__=1 / (1 + np.exp(-z__))\n",
        "    J+= np.power((p__-y[i]),2)\n",
        "\n",
        "  while not converged:\n",
        "\n",
        "    w=np.array([w0,w1])\n",
        "    x_b=np.ones(m)\n",
        "    x_new=np.column_stack((x_b,x))\n",
        "    z=np.dot(x_new,w)\n",
        "    p=1/(1+np.exp(-z))\n",
        "\n",
        "    update0=np.sum((1/m)*(p-y))\n",
        "    update1=np.sum((1/m)*((p-y)*x))\n",
        "\n",
        "    temp_w0=w0-l*update0\n",
        "    temp_w1=w1-l*update1\n",
        "\n",
        "    w0=temp_w0\n",
        "    w1=temp_w1\n",
        "\n",
        "    e=0\n",
        "    for i in range(m):\n",
        "      z_=w0+w1*x[i]\n",
        "      p_=1 / (1 + np.exp(-z_))\n",
        "      e+= np.power((p_-y[i]),2)\n",
        "    if abs(J-e)<=c:\n",
        "      print(\"Converged in: \",i_current,\" iterations.\")\n",
        "      converged=True\n",
        "\n",
        "    J=e\n",
        "    i_current+=1\n",
        "\n",
        "    if i_current==i:\n",
        "      print(\"Maximum iterations reached.\")\n",
        "      converged=True\n",
        "  return w0,w1\n",
        "\n",
        "bgd_estimated_w0,bgd_estimated_w1=batchgradientdescent(0,0,x,y,0.01,5000,0.0001)\n",
        "print(\"Weights estimated by Batch Gradient Descent are, w0= \",bgd_estimated_w0,\" and w1= \",bgd_estimated_w1)\n",
        "\n",
        "# I can't figure out why it's giving such a shitty results? :( Sometimes it's giving a reasonable value and sometimes it's just absurd (especially w1), there's no consistency\n",
        "\n",
        "def fisherscoring(X,Y,c):\n",
        "\n",
        "  # desgin matrix X\n",
        "\n",
        "  # response vector is y as usual, written as Y\n",
        "\n",
        "  # probability vector p\n",
        "  w_initial=np.matrix(np.ones(np.shape(X)[1])).T\n",
        "  z = np.dot(X,w_initial)\n",
        "  p_initial=1/(1+np.exp(-z))\n",
        "\n",
        "  # weight matrix\n",
        "  W_= (np.array(p_initial) * np.array(1 - p_initial))\n",
        "  W= np.matrix(np.diag(W_[:, 0]))\n",
        "\n",
        "  # c is the threshold value above which iterations continue\n",
        "  c=0.001\n",
        "\n",
        "  #First derivative of Log-Likelihood with respect to each weight\n",
        "  U=(X.T)*(Y-p_initial)\n",
        "\n",
        "  # Second derivative of Log-Likelihood with respect to each weight\n",
        "  H=(X.T)*(W)*X\n",
        "\n",
        "  i_current=0\n",
        "  while True:\n",
        "    i_current+=1\n",
        "    w_current=w_initial+ (np.linalg.inv(H))*U\n",
        "\n",
        "    if (np.abs(np.array(w_current)-np.array(w_initial)) < c).all:\n",
        "        model_parameters  = w_current\n",
        "        break\n",
        "    else:\n",
        "      z=np.dot(X,w_current)\n",
        "      p_initial=1/(1+np.exp(-z))\n",
        "      W_ = (np.array(p_initial) * np.array(1 - p_initial))\n",
        "      W = np.matrix(np.diag(W_[:, 0]))\n",
        "      H= X.T * W * X\n",
        "      U= X.T * (Y - p_initial)\n",
        "      w_initial= w_current\n",
        "  print(\"Converged in \",i_current,\" iterations.\")\n",
        "  return np.array(model_parameters)\n",
        "\n",
        "fs_estimated_w0,fs_estimated_w1=fisherscoring(x_new,y,0.001)\n",
        "print(\"Weights estimated by Fisher Scoring are, w0= \",fs_estimated_w0[0],\" and w1= \",fs_estimated_w1[0])\n",
        "\n",
        "# again there's some issue in the value of w1 and weirdly, there's only one iteration happening? :(\n",
        "# gave up after a while cause everything seems absurd now ugh"
      ]
    },
    {
      "cell_type": "markdown",
      "source": [
        "#### __Question 4__\n",
        "\n",
        "a. The sample size n is extremely large, and the number of predictors p is small.\n",
        "\n",
        "The performance of a flexible model would be better. This is because n is extremely large, so we have a lot of information to learn from. This is good because the problem of overfitting reduces. Overfitting usually occurs when we use a flexible model for small n. That's not the case here, though. We have sufficient data to ensure we don't overfit. Besides the number of predictors (independent variables is small) so we have a simpler predictor-response relationship and more generalisation.\n",
        "For a flexible model, we usually have high variance and low bias. High variance will occur here if there is a very non-linear relationship between predictor (input) and the outcome (response). But with smaller number of features, we can expect a simpler model mostly, so the variance shouldn't be very high.\n",
        "\n",
        "b. The number of predictors p is extremely large, and the number of observations n is small.\n",
        "\n",
        "Now, here an inflexible model is better.\n",
        "Small n means the risk of overfitting is high with a flexible model. Plus, the number of predictors is extremely large, so that increases the risk because we have noise in the data. So, it's better we have an inflexible model such that we can have at least some generalisation.\n",
        "Inflexible model implies lower variance and high number of predictors implies the possibility of a complex relationship between response and predictors so we might have low bias. In case there is simple relation (as should be for an inflexible model), we can expect higher bias.\n",
        "\n",
        "c. The relationship between the predictors and response is highly non-linear.\n",
        "\n",
        "A flexible model is better since it can capture the intricacies of the non-linear relationship hence give more accurate results. An inflexible model will miss out most details. However, depending on the sample size, we might see overfitting of data.\n",
        "Highly flexible model means lower bias but higher variance."
      ],
      "metadata": {
        "id": "FWwl6GCEARkb"
      }
    }
  ],
  "metadata": {
    "colab": {
      "provenance": []
    },
    "kernelspec": {
      "display_name": "Python 3",
      "name": "python3"
    },
    "language_info": {
      "name": "python"
    }
  },
  "nbformat": 4,
  "nbformat_minor": 0
}