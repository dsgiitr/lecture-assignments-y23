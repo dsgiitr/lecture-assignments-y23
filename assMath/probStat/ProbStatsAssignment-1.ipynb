{
 "cells": [
  {
   "cell_type": "markdown",
   "id": "01b7058e",
   "metadata": {},
   "source": [
    "## Question 1\n",
    "\n",
    "we need to find distribution of $X$ given that $ X+Y=n$ i.e.\n",
    "$$P(X|(X+Y=n))$$\n",
    "Total Distribution of $ X+Y=n $\n",
    "$$P(X+Y=n)=\\sum_{k=0}^{n} P(X=k)P(Y=n-k) \\\n",
    "=e^{-(\\lambda+\\mu)}\\frac{(\\lambda+\\mu)^n}{n!}$$\n",
    "\n"
   ]
  },
  {
   "cell_type": "markdown",
   "id": "60e91d84",
   "metadata": {},
   "source": [
    "## Question 2\n",
    "\n",
    "$$P(X_n= \\frac{1}{n})=1-\\frac{1}{n^2}$$\n",
    "$$P(X_n=n)=\\frac{1}{n^2}$$\n",
    "\n",
    "as $n  \\to \\infty$ $$\\lim_{n \\to \\infty}P(X_n \\to \\infty)=0$$ and\n",
    "$$\\lim_{n \\to \\infty}P(X_n \\to 0)=1$$\n",
    "Therefore $X_n$ converges in probability to 0.\n",
    "\n",
    "$$ \\lim _{n \\to \\infty} P{(|X_n-0|)}\\ge \\epsilon)=0 \\ \\ \\  \\forall \\ \\ \\epsilon > 0 $$\n",
    "\n",
    "Does Quadratic Mean also converge to 0?\n",
    "$$E(X_n-X\n"
   ]
  },
  {
   "cell_type": "markdown",
   "id": "41d6809f",
   "metadata": {},
   "source": [
    " ## Question 3\n",
    " $$E(X)=\\int_{0}^{\\infty}P(X>x)dx$$\n",
    " integrating by parts we get,\n",
    " $$E(X)=[xP(X>x)]_{0}^{\\infty} -\\int_{0}^{\\infty}xP'(X>x)dx$$\n",
    "Using these two statements \n",
    " $$\\frac{d}{dx}P(X>x)=-P(X=x)$$\n",
    " $$\\lim_{x \\to \\infty}xP(X>x)=0$$\n",
    " $$E(X)=\\int _{0}^{\\infty}xP(X=x)dx$$"
   ]
  },
  {
   "cell_type": "markdown",
   "id": "90355772",
   "metadata": {},
   "source": [
    "## Question 4\n",
    "\n",
    "$$P(x)=\\mathcal{N}(x|\\mu,E)$$\n",
    "$$Q(x)=\\mathcal{N}(x|m,L)$$\n",
    "\\\n",
    "KL divergence between the two gaussians-\n",
    "$$D_{KL}(P||Q)=E_{x\\sim P}\\bigg[\\log \\frac{P(x)}{Q(x)}\\bigg]$$\n",
    "$$=\\int\\big[P(x)\\log P(x)-P(x)\\log Q(x)\\big]dx$$\n",
    "using $E(x^2)=1$ for standard normal distribution\n",
    "$$\\int P(x)\\log P(x)dx=-\\frac{1}{2}(1+\\log 2\\pi E^2)$$ \n",
    "\n",
    "Similarly,\n",
    "$$\\int P(x)\\log Q(x)dx=\\int p(x)\\log\\frac{1}{{(2\\pi L^2)}^{1/2}}e^{-\\frac{(x-m)^2}{2L^2}}dx$$\n",
    "\n",
    "$$=\\frac{1}{2}\\log{(2 \\pi L^2)}+\\int p(x)\\bigg( -\\frac{(x-m)^2}{2L^2}\\bigg) dx$$\n",
    "$$=\\frac{1}{2}\\log{(2 \\pi L^2)}+\\frac{\\int p(x)x^2dx -\\int p(x)2xmdx+\\int p(x)m^2dx}{2L^2}$$\n",
    "\n",
    "\n",
    "$$=\\frac{1}{2}\\log{(2 \\pi L^2)}+\\frac{\\langle x^2 \\rangle -2m \\langle x\\rangle +m^2}{2L^2}$$\n",
    "As,$\\langle x^2\\rangle=var(x)+\\langle x\\rangle^2$\n",
    "\n",
    "$$=\\frac{1}{2}\\log{(2 \\pi L^2)}+\\frac{E^2+{\\mu}^2 -2m \\mu +m^2}{2L^2}$$\n",
    "Putting those equations together\n",
    "$$D_{KL}(P||Q)=\\int\\big[P(x)\\log P(x)-P(x)\\log Q(x)\\big] dx$$\n",
    "$$=-\\frac{1}{2}(1+\\log 2\\pi E^2)-\\frac{1}{2}\\log{(2 \\pi L^2)}+\\frac{E^2+{(\\mu-m)}^2}{2L^2}$$\n",
    "$$=\\log \\frac{L}{E}+\\frac{E^2+{(\\mu-m)}^2}{2L^2}-\\frac{1}{2}$$\n"
   ]
  },
  {
   "cell_type": "markdown",
   "id": "2d9fb423",
   "metadata": {},
   "source": [
    "## Question 5\n",
    "\n"
   ]
  },
  {
   "cell_type": "markdown",
   "id": "c24389ca",
   "metadata": {},
   "source": [
    "## Question 6\n",
    "\n",
    "$$X\\sim Gamma(n,\\beta)$$\n",
    "$$X=\\sum_{i=1}^nY^{(i)}$$\n",
    "The random variable $X$ equals sum of $n$ i.i.d. random variable $Y^{(i)}$ where $Y^{(i)}\\sim Expo(\\beta)$ \\\n",
    "Given $n$ is large, we can use Central Limit Theorom\n",
    "\n",
    "$$Z_n=\\Big(\\frac{X-n\\mu}{\\sqrt n\\sigma} \\Big) \\sim \\mathcal{N}(0,1)$$\n",
    "where $\\mu$ is the $E(Y)$ of the Expo($\\beta$) distribution \\\n",
    "implies $E(\\sum_{i=1}^n Y)=E(X)=n\\mu=\\frac{n}{\\beta}$ \\\n",
    "And, $var(Y)={\\sigma}^2$ implies $var(X)=n{\\sigma}^2=\\frac{n}{{\\beta}^2}$ \\\n",
    "This way using sum of $n$ Exponential distributions, we can approximate $X\\sim Gamma(n,3)$ with a $\\mathcal{N}(\\frac{n}{3}, \\frac{n}{9})$"
   ]
  },
  {
   "cell_type": "code",
   "execution_count": null,
   "id": "ff15086a",
   "metadata": {},
   "outputs": [],
   "source": []
  }
 ],
 "metadata": {
  "kernelspec": {
   "display_name": "Python 3 (ipykernel)",
   "language": "python",
   "name": "python3"
  },
  "language_info": {
   "codemirror_mode": {
    "name": "ipython",
    "version": 3
   },
   "file_extension": ".py",
   "mimetype": "text/x-python",
   "name": "python",
   "nbconvert_exporter": "python",
   "pygments_lexer": "ipython3",
   "version": "3.10.9"
  }
 },
 "nbformat": 4,
 "nbformat_minor": 5
}
